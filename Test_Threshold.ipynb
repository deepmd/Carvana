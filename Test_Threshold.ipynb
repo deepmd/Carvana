{
 "cells": [
  {
   "cell_type": "markdown",
   "metadata": {},
   "source": [
    "# Test Threshold"
   ]
  },
  {
   "cell_type": "markdown",
   "metadata": {},
   "source": [
    "## Imports"
   ]
  },
  {
   "cell_type": "code",
   "execution_count": 1,
   "metadata": {},
   "outputs": [
    {
     "name": "stderr",
     "output_type": "stream",
     "text": [
      "Using TensorFlow backend.\n"
     ]
    }
   ],
   "source": [
    "from keras.layers.advanced_activations import PReLU\n",
    "from keras.optimizers import Adam\n",
    "import cv2\n",
    "import numpy as np\n",
    "import pandas as pd\n",
    "import matplotlib.pyplot as plt\n",
    "from sklearn.model_selection import train_test_split\n",
    "from models.u_net_heng import UNet_Heng\n",
    "from utilities import utils_masks as utils\n",
    "import random\n",
    "\n",
    "%load_ext autoreload\n",
    "%autoreload 2\n",
    "%matplotlib inline"
   ]
  },
  {
   "cell_type": "markdown",
   "metadata": {},
   "source": [
    "## Preparing"
   ]
  },
  {
   "cell_type": "code",
   "execution_count": 2,
   "metadata": {
    "scrolled": true
   },
   "outputs": [
    {
     "name": "stdout",
     "output_type": "stream",
     "text": [
      "Training on 4070 samples\n",
      "Validating on 1018 samples\n"
     ]
    }
   ],
   "source": [
    "input_size = 1024\n",
    "train_path = \"inputs/train/{}.jpg\" \n",
    "train_mask_path = \"inputs/train_masks/{}_mask.gif\"\n",
    "df_train = pd.read_csv('inputs/train_masks.csv')\n",
    "ids_train = df_train['img'].map(lambda s: s.split('.')[0])\n",
    "ids_train_split, ids_valid_split = train_test_split(ids_train, test_size=0.2, random_state=42)\n",
    "\n",
    "print('Training on {} samples'.format(len(ids_train_split)))\n",
    "print('Validating on {} samples'.format(len(ids_valid_split)))\n",
    "\n",
    "#bbox_file_path = 'inputs/train_bbox.csv'\n",
    "#bboxes = utils.get_bboxes(pred_bbox_file_path)\n",
    "\n",
    "def valid_generator(batch_size):\n",
    "    return utils.valid_generator(train_path, train_mask_path, ids_valid_split, input_size, batch_size, bboxes=None)"
   ]
  },
  {
   "cell_type": "markdown",
   "metadata": {},
   "source": [
    "## Create Model"
   ]
  },
  {
   "cell_type": "code",
   "execution_count": 3,
   "metadata": {
    "collapsed": true
   },
   "outputs": [],
   "source": [
    "#U-Net-Heng:\n",
    "model = UNet_Heng((input_size, input_size, 3))\n",
    "model.compile(Adam(), loss='binary_crossentropy')\n",
    "model.load_weights('weights/unet-heng-2017-09-16-0946.hdf5')"
   ]
  },
  {
   "cell_type": "markdown",
   "metadata": {},
   "source": [
    "## Validation"
   ]
  },
  {
   "cell_type": "code",
   "execution_count": 8,
   "metadata": {
    "collapsed": true
   },
   "outputs": [],
   "source": [
    "def np_dice_value(y_true, y_pred):\n",
    "    smooth = 1.\n",
    "    y_true_f = y_true.flatten()\n",
    "    y_pred_f = y_pred.flatten()\n",
    "    intersection = np.sum(y_true_f * y_pred_f)\n",
    "    return (2. * intersection + smooth) / (np.sum(y_true_f) + np.sum(y_pred_f) + smooth)\n",
    "\n",
    "def mean_dice_threshold(val_masks, val_pred_masks, thresholds):\n",
    "    mean_dices = []\n",
    "    max_mean_dice = 0\n",
    "    max_threshold = 0\n",
    "    for th in thresholds:\n",
    "        np_dice_values = np.array([np_dice_value(mask, pred_mask > th) for (mask, pred_mask) in zip(val_masks, val_pred_masks)])\n",
    "        mean_dice = np.mean(np_dice_values)\n",
    "        if mean_dice > max_mean_dice:\n",
    "            max_threshold = th\n",
    "            max_mean_dice = mean_dice\n",
    "        mean_dices.append(mean_dice)\n",
    "        print('mean dice: {0}   threshold: {1}'.format(mean_dice, th))\n",
    "    print('------------------------------------------------------')\n",
    "    print('maximum mean dice: {0}   threshold: {1}'.format(max_mean_dice, max_threshold))\n",
    "    return mean_dices"
   ]
  },
  {
   "cell_type": "markdown",
   "metadata": {},
   "source": [
    "### Prediction"
   ]
  },
  {
   "cell_type": "code",
   "execution_count": 5,
   "metadata": {
    "collapsed": true
   },
   "outputs": [],
   "source": [
    "val_imgs, val_masks = next(valid_generator(len(ids_valid_split)))\n",
    "val_pred_masks = model.predict(val_imgs, batch_size=1)"
   ]
  },
  {
   "cell_type": "code",
   "execution_count": 9,
   "metadata": {},
   "outputs": [
    {
     "name": "stdout",
     "output_type": "stream",
     "text": [
      "mean dice: 0.351216935651258   threshold: 0.0\n",
      "mean dice: 0.9966012256042571   threshold: 0.01\n",
      "mean dice: 0.9966047655287679   threshold: 0.02\n",
      "mean dice: 0.9966063019402932   threshold: 0.03\n",
      "mean dice: 0.9966076183745186   threshold: 0.04\n",
      "mean dice: 0.9966083476822204   threshold: 0.05\n",
      "mean dice: 0.9966092929883434   threshold: 0.06\n",
      "mean dice: 0.9966096765670872   threshold: 0.07\n",
      "mean dice: 0.9966099084666796   threshold: 0.08\n",
      "mean dice: 0.9966101766850887   threshold: 0.09\n",
      "mean dice: 0.9966106618584493   threshold: 0.1\n",
      "mean dice: 0.9966108818396167   threshold: 0.11\n",
      "mean dice: 0.9966110028309642   threshold: 0.12\n",
      "mean dice: 0.9966110335876867   threshold: 0.13\n",
      "mean dice: 0.9966111555363156   threshold: 0.14\n",
      "mean dice: 0.9966111449598936   threshold: 0.15\n",
      "mean dice: 0.9966112932981417   threshold: 0.16\n",
      "mean dice: 0.9966115071252081   threshold: 0.17\n",
      "mean dice: 0.9966116936856555   threshold: 0.18\n",
      "mean dice: 0.9966117471084184   threshold: 0.19\n",
      "mean dice: 0.9966117412462874   threshold: 0.2\n",
      "mean dice: 0.9966117684092951   threshold: 0.21\n",
      "mean dice: 0.9966119846297183   threshold: 0.22\n",
      "mean dice: 0.9966121843890272   threshold: 0.23\n",
      "mean dice: 0.9966122363510103   threshold: 0.24\n",
      "mean dice: 0.9966123535170816   threshold: 0.25\n",
      "mean dice: 0.9966124194928928   threshold: 0.26\n",
      "mean dice: 0.9966126159802983   threshold: 0.27\n",
      "mean dice: 0.9966128272009351   threshold: 0.28\n",
      "mean dice: 0.9966128204026591   threshold: 0.29\n",
      "mean dice: 0.9966127928597555   threshold: 0.3\n",
      "mean dice: 0.9966128336831541   threshold: 0.31\n",
      "mean dice: 0.9966129138892085   threshold: 0.32\n",
      "mean dice: 0.996612901038533   threshold: 0.33\n",
      "mean dice: 0.996612868392935   threshold: 0.34\n",
      "mean dice: 0.9966127540047577   threshold: 0.35000000000000003\n",
      "mean dice: 0.9966129772870096   threshold: 0.36\n",
      "mean dice: 0.9966129504556454   threshold: 0.37\n",
      "mean dice: 0.9966128611592588   threshold: 0.38\n",
      "mean dice: 0.9966128826605761   threshold: 0.39\n",
      "mean dice: 0.9966128701843743   threshold: 0.4\n",
      "mean dice: 0.996612860359455   threshold: 0.41000000000000003\n",
      "mean dice: 0.9966127938152887   threshold: 0.42\n",
      "mean dice: 0.9966126536373388   threshold: 0.43\n",
      "mean dice: 0.9966125277303766   threshold: 0.44\n",
      "mean dice: 0.9966125375318754   threshold: 0.45\n",
      "mean dice: 0.9966124703555659   threshold: 0.46\n",
      "mean dice: 0.9966123749347299   threshold: 0.47000000000000003\n",
      "mean dice: 0.9966123977942244   threshold: 0.48\n",
      "mean dice: 0.9966122890059211   threshold: 0.49\n",
      "mean dice: 0.9966121962407487   threshold: 0.5\n",
      "mean dice: 0.9966122551713307   threshold: 0.51\n",
      "mean dice: 0.9966122090237195   threshold: 0.52\n",
      "mean dice: 0.9966121067668363   threshold: 0.53\n",
      "mean dice: 0.996612051824067   threshold: 0.54\n",
      "mean dice: 0.9966120155228603   threshold: 0.55\n",
      "mean dice: 0.9966120369429865   threshold: 0.56\n",
      "mean dice: 0.9966119518355591   threshold: 0.5700000000000001\n",
      "mean dice: 0.9966119837059998   threshold: 0.58\n",
      "mean dice: 0.9966118322095103   threshold: 0.59\n",
      "mean dice: 0.9966117617631548   threshold: 0.6\n",
      "mean dice: 0.9966116180833482   threshold: 0.61\n",
      "mean dice: 0.9966115575970825   threshold: 0.62\n",
      "mean dice: 0.9966115386574754   threshold: 0.63\n",
      "mean dice: 0.9966115270063933   threshold: 0.64\n",
      "mean dice: 0.9966114992552274   threshold: 0.65\n",
      "mean dice: 0.9966115049519685   threshold: 0.66\n",
      "mean dice: 0.9966115121137799   threshold: 0.67\n",
      "mean dice: 0.9966113763147185   threshold: 0.68\n",
      "mean dice: 0.9966112544331369   threshold: 0.6900000000000001\n",
      "mean dice: 0.9966111555229317   threshold: 0.7000000000000001\n",
      "mean dice: 0.9966110570746964   threshold: 0.71\n",
      "mean dice: 0.9966109999256829   threshold: 0.72\n",
      "mean dice: 0.9966110216114198   threshold: 0.73\n",
      "mean dice: 0.9966110836853976   threshold: 0.74\n",
      "mean dice: 0.9966110639313324   threshold: 0.75\n",
      "mean dice: 0.9966108365662212   threshold: 0.76\n",
      "mean dice: 0.9966107728375347   threshold: 0.77\n",
      "mean dice: 0.9966105828469498   threshold: 0.78\n",
      "mean dice: 0.996610449432091   threshold: 0.79\n",
      "mean dice: 0.9966102072195774   threshold: 0.8\n",
      "mean dice: 0.9966101500489852   threshold: 0.81\n",
      "mean dice: 0.9966099003385325   threshold: 0.8200000000000001\n",
      "mean dice: 0.9966097609729958   threshold: 0.8300000000000001\n",
      "mean dice: 0.9966095101739669   threshold: 0.84\n",
      "mean dice: 0.9966091638095167   threshold: 0.85\n",
      "mean dice: 0.9966088672594248   threshold: 0.86\n",
      "mean dice: 0.9966086657195375   threshold: 0.87\n",
      "mean dice: 0.9966083560054018   threshold: 0.88\n",
      "mean dice: 0.9966079619126215   threshold: 0.89\n",
      "mean dice: 0.9966077349835752   threshold: 0.9\n",
      "mean dice: 0.996607173145646   threshold: 0.91\n",
      "mean dice: 0.9966063612928712   threshold: 0.92\n",
      "mean dice: 0.9966056650726202   threshold: 0.93\n",
      "mean dice: 0.9966046276173   threshold: 0.9400000000000001\n",
      "mean dice: 0.996603400409229   threshold: 0.9500000000000001\n",
      "mean dice: 0.9966020505855185   threshold: 0.96\n",
      "mean dice: 0.9966003116024723   threshold: 0.97\n",
      "mean dice: 0.996597643819052   threshold: 0.98\n",
      "mean dice: 0.9965925244525631   threshold: 0.99\n",
      "------------------------------------------------------\n",
      "maximum mean dice: 0.9966129772870096   threshold: 0.36\n"
     ]
    },
    {
     "data": {
      "text/plain": [
       "[<matplotlib.lines.Line2D at 0x7f7284407080>]"
      ]
     },
     "execution_count": 9,
     "metadata": {},
     "output_type": "execute_result"
    },
    {
     "data": {
      "image/png": "[encoded data removed]",
      "text/plain": [
       "<matplotlib.figure.Figure at 0x7f7284495630>"
      ]
     },
     "metadata": {},
     "output_type": "display_data"
    }
   ],
   "source": [
    "thresholds = np.arange(0, 1, 0.01)\n",
    "\n",
    "mean_dices = mean_dice_threshold(val_masks, val_pred_masks, thresholds)\n",
    "plt.figure()\n",
    "plt.plot(thresholds, mean_dices, 'k')"
   ]
  }
 ],
 "metadata": {
  "kernelspec": {
   "display_name": "Python 3",
   "language": "python",
   "name": "python3"
  },
  "language_info": {
   "codemirror_mode": {
    "name": "ipython",
    "version": 3
   },
   "file_extension": ".py",
   "mimetype": "text/x-python",
   "name": "python",
   "nbconvert_exporter": "python",
   "pygments_lexer": "ipython3",
   "version": "3.6.1"
  }
 },
 "nbformat": 4,
 "nbformat_minor": 2
}
