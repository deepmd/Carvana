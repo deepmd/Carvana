{
 "cells": [
  {
   "cell_type": "code",
   "execution_count": 1,
   "metadata": {},
   "outputs": [
    {
     "name": "stderr",
     "output_type": "stream",
     "text": [
      "Using TensorFlow backend.\n"
     ]
    }
   ],
   "source": [
    "from keras.layers.advanced_activations import PReLU\n",
    "from keras.callbacks import EarlyStopping, ReduceLROnPlateau, ModelCheckpoint, TensorBoard\n",
    "import numpy as np\n",
    "import pandas as pd\n",
    "import matplotlib.pyplot as plt\n",
    "from sklearn.model_selection import train_test_split\n",
    "from optimizers.AdamAccumulate import AdamAccumulate\n",
    "from models.u_net import UNet\n",
    "from submit import generate_submit\n",
    "from utilities import utils_contours\n",
    "from utilities import losses\n",
    "\n",
    "%load_ext autoreload\n",
    "%autoreload 2\n",
    "%matplotlib inline"
   ]
  },
  {
   "cell_type": "code",
   "execution_count": 2,
   "metadata": {
    "collapsed": true
   },
   "outputs": [],
   "source": [
    "from utilities import utils_contours\n",
    "import pandas as pd\n",
    "from sklearn.model_selection import train_test_split\n",
    "import numpy as np"
   ]
  },
  {
   "cell_type": "code",
   "execution_count": 3,
   "metadata": {
    "collapsed": true
   },
   "outputs": [],
   "source": [
    "utils_contours.set_results_reproducible()"
   ]
  },
  {
   "cell_type": "markdown",
   "metadata": {},
   "source": [
    "## Predict Contours"
   ]
  },
  {
   "cell_type": "code",
   "execution_count": 4,
   "metadata": {},
   "outputs": [
    {
     "name": "stdout",
     "output_type": "stream",
     "text": [
      "Training on 4070 samples\n",
      "Validating on 1018 samples\n"
     ]
    }
   ],
   "source": [
    "input_size = 1024\n",
    "train_path = \"inputs/train/{}.jpg\" \n",
    "train_contour_path = \"inputs/train_contours/{}_contour.png\"\n",
    "df_train = pd.read_csv('inputs/train_masks.csv')\n",
    "ids_train = df_train['img'].map(lambda s: s.split('.')[0])#[:3000]\n",
    "ids_train_split, ids_valid_split = train_test_split(ids_train, test_size=0.2, random_state=42)\n",
    "\n",
    "print('Training on {} samples'.format(len(ids_train_split)))\n",
    "print('Validating on {} samples'.format(len(ids_valid_split)))\n",
    "\n",
    "bboxes = None\n",
    "#bbox_file_path = 'inputs/train_bbox.csv'\n",
    "#bboxes = utils_contours.get_bboxes(bbox_file_path)\n",
    "\n",
    "def train_generator(batch_size):\n",
    "    return utils_contours.train_generator(train_path, train_contour_path, ids_train_split, \n",
    "                                          input_size, batch_size, bboxes)\n",
    "\n",
    "def valid_generator(batch_size):\n",
    "    return utils_contours.valid_generator(train_path, train_contour_path, ids_valid_split, \n",
    "                                          input_size, batch_size, bboxes)"
   ]
  },
  {
   "cell_type": "code",
   "execution_count": 26,
   "metadata": {
    "collapsed": true
   },
   "outputs": [],
   "source": [
    "#U-Net:\n",
    "model_contour = UNet((input_size, input_size, 3), filters=8, depth=7, dropout_base_only=False, dropout=0,\n",
    "             activation=lambda x: PReLU()(x), init='he_uniform')\n",
    "\n",
    "model_contour.compile(optimizer=AdamAccumulate(accum_iters=32), \n",
    "              loss=losses.contour_weighted_bce_loss, \n",
    "              metrics=['binary_accuracy'])"
   ]
  },
  {
   "cell_type": "code",
   "execution_count": 5,
   "metadata": {
    "collapsed": true
   },
   "outputs": [],
   "source": [
    "run_name = 'unet_contour_1024-2017-09-15-2243'\n",
    "model_contour.load_weights('weights/{}.hdf5'.format(run_name))\n",
    "val_imgs_gt, val_contours_gt = next(valid_generator(len(ids_valid_split)))\n",
    "pred_contours = model_contour.predict(val_imgs_gt, batch_size=1)"
   ]
  },
  {
   "cell_type": "code",
   "execution_count": 6,
   "metadata": {},
   "outputs": [
    {
     "name": "stdout",
     "output_type": "stream",
     "text": [
      "1018/1018 [==============================] - 86s    \n"
     ]
    },
    {
     "data": {
      "text/plain": [
       "[0.71720933562880185, 0.99420345075472394]"
      ]
     },
     "execution_count": 6,
     "metadata": {},
     "output_type": "execute_result"
    }
   ],
   "source": [
    "model_contour.evaluate(val_imgs_gt, val_contours_gt, batch_size=16)"
   ]
  },
  {
   "cell_type": "code",
   "execution_count": 8,
   "metadata": {
    "collapsed": true
   },
   "outputs": [],
   "source": [
    "utils_contours.save_array('outputs/unet_contour_1024-2017-09-15-2243.hdf5', pred_contours)"
   ]
  },
  {
   "cell_type": "markdown",
   "metadata": {},
   "source": [
    "## Pridict Maskd"
   ]
  },
  {
   "cell_type": "code",
   "execution_count": 5,
   "metadata": {
    "collapsed": true
   },
   "outputs": [],
   "source": [
    "from utilities import utils_masks"
   ]
  },
  {
   "cell_type": "code",
   "execution_count": 6,
   "metadata": {
    "collapsed": true
   },
   "outputs": [],
   "source": [
    "train_mask_path = \"inputs/train_masks/{}_mask.gif\""
   ]
  },
  {
   "cell_type": "code",
   "execution_count": 7,
   "metadata": {
    "collapsed": true
   },
   "outputs": [],
   "source": [
    "def train_mask_generator(batch_size):\n",
    "    return utils_masks.train_generator(train_path, train_mask_path, ids_train_split, \n",
    "                                          input_size, batch_size, bboxes)\n",
    "\n",
    "def valid_mask_generator(batch_size):\n",
    "    return utils_masks.valid_generator(train_path, train_mask_path, ids_valid_split, \n",
    "                                          input_size, batch_size, bboxes)"
   ]
  },
  {
   "cell_type": "code",
   "execution_count": 17,
   "metadata": {
    "collapsed": true
   },
   "outputs": [],
   "source": [
    "model_seg = UNet((input_size, input_size, 3), filters=8, depth=7, dropout_base_only=False, dropout=0,\n",
    "             activation=lambda x: PReLU()(x), init='he_uniform')\n",
    "\n",
    "model_seg.compile(optimizer=AdamAccumulate(accum_iters=16), \n",
    "              loss=losses.contour_weighted_bce_loss, \n",
    "              metrics=[losses.dice_value])\n",
    "\n",
    "model_seg.load_weights('weights/unet-2017-09-02-1809.hdf5')"
   ]
  },
  {
   "cell_type": "code",
   "execution_count": 18,
   "metadata": {},
   "outputs": [
    {
     "name": "stdout",
     "output_type": "stream",
     "text": [
      "1018/1018 [==============================] - 92s    \n"
     ]
    }
   ],
   "source": [
    "val_imgs_gt, val_masks_gt = next(valid_mask_generator(len(ids_valid_split)))\n",
    "pred_masks = model_seg.predict(val_imgs_gt, batch_size=16, verbose=1)"
   ]
  },
  {
   "cell_type": "code",
   "execution_count": 29,
   "metadata": {},
   "outputs": [
    {
     "name": "stdout",
     "output_type": "stream",
     "text": [
      "1018/1018 [==============================] - 78s    \n"
     ]
    },
    {
     "data": {
      "text/plain": [
       "[0.73988104253011977, 0.99637346710343722]"
      ]
     },
     "execution_count": 29,
     "metadata": {},
     "output_type": "execute_result"
    }
   ],
   "source": [
    "model_seg.evaluate(val_imgs_gt, val_masks_gt, batch_size=16)"
   ]
  },
  {
   "cell_type": "code",
   "execution_count": 1,
   "metadata": {
    "collapsed": true,
    "scrolled": true
   },
   "outputs": [],
   "source": [
    "utils_contours.save_array('outputs/unet-2017-09-02-1809_pred_masks.hdf5', pred_masks)"
   ]
  },
  {
   "cell_type": "code",
   "execution_count": null,
   "metadata": {
    "collapsed": true
   },
   "outputs": [],
   "source": []
  },
  {
   "cell_type": "markdown",
   "metadata": {},
   "source": [
    "## Add predicted contours and masks together"
   ]
  },
  {
   "cell_type": "code",
   "execution_count": 8,
   "metadata": {
    "collapsed": true
   },
   "outputs": [],
   "source": [
    "pred_masks = utils_contours.load_array('outputs/unet-2017-09-02-1809_pred_masks.hdf5')"
   ]
  },
  {
   "cell_type": "code",
   "execution_count": 9,
   "metadata": {
    "collapsed": true
   },
   "outputs": [],
   "source": [
    "pred_contours = utils_contours.load_array('outputs/unet_contour_1024-2017-09-15-2243.hdf5')"
   ]
  },
  {
   "cell_type": "code",
   "execution_count": 10,
   "metadata": {
    "collapsed": true
   },
   "outputs": [],
   "source": [
    "#val_imgs_gt, val_contours_gt = next(valid_generator(len(ids_valid_split)))\n",
    "_, val_masks_gt = next(valid_mask_generator(len(ids_valid_split)))"
   ]
  },
  {
   "cell_type": "code",
   "execution_count": 11,
   "metadata": {},
   "outputs": [
    {
     "name": "stdout",
     "output_type": "stream",
     "text": [
      "(1018, 1024, 1024, 1)\n",
      "(1018, 1024, 1024, 1)\n"
     ]
    }
   ],
   "source": [
    "print pred_contours.shape\n",
    "print pred_masks.shape"
   ]
  },
  {
   "cell_type": "code",
   "execution_count": 12,
   "metadata": {
    "collapsed": true
   },
   "outputs": [],
   "source": [
    "def np_dice_value(y_true, y_pred):\n",
    "    smooth = 1.\n",
    "    y_true_f = y_true.flatten()\n",
    "    y_pred_f = y_pred.flatten()\n",
    "    intersection = np.sum(y_true_f * y_pred_f)\n",
    "    return (2. * intersection + smooth) / (np.sum(y_true_f) + np.sum(y_pred_f) + smooth)"
   ]
  },
  {
   "cell_type": "code",
   "execution_count": 13,
   "metadata": {
    "collapsed": true
   },
   "outputs": [],
   "source": [
    "pred_contours_th = np.float32(pred_contours > 0.5)\n",
    "#pred_masks_th = np.float32(pred_masks)\n",
    "pred_masks_add = np.add(pred_masks, pred_contours_th)"
   ]
  },
  {
   "cell_type": "code",
   "execution_count": 14,
   "metadata": {},
   "outputs": [
    {
     "ename": "MemoryError",
     "evalue": "",
     "output_type": "error",
     "traceback": [
      "\u001b[0;31m---------------------------------------------------------------------------\u001b[0m",
      "\u001b[0;31mMemoryError\u001b[0m                               Traceback (most recent call last)",
      "\u001b[0;32m<ipython-input-14-aa0f6ada94a4>\u001b[0m in \u001b[0;36m<module>\u001b[0;34m()\u001b[0m\n\u001b[1;32m      1\u001b[0m \u001b[0mpred_masks_add\u001b[0m \u001b[0;34m=\u001b[0m \u001b[0;34m(\u001b[0m\u001b[0mpred_masks_add\u001b[0m \u001b[0;34m>\u001b[0m \u001b[0;36m0.999\u001b[0m\u001b[0;34m)\u001b[0m\u001b[0;34m\u001b[0m\u001b[0m\n\u001b[0;32m----> 2\u001b[0;31m \u001b[0mnp_dice_value\u001b[0m\u001b[0;34m(\u001b[0m\u001b[0mval_masks_gt\u001b[0m\u001b[0;34m,\u001b[0m \u001b[0mpred_masks_add\u001b[0m\u001b[0;34m)\u001b[0m\u001b[0;34m\u001b[0m\u001b[0m\n\u001b[0m",
      "\u001b[0;32m<ipython-input-12-0c069810ab81>\u001b[0m in \u001b[0;36mnp_dice_value\u001b[0;34m(y_true, y_pred)\u001b[0m\n\u001b[1;32m      3\u001b[0m     \u001b[0my_true_f\u001b[0m \u001b[0;34m=\u001b[0m \u001b[0my_true\u001b[0m\u001b[0;34m.\u001b[0m\u001b[0mflatten\u001b[0m\u001b[0;34m(\u001b[0m\u001b[0;34m)\u001b[0m\u001b[0;34m\u001b[0m\u001b[0m\n\u001b[1;32m      4\u001b[0m     \u001b[0my_pred_f\u001b[0m \u001b[0;34m=\u001b[0m \u001b[0my_pred\u001b[0m\u001b[0;34m.\u001b[0m\u001b[0mflatten\u001b[0m\u001b[0;34m(\u001b[0m\u001b[0;34m)\u001b[0m\u001b[0;34m\u001b[0m\u001b[0m\n\u001b[0;32m----> 5\u001b[0;31m     \u001b[0mintersection\u001b[0m \u001b[0;34m=\u001b[0m \u001b[0mnp\u001b[0m\u001b[0;34m.\u001b[0m\u001b[0msum\u001b[0m\u001b[0;34m(\u001b[0m\u001b[0my_true_f\u001b[0m \u001b[0;34m*\u001b[0m \u001b[0my_pred_f\u001b[0m\u001b[0;34m)\u001b[0m\u001b[0;34m\u001b[0m\u001b[0m\n\u001b[0m\u001b[1;32m      6\u001b[0m     \u001b[0;32mreturn\u001b[0m \u001b[0;34m(\u001b[0m\u001b[0;36m2.\u001b[0m \u001b[0;34m*\u001b[0m \u001b[0mintersection\u001b[0m \u001b[0;34m+\u001b[0m \u001b[0msmooth\u001b[0m\u001b[0;34m)\u001b[0m \u001b[0;34m/\u001b[0m \u001b[0;34m(\u001b[0m\u001b[0mnp\u001b[0m\u001b[0;34m.\u001b[0m\u001b[0msum\u001b[0m\u001b[0;34m(\u001b[0m\u001b[0my_true_f\u001b[0m\u001b[0;34m)\u001b[0m \u001b[0;34m+\u001b[0m \u001b[0mnp\u001b[0m\u001b[0;34m.\u001b[0m\u001b[0msum\u001b[0m\u001b[0;34m(\u001b[0m\u001b[0my_pred_f\u001b[0m\u001b[0;34m)\u001b[0m \u001b[0;34m+\u001b[0m \u001b[0msmooth\u001b[0m\u001b[0;34m)\u001b[0m\u001b[0;34m\u001b[0m\u001b[0m\n",
      "\u001b[0;31mMemoryError\u001b[0m: "
     ]
    }
   ],
   "source": [
    "pred_masks_add = (pred_masks_add > 0.999)\n",
    "np_dice_value(val_masks_gt, pred_masks_add)"
   ]
  },
  {
   "cell_type": "markdown",
   "metadata": {},
   "source": [
    "## Visualization"
   ]
  },
  {
   "cell_type": "code",
   "execution_count": 18,
   "metadata": {},
   "outputs": [
    {
     "ename": "NameError",
     "evalue": "name 'plt' is not defined",
     "output_type": "error",
     "traceback": [
      "\u001b[0;31m---------------------------------------------------------------------------\u001b[0m",
      "\u001b[0;31mNameError\u001b[0m                                 Traceback (most recent call last)",
      "\u001b[0;32m<ipython-input-18-1aa2d6b51749>\u001b[0m in \u001b[0;36m<module>\u001b[0;34m()\u001b[0m\n\u001b[1;32m      1\u001b[0m \u001b[0mx\u001b[0m \u001b[0;34m=\u001b[0m \u001b[0mnp\u001b[0m\u001b[0;34m.\u001b[0m\u001b[0mrandom\u001b[0m\u001b[0;34m.\u001b[0m\u001b[0mrandint\u001b[0m\u001b[0;34m(\u001b[0m\u001b[0;36m0\u001b[0m\u001b[0;34m,\u001b[0m \u001b[0mlen\u001b[0m\u001b[0;34m(\u001b[0m\u001b[0mids_valid_split\u001b[0m\u001b[0;34m)\u001b[0m\u001b[0;34m-\u001b[0m\u001b[0;36m1\u001b[0m\u001b[0;34m,\u001b[0m \u001b[0;36m3\u001b[0m\u001b[0;34m)\u001b[0m\u001b[0;34m\u001b[0m\u001b[0m\n\u001b[0;32m----> 2\u001b[0;31m \u001b[0mplt\u001b[0m\u001b[0;34m.\u001b[0m\u001b[0mfigure\u001b[0m\u001b[0;34m(\u001b[0m\u001b[0mfigsize\u001b[0m\u001b[0;34m=\u001b[0m\u001b[0;34m(\u001b[0m\u001b[0;36m25\u001b[0m\u001b[0;34m,\u001b[0m \u001b[0;36m25\u001b[0m\u001b[0;34m)\u001b[0m\u001b[0;34m)\u001b[0m\u001b[0;34m\u001b[0m\u001b[0m\n\u001b[0m\u001b[1;32m      3\u001b[0m \u001b[0;32mfor\u001b[0m \u001b[0mnum\u001b[0m\u001b[0;34m,\u001b[0m \u001b[0mind\u001b[0m \u001b[0;32min\u001b[0m \u001b[0menumerate\u001b[0m\u001b[0;34m(\u001b[0m\u001b[0mx\u001b[0m\u001b[0;34m)\u001b[0m\u001b[0;34m:\u001b[0m\u001b[0;34m\u001b[0m\u001b[0m\n\u001b[1;32m      4\u001b[0m     \u001b[0max1\u001b[0m \u001b[0;34m=\u001b[0m \u001b[0mplt\u001b[0m\u001b[0;34m.\u001b[0m\u001b[0msubplot\u001b[0m\u001b[0;34m(\u001b[0m\u001b[0;36m3\u001b[0m\u001b[0;34m,\u001b[0m \u001b[0;36m3\u001b[0m\u001b[0;34m,\u001b[0m \u001b[0;36m3\u001b[0m\u001b[0;34m*\u001b[0m\u001b[0mnum\u001b[0m\u001b[0;34m+\u001b[0m\u001b[0;36m1\u001b[0m\u001b[0;34m)\u001b[0m\u001b[0;34m\u001b[0m\u001b[0m\n\u001b[1;32m      5\u001b[0m     \u001b[0max1\u001b[0m\u001b[0;34m.\u001b[0m\u001b[0mimshow\u001b[0m\u001b[0;34m(\u001b[0m\u001b[0mnp\u001b[0m\u001b[0;34m.\u001b[0m\u001b[0msqueeze\u001b[0m\u001b[0;34m(\u001b[0m\u001b[0mval_masks_gt\u001b[0m\u001b[0;34m[\u001b[0m\u001b[0mind\u001b[0m\u001b[0;34m]\u001b[0m\u001b[0;34m)\u001b[0m\u001b[0;34m)\u001b[0m\u001b[0;34m\u001b[0m\u001b[0m\n",
      "\u001b[0;31mNameError\u001b[0m: name 'plt' is not defined"
     ]
    }
   ],
   "source": [
    "x = np.random.randint(0, len(ids_valid_split)-1, 3)\n",
    "plt.figure(figsize=(25, 25))\n",
    "for num, ind in enumerate(x):\n",
    "    ax1 = plt.subplot(3, 3, 3*num+1)\n",
    "    ax1.imshow(np.squeeze(val_masks_gt[ind]))\n",
    "    ax1 = plt.subplot(3, 3, 3*num+2)\n",
    "    ax1.imshow(np.squeeze(pred_masks[ind]))\n",
    "    ax2 = plt.subplot(3, 3, 3*num+3)\n",
    "    ax2.imshow(np.squeeze(pred_contours[ind]))\n",
    "    print num, ind"
   ]
  },
  {
   "cell_type": "code",
   "execution_count": 37,
   "metadata": {
    "scrolled": false
   },
   "outputs": [
    {
     "data": {
      "text/plain": [
       "\"plt.figure(figsize=(15, 15))\\npred_masks_add = np.add(p_masks, p_contours)\\np3 = plt.imshow(np.squeeze(pred_masks_add), cmap='Reds')\\nplt.colorbar(p3)\\n\\nplt.figure(figsize=(15, 15))\\np_masks_add = np.float32((pred_masks_add > 0.3))\\np4 = plt.imshow(np.squeeze(p_masks_add), cmap='Reds')\\nplt.colorbar(p4)\\n\\nplt.figure(figsize=(15, 15))\\np4 = plt.imshow(np.squeeze(p_contours), cmap='Reds')\\nplt.colorbar(p4)\\n\\nplt.figure(figsize=(15, 15))\\np5 = plt.imshow(np.squeeze(p_masks), cmap='Reds')\\nplt.colorbar(p5)\""
      ]
     },
     "execution_count": 37,
     "metadata": {},
     "output_type": "execute_result"
    },
    {
     "data": {
      "image/png": "[encoded data removed]",
      "text/plain": [
       "<matplotlib.figure.Figure at 0x7f2397a9f490>"
      ]
     },
     "metadata": {},
     "output_type": "display_data"
    },
    {
     "data": {
      "image/png": "[encoded data removed]",
      "text/plain": [
       "<matplotlib.figure.Figure at 0x7f2397d7bdd0>"
      ]
     },
     "metadata": {},
     "output_type": "display_data"
    }
   ],
   "source": [
    "#pred_contours_th = pred_contours>0.5\n",
    "idx = 2\n",
    "p_contours = np.float32(pred_contours[idx] > 0.5 )\n",
    "p_masks = np.float32(np.float32(pred_masks[idx] > 1-1e-7))\n",
    "plt.figure(figsize=(15, 15))\n",
    "p1 = plt.imshow(np.squeeze(p_contours), cmap='Reds')\n",
    "#plt.imshow(np.squeeze(val_masks_gt[idx]), cmap='Blues', alpha=0.6)\n",
    "plt.colorbar(p1)\n",
    "\n",
    "plt.figure(figsize=(15, 15))\n",
    "p2 = plt.imshow(np.squeeze(p_masks), cmap='Reds')\n",
    "#p2 = plt.imshow(np.squeeze(p_masks), cmap='Blues', alpha=0.6)\n",
    "plt.colorbar(p2)\n",
    "\n",
    "'''plt.figure(figsize=(15, 15))\n",
    "pred_masks_add = np.add(p_masks, p_contours)\n",
    "p3 = plt.imshow(np.squeeze(pred_masks_add), cmap='Reds')\n",
    "plt.colorbar(p3)\n",
    "\n",
    "plt.figure(figsize=(15, 15))\n",
    "p_masks_add = np.float32((pred_masks_add > 0.3))\n",
    "p4 = plt.imshow(np.squeeze(p_masks_add), cmap='Reds')\n",
    "plt.colorbar(p4)\n",
    "\n",
    "plt.figure(figsize=(15, 15))\n",
    "p4 = plt.imshow(np.squeeze(p_contours), cmap='Reds')\n",
    "plt.colorbar(p4)\n",
    "\n",
    "plt.figure(figsize=(15, 15))\n",
    "p5 = plt.imshow(np.squeeze(p_masks), cmap='Reds')\n",
    "plt.colorbar(p5)'''"
   ]
  },
  {
   "cell_type": "code",
   "execution_count": null,
   "metadata": {
    "collapsed": true
   },
   "outputs": [],
   "source": [
    "plt."
   ]
  }
 ],
 "metadata": {
  "kernelspec": {
   "display_name": "keras-tf",
   "language": "python",
   "name": "keras-tf"
  },
  "language_info": {
   "codemirror_mode": {
    "name": "ipython",
    "version": 2
   },
   "file_extension": ".py",
   "mimetype": "text/x-python",
   "name": "python",
   "nbconvert_exporter": "python",
   "pygments_lexer": "ipython2",
   "version": "2.7.6"
  }
 },
 "nbformat": 4,
 "nbformat_minor": 2
}
