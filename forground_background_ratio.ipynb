{
 "cells": [
  {
   "cell_type": "code",
   "execution_count": 1,
   "metadata": {
    "collapsed": true
   },
   "outputs": [],
   "source": [
    "import pandas as pd\n",
    "import numpy as np\n",
    "from PIL import Image \n",
    "import matplotlib.pylab as plt\n",
    "import cv2\n",
    "\n",
    "%matplotlib inline"
   ]
  },
  {
   "cell_type": "code",
   "execution_count": 2,
   "metadata": {
    "collapsed": true
   },
   "outputs": [],
   "source": [
    "contour_path = \"inputs/train_contours/{}_contour.png\"\n",
    "df_train = pd.read_csv('inputs/train_masks.csv')\n",
    "ids_train = df_train['img'].map(lambda s: s.split('.')[0])"
   ]
  },
  {
   "cell_type": "code",
   "execution_count": 3,
   "metadata": {
    "collapsed": true
   },
   "outputs": [],
   "source": [
    "def image_numerical_info(path, input_size):\n",
    "    contour = np.array(Image.open(path.format(id)).convert('L'))   \n",
    "    contour = cv2.resize(contour, (input_size, input_size), interpolation=cv2.INTER_LINEAR)\n",
    "    num_pixs = contour.shape[0] * contour.shape[1]\n",
    "    num_forground_pixs = np.count_nonzero(contour)\n",
    "    num_background_pixs = num_pixs - num_forground_pixs\n",
    "    for_back_ratio = np.round(np.float(num_background_pixs) / num_forground_pixs)\n",
    "    \n",
    "    return (num_pixs, num_forground_pixs, num_background_pixs, for_back_ratio)\n",
    "    "
   ]
  },
  {
   "cell_type": "code",
   "execution_count": 5,
   "metadata": {},
   "outputs": [
    {
     "name": "stdout",
     "output_type": "stream",
     "text": [
      "2000/5088\n",
      "4000/5088\n",
      "44.1717767296\n",
      "Done\n"
     ]
    }
   ],
   "source": [
    "sum_ratio = 0\n",
    "num_imgs = 1\n",
    "for id in ids_train.values:\n",
    "    _, _, _, for_back_ratio = image_numerical_info(contour_path.format(id), 128)\n",
    "    sum_ratio += for_back_ratio\n",
    "        \n",
    "    #print num_pixs, num_forground_pixs, num_background_pixs, for_back_ratio\n",
    "    #assert(num_pixs == num_forground_pixs + num_background_pixs)\n",
    "    \n",
    "    if num_imgs%2000==0:\n",
    "        print \"{}/{}\".format(num_imgs, len(ids_train))\n",
    "    num_imgs += 1\n",
    "    \n",
    "print (sum_ratio / len(ids_train))\n",
    "print 'Done'"
   ]
  },
  {
   "cell_type": "code",
   "execution_count": 24,
   "metadata": {},
   "outputs": [
    {
     "data": {
      "text/plain": [
       "<matplotlib.image.AxesImage at 0x7f03dc36a350>"
      ]
     },
     "execution_count": 24,
     "metadata": {},
     "output_type": "execute_result"
    },
    {
     "data": {
      "image/png": "[encoded data removed]",
      "text/plain": [
       "<matplotlib.figure.Figure at 0x7f03dc50cc10>"
      ]
     },
     "metadata": {},
     "output_type": "display_data"
    }
   ],
   "source": [
    "plt.figure(figsize=(10, 10))\n",
    "plt.imshow(np.squeeze(mask))"
   ]
  },
  {
   "cell_type": "code",
   "execution_count": null,
   "metadata": {
    "collapsed": true
   },
   "outputs": [],
   "source": []
  }
 ],
 "metadata": {
  "kernelspec": {
   "display_name": "keras-tf",
   "language": "python",
   "name": "keras-tf"
  },
  "language_info": {
   "codemirror_mode": {
    "name": "ipython",
    "version": 2
   },
   "file_extension": ".py",
   "mimetype": "text/x-python",
   "name": "python",
   "nbconvert_exporter": "python",
   "pygments_lexer": "ipython2",
   "version": "2.7.6"
  }
 },
 "nbformat": 4,
 "nbformat_minor": 2
}
