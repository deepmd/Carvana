{
 "cells": [
  {
   "cell_type": "markdown",
   "metadata": {},
   "source": [
    "# Carvana-DCAN-Three-Classifiers"
   ]
  },
  {
   "cell_type": "markdown",
   "metadata": {},
   "source": [
    "# Note\n",
    "Insure uncomment related code lines in models/DCAN.py "
   ]
  },
  {
   "cell_type": "markdown",
   "metadata": {},
   "source": [
    "## Imports"
   ]
  },
  {
   "cell_type": "code",
   "execution_count": 1,
   "metadata": {},
   "outputs": [
    {
     "name": "stderr",
     "output_type": "stream",
     "text": [
      "Using TensorFlow backend.\n"
     ]
    }
   ],
   "source": [
    "from keras.layers.advanced_activations import PReLU\n",
    "from keras.callbacks import EarlyStopping, ReduceLROnPlateau, ModelCheckpoint, TensorBoard\n",
    "import keras.backend as K\n",
    "import numpy as np\n",
    "import pandas as pd\n",
    "import matplotlib.pyplot as plt\n",
    "from sklearn.model_selection import train_test_split\n",
    "from optimizers.AdamAccumulate import AdamAccumulate\n",
    "from models.DCAN import DCAN\n",
    "from submit import generate_submit\n",
    "from utilities import utils_contour\n",
    "from utilities import losses\n",
    "\n",
    "%load_ext autoreload\n",
    "%autoreload 2\n",
    "%matplotlib inline"
   ]
  },
  {
   "cell_type": "code",
   "execution_count": 2,
   "metadata": {
    "collapsed": true
   },
   "outputs": [],
   "source": [
    "utils_contour.set_results_reproducible()"
   ]
  },
  {
   "cell_type": "markdown",
   "metadata": {},
   "source": [
    "## Preparing Data"
   ]
  },
  {
   "cell_type": "code",
   "execution_count": 3,
   "metadata": {},
   "outputs": [
    {
     "name": "stdout",
     "output_type": "stream",
     "text": [
      "Training on 2400 samples\n",
      "Validating on 600 samples\n"
     ]
    }
   ],
   "source": [
    "input_size = 128\n",
    "train_path = \"inputs/train/{}.jpg\" \n",
    "train_mask_path = \"inputs/train_masks/{}_mask.gif\"\n",
    "train_contour_path = \"inputs/train_contours/{}_contour.jpg\"\n",
    "df_train = pd.read_csv('inputs/train_masks.csv')\n",
    "ids_train = df_train['img'].map(lambda s: s.split('.')[0])[:3000]\n",
    "ids_train_split, ids_valid_split = train_test_split(ids_train, test_size=0.2, random_state=42)\n",
    "\n",
    "print('Training on {} samples'.format(len(ids_train_split)))\n",
    "print('Validating on {} samples'.format(len(ids_valid_split)))\n",
    "\n",
    "bboxes = None\n",
    "bbox_file_path = 'inputs/train_bbox.csv'\n",
    "bboxes = utils_contour.get_bboxes(bbox_file_path)\n",
    "\n",
    "def train_generator(batch_size):\n",
    "    return utils_contour.train_generator(train_path, train_mask_path, train_contour_path, ids_train_split, \n",
    "                                 input_size, batch_size, bboxes)\n",
    "\n",
    "def valid_generator(batch_size):\n",
    "    return utils_contour.valid_generator(train_path, train_mask_path, train_contour_path, ids_valid_split, \n",
    "                                 input_size, batch_size, bboxes)"
   ]
  },
  {
   "cell_type": "markdown",
   "metadata": {},
   "source": [
    "### Some Verifications"
   ]
  },
  {
   "cell_type": "code",
   "execution_count": 4,
   "metadata": {
    "collapsed": true
   },
   "outputs": [],
   "source": [
    "x = next(train_generator(2))"
   ]
  },
  {
   "cell_type": "code",
   "execution_count": 5,
   "metadata": {},
   "outputs": [
    {
     "data": {
      "text/plain": [
       "(128, 128)"
      ]
     },
     "execution_count": 5,
     "metadata": {},
     "output_type": "execute_result"
    }
   ],
   "source": [
    "#im = x[0][0]\n",
    "cont = np.reshape(x[1]['contour_out'][0], (128, 128))\n",
    "cont.shape"
   ]
  },
  {
   "cell_type": "code",
   "execution_count": 6,
   "metadata": {},
   "outputs": [
    {
     "data": {
      "text/plain": [
       "<matplotlib.image.AxesImage at 0x7f5824c35bd0>"
      ]
     },
     "execution_count": 6,
     "metadata": {},
     "output_type": "execute_result"
    },
    {
     "data": {
      "image/png": "[encoded data removed]",
      "text/plain": [
       "<matplotlib.figure.Figure at 0x7f5824e88d10>"
      ]
     },
     "metadata": {},
     "output_type": "display_data"
    }
   ],
   "source": [
    "plt.figure(figsize=(10, 10))\n",
    "plt.imshow(cont)"
   ]
  },
  {
   "cell_type": "markdown",
   "metadata": {},
   "source": [
    "## Create Model"
   ]
  },
  {
   "cell_type": "code",
   "execution_count": 7,
   "metadata": {
    "collapsed": true,
    "scrolled": true
   },
   "outputs": [],
   "source": [
    "#DCAN:\n",
    "model = DCAN((input_size, input_size, 3), filters=64, depth=4, dropout_base_only=False, dropout=0,\n",
    "             activation=lambda x: PReLU()(x), init='he_uniform')\n",
    "\n",
    "model.compile(optimizer=AdamAccumulate(accum_iters=1), \n",
    "              loss={'seg_out': losses.weighted_bce_dice_loss, 'contour_out': losses.contour_weighted_bce_loss,\n",
    "                    'final_seg': losses.weighted_bce_dice_loss}, \n",
    "              loss_weights={'seg_out': 1., 'contour_out': 1.},\n",
    "              metrics={'seg_out': losses.dice_value, 'contour_out': 'binary_accuracy', \n",
    "                       'final_seg': losses.dice_value})\n",
    "\n",
    "#model.summary()"
   ]
  },
  {
   "cell_type": "markdown",
   "metadata": {},
   "source": [
    "## Fit Model"
   ]
  },
  {
   "cell_type": "code",
   "execution_count": 8,
   "metadata": {
    "scrolled": false
   },
   "outputs": [
    {
     "name": "stdout",
     "output_type": "stream",
     "text": [
      "Starting run \"DCAN-2017-09-11-1453\"\n",
      "Epoch 1/100\n",
      "300/300 [==============================] - 176s - loss: 0.7316 - seg_out_loss: 0.2335 - contour_out_loss: 0.2683 - final_seg_loss: 0.2298 - seg_out_dice_value: 0.9517 - contour_out_binary_accuracy: 0.9166 - final_seg_dice_value: 0.9563 - val_loss: 0.5595 - val_seg_out_loss: 0.2193 - val_contour_out_loss: 0.1354 - val_final_seg_loss: 0.2048 - val_seg_out_dice_value: 0.9638 - val_contour_out_binary_accuracy: 0.9600 - val_final_seg_dice_value: 0.9663\n",
      "Epoch 2/100\n",
      "300/300 [==============================] - 171s - loss: 0.3105 - seg_out_loss: 0.1184 - contour_out_loss: 0.0761 - final_seg_loss: 0.1159 - seg_out_dice_value: 0.9809 - contour_out_binary_accuracy: 0.9517 - final_seg_dice_value: 0.9819 - val_loss: 0.2791 - val_seg_out_loss: 0.1019 - val_contour_out_loss: 0.0800 - val_final_seg_loss: 0.0973 - val_seg_out_dice_value: 0.9822 - val_contour_out_binary_accuracy: 0.9608 - val_final_seg_dice_value: 0.9831\n",
      "Epoch 3/100\n",
      "300/300 [==============================] - 170s - loss: 0.2577 - seg_out_loss: 0.0985 - contour_out_loss: 0.0628 - final_seg_loss: 0.0964 - seg_out_dice_value: 0.9848 - contour_out_binary_accuracy: 0.9517 - final_seg_dice_value: 0.9853 - val_loss: 0.2698 - val_seg_out_loss: 0.0952 - val_contour_out_loss: 0.0737 - val_final_seg_loss: 0.1009 - val_seg_out_dice_value: 0.9829 - val_contour_out_binary_accuracy: 0.9605 - val_final_seg_dice_value: 0.9815\n",
      "Epoch 4/100\n",
      "300/300 [==============================] - 171s - loss: 0.2317 - seg_out_loss: 0.0881 - contour_out_loss: 0.0574 - final_seg_loss: 0.0863 - seg_out_dice_value: 0.9866 - contour_out_binary_accuracy: 0.9524 - final_seg_dice_value: 0.9869 - val_loss: 0.2108 - val_seg_out_loss: 0.0712 - val_contour_out_loss: 0.0680 - val_final_seg_loss: 0.0715 - val_seg_out_dice_value: 0.9889 - val_contour_out_binary_accuracy: 0.9604 - val_final_seg_dice_value: 0.9890\n",
      "Epoch 5/100\n",
      "300/300 [==============================] - 171s - loss: 0.2103 - seg_out_loss: 0.0787 - contour_out_loss: 0.0546 - final_seg_loss: 0.0770 - seg_out_dice_value: 0.9882 - contour_out_binary_accuracy: 0.9530 - final_seg_dice_value: 0.9885 - val_loss: 0.1753 - val_seg_out_loss: 0.0594 - val_contour_out_loss: 0.0579 - val_final_seg_loss: 0.0580 - val_seg_out_dice_value: 0.9910 - val_contour_out_binary_accuracy: 0.9615 - val_final_seg_dice_value: 0.9912\n",
      "Epoch 6/100\n",
      "300/300 [==============================] - 171s - loss: 0.1950 - seg_out_loss: 0.0727 - contour_out_loss: 0.0510 - final_seg_loss: 0.0713 - seg_out_dice_value: 0.9892 - contour_out_binary_accuracy: 0.9528 - final_seg_dice_value: 0.9895 - val_loss: 0.1658 - val_seg_out_loss: 0.0563 - val_contour_out_loss: 0.0544 - val_final_seg_loss: 0.0551 - val_seg_out_dice_value: 0.9918 - val_contour_out_binary_accuracy: 0.9613 - val_final_seg_dice_value: 0.9920\n",
      "Epoch 7/100\n",
      "300/300 [==============================] - 170s - loss: 0.2242 - seg_out_loss: 0.0870 - contour_out_loss: 0.0534 - final_seg_loss: 0.0838 - seg_out_dice_value: 0.9862 - contour_out_binary_accuracy: 0.9527 - final_seg_dice_value: 0.9870 - val_loss: 0.1612 - val_seg_out_loss: 0.0543 - val_contour_out_loss: 0.0542 - val_final_seg_loss: 0.0528 - val_seg_out_dice_value: 0.9915 - val_contour_out_binary_accuracy: 0.9620 - val_final_seg_dice_value: 0.9919\n",
      "Epoch 8/100\n",
      "300/300 [==============================] - 171s - loss: 0.1868 - seg_out_loss: 0.0699 - contour_out_loss: 0.0486 - final_seg_loss: 0.0683 - seg_out_dice_value: 0.9896 - contour_out_binary_accuracy: 0.9531 - final_seg_dice_value: 0.9899 - val_loss: 0.1569 - val_seg_out_loss: 0.0531 - val_contour_out_loss: 0.0526 - val_final_seg_loss: 0.0513 - val_seg_out_dice_value: 0.9920 - val_contour_out_binary_accuracy: 0.9621 - val_final_seg_dice_value: 0.9923\n",
      "Epoch 9/100\n",
      "300/300 [==============================] - 171s - loss: 0.1820 - seg_out_loss: 0.0678 - contour_out_loss: 0.0480 - final_seg_loss: 0.0662 - seg_out_dice_value: 0.9899 - contour_out_binary_accuracy: 0.9535 - final_seg_dice_value: 0.9902 - val_loss: 0.1518 - val_seg_out_loss: 0.0509 - val_contour_out_loss: 0.0514 - val_final_seg_loss: 0.0496 - val_seg_out_dice_value: 0.9922 - val_contour_out_binary_accuracy: 0.9622 - val_final_seg_dice_value: 0.9925\n",
      "Epoch 10/100\n",
      "300/300 [==============================] - 171s - loss: 0.1740 - seg_out_loss: 0.0646 - contour_out_loss: 0.0462 - final_seg_loss: 0.0632 - seg_out_dice_value: 0.9905 - contour_out_binary_accuracy: 0.9535 - final_seg_dice_value: 0.9907 - val_loss: 0.1551 - val_seg_out_loss: 0.0530 - val_contour_out_loss: 0.0512 - val_final_seg_loss: 0.0509 - val_seg_out_dice_value: 0.9917 - val_contour_out_binary_accuracy: 0.9621 - val_final_seg_dice_value: 0.9922\n",
      "Epoch 11/100\n",
      "300/300 [==============================] - 173s - loss: 0.1734 - seg_out_loss: 0.0645 - contour_out_loss: 0.0458 - final_seg_loss: 0.0631 - seg_out_dice_value: 0.9905 - contour_out_binary_accuracy: 0.9536 - final_seg_dice_value: 0.9908 - val_loss: 0.1487 - val_seg_out_loss: 0.0498 - val_contour_out_loss: 0.0504 - val_final_seg_loss: 0.0485 - val_seg_out_dice_value: 0.9926 - val_contour_out_binary_accuracy: 0.9617 - val_final_seg_dice_value: 0.9927\n",
      "Epoch 12/100\n",
      "300/300 [==============================] - 172s - loss: 0.1672 - seg_out_loss: 0.0618 - contour_out_loss: 0.0449 - final_seg_loss: 0.0604 - seg_out_dice_value: 0.9910 - contour_out_binary_accuracy: 0.9537 - final_seg_dice_value: 0.9912 - val_loss: 0.1487 - val_seg_out_loss: 0.0513 - val_contour_out_loss: 0.0484 - val_final_seg_loss: 0.0490 - val_seg_out_dice_value: 0.9919 - val_contour_out_binary_accuracy: 0.9620 - val_final_seg_dice_value: 0.9923\n",
      "Epoch 13/100\n",
      "300/300 [==============================] - 177s - loss: 0.1712 - seg_out_loss: 0.0638 - contour_out_loss: 0.0450 - final_seg_loss: 0.0624 - seg_out_dice_value: 0.9906 - contour_out_binary_accuracy: 0.9536 - final_seg_dice_value: 0.9908 - val_loss: 0.1443 - val_seg_out_loss: 0.0483 - val_contour_out_loss: 0.0488 - val_final_seg_loss: 0.0472 - val_seg_out_dice_value: 0.9927 - val_contour_out_binary_accuracy: 0.9622 - val_final_seg_dice_value: 0.9930\n",
      "Epoch 14/100\n",
      "300/300 [==============================] - 171s - loss: 0.1690 - seg_out_loss: 0.0632 - contour_out_loss: 0.0443 - final_seg_loss: 0.0615 - seg_out_dice_value: 0.9907 - contour_out_binary_accuracy: 0.9538 - final_seg_dice_value: 0.9909 - val_loss: 0.1460 - val_seg_out_loss: 0.0492 - val_contour_out_loss: 0.0492 - val_final_seg_loss: 0.0476 - val_seg_out_dice_value: 0.9925 - val_contour_out_binary_accuracy: 0.9621 - val_final_seg_dice_value: 0.9927\n",
      "Epoch 15/100\n",
      "300/300 [==============================] - 174s - loss: 0.1598 - seg_out_loss: 0.0591 - contour_out_loss: 0.0428 - final_seg_loss: 0.0578 - seg_out_dice_value: 0.9913 - contour_out_binary_accuracy: 0.9537 - final_seg_dice_value: 0.9915 - val_loss: 0.1364 - val_seg_out_loss: 0.0457 - val_contour_out_loss: 0.0464 - val_final_seg_loss: 0.0444 - val_seg_out_dice_value: 0.9932 - val_contour_out_binary_accuracy: 0.9624 - val_final_seg_dice_value: 0.9935\n",
      "Epoch 16/100\n",
      "300/300 [==============================] - 172s - loss: 0.1530 - seg_out_loss: 0.0562 - contour_out_loss: 0.0418 - final_seg_loss: 0.0549 - seg_out_dice_value: 0.9918 - contour_out_binary_accuracy: 0.9546 - final_seg_dice_value: 0.9920 - val_loss: 0.1364 - val_seg_out_loss: 0.0457 - val_contour_out_loss: 0.0463 - val_final_seg_loss: 0.0445 - val_seg_out_dice_value: 0.9930 - val_contour_out_binary_accuracy: 0.9622 - val_final_seg_dice_value: 0.9932\n",
      "Epoch 17/100\n",
      "300/300 [==============================] - 171s - loss: 0.1573 - seg_out_loss: 0.0583 - contour_out_loss: 0.0421 - final_seg_loss: 0.0569 - seg_out_dice_value: 0.9915 - contour_out_binary_accuracy: 0.9540 - final_seg_dice_value: 0.9917 - val_loss: 0.1356 - val_seg_out_loss: 0.0459 - val_contour_out_loss: 0.0456 - val_final_seg_loss: 0.0441 - val_seg_out_dice_value: 0.9930 - val_contour_out_binary_accuracy: 0.9625 - val_final_seg_dice_value: 0.9934\n",
      "Epoch 18/100\n",
      "300/300 [==============================] - 171s - loss: 0.1555 - seg_out_loss: 0.0578 - contour_out_loss: 0.0414 - final_seg_loss: 0.0563 - seg_out_dice_value: 0.9916 - contour_out_binary_accuracy: 0.9540 - final_seg_dice_value: 0.9918 - val_loss: 0.1424 - val_seg_out_loss: 0.0479 - val_contour_out_loss: 0.0477 - val_final_seg_loss: 0.0468 - val_seg_out_dice_value: 0.9929 - val_contour_out_binary_accuracy: 0.9622 - val_final_seg_dice_value: 0.9931\n",
      "Epoch 19/100\n",
      "300/300 [==============================] - 172s - loss: 0.1800 - seg_out_loss: 0.0684 - contour_out_loss: 0.0453 - final_seg_loss: 0.0663 - seg_out_dice_value: 0.9896 - contour_out_binary_accuracy: 0.9540 - final_seg_dice_value: 0.9899 - val_loss: 0.1371 - val_seg_out_loss: 0.0457 - val_contour_out_loss: 0.0471 - val_final_seg_loss: 0.0443 - val_seg_out_dice_value: 0.9933 - val_contour_out_binary_accuracy: 0.9629 - val_final_seg_dice_value: 0.9936\n",
      "Epoch 20/100\n",
      "300/300 [==============================] - 172s - loss: 0.1536 - seg_out_loss: 0.0569 - contour_out_loss: 0.0412 - final_seg_loss: 0.0555 - seg_out_dice_value: 0.9917 - contour_out_binary_accuracy: 0.9539 - final_seg_dice_value: 0.9919 - val_loss: 0.1293 - val_seg_out_loss: 0.0430 - val_contour_out_loss: 0.0446 - val_final_seg_loss: 0.0416 - val_seg_out_dice_value: 0.9935 - val_contour_out_binary_accuracy: 0.9631 - val_final_seg_dice_value: 0.9938\n",
      "Epoch 21/100\n",
      "300/300 [==============================] - 172s - loss: 0.1492 - seg_out_loss: 0.0550 - contour_out_loss: 0.0404 - final_seg_loss: 0.0538 - seg_out_dice_value: 0.9920 - contour_out_binary_accuracy: 0.9543 - final_seg_dice_value: 0.9922 - val_loss: 0.1280 - val_seg_out_loss: 0.0426 - val_contour_out_loss: 0.0441 - val_final_seg_loss: 0.0413 - val_seg_out_dice_value: 0.9936 - val_contour_out_binary_accuracy: 0.9627 - val_final_seg_dice_value: 0.9939\n",
      "Epoch 22/100\n",
      "300/300 [==============================] - 172s - loss: 0.1465 - seg_out_loss: 0.0540 - contour_out_loss: 0.0397 - final_seg_loss: 0.0527 - seg_out_dice_value: 0.9921 - contour_out_binary_accuracy: 0.9546 - final_seg_dice_value: 0.9923 - val_loss: 0.1278 - val_seg_out_loss: 0.0425 - val_contour_out_loss: 0.0441 - val_final_seg_loss: 0.0411 - val_seg_out_dice_value: 0.9937 - val_contour_out_binary_accuracy: 0.9629 - val_final_seg_dice_value: 0.9940\n",
      "Epoch 23/100\n",
      "300/300 [==============================] - 171s - loss: 0.1461 - seg_out_loss: 0.0539 - contour_out_loss: 0.0396 - final_seg_loss: 0.0526 - seg_out_dice_value: 0.9922 - contour_out_binary_accuracy: 0.9545 - final_seg_dice_value: 0.9923 - val_loss: 0.2233 - val_seg_out_loss: 0.0880 - val_contour_out_loss: 0.0531 - val_final_seg_loss: 0.0822 - val_seg_out_dice_value: 0.9870 - val_contour_out_binary_accuracy: 0.9616 - val_final_seg_dice_value: 0.9875\n",
      "Epoch 24/100\n",
      "300/300 [==============================] - 172s - loss: 0.1461 - seg_out_loss: 0.0540 - contour_out_loss: 0.0393 - final_seg_loss: 0.0527 - seg_out_dice_value: 0.9921 - contour_out_binary_accuracy: 0.9545 - final_seg_dice_value: 0.9923 - val_loss: 0.1302 - val_seg_out_loss: 0.0439 - val_contour_out_loss: 0.0443 - val_final_seg_loss: 0.0421 - val_seg_out_dice_value: 0.9937 - val_contour_out_binary_accuracy: 0.9628 - val_final_seg_dice_value: 0.9940\n",
      "Epoch 25/100\n",
      "300/300 [==============================] - 171s - loss: 0.1431 - seg_out_loss: 0.0529 - contour_out_loss: 0.0388 - final_seg_loss: 0.0515 - seg_out_dice_value: 0.9923 - contour_out_binary_accuracy: 0.9549 - final_seg_dice_value: 0.9925 - val_loss: 0.1613 - val_seg_out_loss: 0.0570 - val_contour_out_loss: 0.0505 - val_final_seg_loss: 0.0539 - val_seg_out_dice_value: 0.9916 - val_contour_out_binary_accuracy: 0.9614 - val_final_seg_dice_value: 0.9921\n",
      "Epoch 26/100\n",
      "300/300 [==============================] - 172s - loss: 0.1522 - seg_out_loss: 0.0568 - contour_out_loss: 0.0403 - final_seg_loss: 0.0551 - seg_out_dice_value: 0.9917 - contour_out_binary_accuracy: 0.9541 - final_seg_dice_value: 0.9919 - val_loss: 0.1253 - val_seg_out_loss: 0.0417 - val_contour_out_loss: 0.0433 - val_final_seg_loss: 0.0403 - val_seg_out_dice_value: 0.9939 - val_contour_out_binary_accuracy: 0.9628 - val_final_seg_dice_value: 0.9941\n",
      "Epoch 27/100\n",
      "300/300 [==============================] - 171s - loss: 0.1409 - seg_out_loss: 0.0520 - contour_out_loss: 0.0381 - final_seg_loss: 0.0508 - seg_out_dice_value: 0.9924 - contour_out_binary_accuracy: 0.9545 - final_seg_dice_value: 0.9926 - val_loss: 0.1268 - val_seg_out_loss: 0.0419 - val_contour_out_loss: 0.0442 - val_final_seg_loss: 0.0407 - val_seg_out_dice_value: 0.9938 - val_contour_out_binary_accuracy: 0.9633 - val_final_seg_dice_value: 0.9939\n",
      "Epoch 28/100\n",
      "300/300 [==============================] - 172s - loss: 0.1395 - seg_out_loss: 0.0514 - contour_out_loss: 0.0379 - final_seg_loss: 0.0502 - seg_out_dice_value: 0.9925 - contour_out_binary_accuracy: 0.9546 - final_seg_dice_value: 0.9927 - val_loss: 0.1259 - val_seg_out_loss: 0.0421 - val_contour_out_loss: 0.0432 - val_final_seg_loss: 0.0406 - val_seg_out_dice_value: 0.9939 - val_contour_out_binary_accuracy: 0.9629 - val_final_seg_dice_value: 0.9941\n",
      "Epoch 29/100\n",
      "300/300 [==============================] - 171s - loss: 0.1412 - seg_out_loss: 0.0523 - contour_out_loss: 0.0380 - final_seg_loss: 0.0509 - seg_out_dice_value: 0.9924 - contour_out_binary_accuracy: 0.9544 - final_seg_dice_value: 0.9926 - val_loss: 0.1269 - val_seg_out_loss: 0.0420 - val_contour_out_loss: 0.0439 - val_final_seg_loss: 0.0409 - val_seg_out_dice_value: 0.9939 - val_contour_out_binary_accuracy: 0.9627 - val_final_seg_dice_value: 0.9941\n",
      "Epoch 30/100\n",
      "300/300 [==============================] - 172s - loss: 0.1376 - seg_out_loss: 0.0508 - contour_out_loss: 0.0373 - final_seg_loss: 0.0495 - seg_out_dice_value: 0.9926 - contour_out_binary_accuracy: 0.9548 - final_seg_dice_value: 0.9928 - val_loss: 0.1243 - val_seg_out_loss: 0.0410 - val_contour_out_loss: 0.0434 - val_final_seg_loss: 0.0398 - val_seg_out_dice_value: 0.9941 - val_contour_out_binary_accuracy: 0.9629 - val_final_seg_dice_value: 0.9944\n",
      "Epoch 31/100\n",
      "300/300 [==============================] - 171s - loss: 0.1367 - seg_out_loss: 0.0504 - contour_out_loss: 0.0371 - final_seg_loss: 0.0492 - seg_out_dice_value: 0.9927 - contour_out_binary_accuracy: 0.9546 - final_seg_dice_value: 0.9928 - val_loss: 0.1237 - val_seg_out_loss: 0.0411 - val_contour_out_loss: 0.0429 - val_final_seg_loss: 0.0398 - val_seg_out_dice_value: 0.9940 - val_contour_out_binary_accuracy: 0.9630 - val_final_seg_dice_value: 0.9942\n",
      "Epoch 32/100\n",
      "300/300 [==============================] - 172s - loss: 0.1372 - seg_out_loss: 0.0507 - contour_out_loss: 0.0370 - final_seg_loss: 0.0494 - seg_out_dice_value: 0.9926 - contour_out_binary_accuracy: 0.9548 - final_seg_dice_value: 0.9928 - val_loss: 0.1300 - val_seg_out_loss: 0.0436 - val_contour_out_loss: 0.0444 - val_final_seg_loss: 0.0420 - val_seg_out_dice_value: 0.9937 - val_contour_out_binary_accuracy: 0.9629 - val_final_seg_dice_value: 0.9940\n",
      "Epoch 33/100\n",
      "300/300 [==============================] - 172s - loss: 0.1387 - seg_out_loss: 0.0515 - contour_out_loss: 0.0371 - final_seg_loss: 0.0501 - seg_out_dice_value: 0.9925 - contour_out_binary_accuracy: 0.9544 - final_seg_dice_value: 0.9927 - val_loss: 0.1248 - val_seg_out_loss: 0.0409 - val_contour_out_loss: 0.0440 - val_final_seg_loss: 0.0399 - val_seg_out_dice_value: 0.9941 - val_contour_out_binary_accuracy: 0.9632 - val_final_seg_dice_value: 0.9943\n",
      "Epoch 34/100\n",
      "300/300 [==============================] - 172s - loss: 0.1344 - seg_out_loss: 0.0495 - contour_out_loss: 0.0367 - final_seg_loss: 0.0482 - seg_out_dice_value: 0.9928 - contour_out_binary_accuracy: 0.9550 - final_seg_dice_value: 0.9930 - val_loss: 0.1242 - val_seg_out_loss: 0.0409 - val_contour_out_loss: 0.0434 - val_final_seg_loss: 0.0399 - val_seg_out_dice_value: 0.9942 - val_contour_out_binary_accuracy: 0.9631 - val_final_seg_dice_value: 0.9943\n",
      "Epoch 35/100\n",
      "299/300 [============================>.] - ETA: 0s - loss: 0.1652 - seg_out_loss: 0.0632 - contour_out_loss: 0.0416 - final_seg_loss: 0.0604 - seg_out_dice_value: 0.9905 - contour_out_binary_accuracy: 0.9541 - final_seg_dice_value: 0.9910\n",
      "Epoch 00034: reducing learning rate to 0.00010000000475.\n"
     ]
    },
    {
     "name": "stdout",
     "output_type": "stream",
     "text": [
      "300/300 [==============================] - 171s - loss: 0.1652 - seg_out_loss: 0.0632 - contour_out_loss: 0.0416 - final_seg_loss: 0.0604 - seg_out_dice_value: 0.9905 - contour_out_binary_accuracy: 0.9541 - final_seg_dice_value: 0.9910 - val_loss: 0.1738 - val_seg_out_loss: 0.0626 - val_contour_out_loss: 0.0536 - val_final_seg_loss: 0.0577 - val_seg_out_dice_value: 0.9894 - val_contour_out_binary_accuracy: 0.9624 - val_final_seg_dice_value: 0.9904\n",
      "Epoch 36/100\n",
      "300/300 [==============================] - 172s - loss: 0.1396 - seg_out_loss: 0.0520 - contour_out_loss: 0.0372 - final_seg_loss: 0.0504 - seg_out_dice_value: 0.9924 - contour_out_binary_accuracy: 0.9547 - final_seg_dice_value: 0.9926 - val_loss: 0.1210 - val_seg_out_loss: 0.0402 - val_contour_out_loss: 0.0419 - val_final_seg_loss: 0.0389 - val_seg_out_dice_value: 0.9942 - val_contour_out_binary_accuracy: 0.9632 - val_final_seg_dice_value: 0.9944\n",
      "Epoch 37/100\n",
      "300/300 [==============================] - 172s - loss: 0.1339 - seg_out_loss: 0.0497 - contour_out_loss: 0.0359 - final_seg_loss: 0.0483 - seg_out_dice_value: 0.9927 - contour_out_binary_accuracy: 0.9546 - final_seg_dice_value: 0.9929 - val_loss: 0.1196 - val_seg_out_loss: 0.0396 - val_contour_out_loss: 0.0415 - val_final_seg_loss: 0.0384 - val_seg_out_dice_value: 0.9943 - val_contour_out_binary_accuracy: 0.9632 - val_final_seg_dice_value: 0.9946\n",
      "Epoch 38/100\n",
      "300/300 [==============================] - 172s - loss: 0.1325 - seg_out_loss: 0.0492 - contour_out_loss: 0.0354 - final_seg_loss: 0.0479 - seg_out_dice_value: 0.9928 - contour_out_binary_accuracy: 0.9547 - final_seg_dice_value: 0.9930 - val_loss: 0.1177 - val_seg_out_loss: 0.0389 - val_contour_out_loss: 0.0410 - val_final_seg_loss: 0.0378 - val_seg_out_dice_value: 0.9945 - val_contour_out_binary_accuracy: 0.9633 - val_final_seg_dice_value: 0.9947\n",
      "Epoch 39/100\n",
      "300/300 [==============================] - 172s - loss: 0.1307 - seg_out_loss: 0.0485 - contour_out_loss: 0.0350 - final_seg_loss: 0.0472 - seg_out_dice_value: 0.9929 - contour_out_binary_accuracy: 0.9548 - final_seg_dice_value: 0.9931 - val_loss: 0.1175 - val_seg_out_loss: 0.0388 - val_contour_out_loss: 0.0410 - val_final_seg_loss: 0.0377 - val_seg_out_dice_value: 0.9945 - val_contour_out_binary_accuracy: 0.9634 - val_final_seg_dice_value: 0.9947\n",
      "Epoch 40/100\n",
      "300/300 [==============================] - 172s - loss: 0.1270 - seg_out_loss: 0.0469 - contour_out_loss: 0.0346 - final_seg_loss: 0.0455 - seg_out_dice_value: 0.9932 - contour_out_binary_accuracy: 0.9555 - final_seg_dice_value: 0.9933 - val_loss: 0.1169 - val_seg_out_loss: 0.0385 - val_contour_out_loss: 0.0408 - val_final_seg_loss: 0.0376 - val_seg_out_dice_value: 0.9945 - val_contour_out_binary_accuracy: 0.9633 - val_final_seg_dice_value: 0.9948\n",
      "Epoch 41/100\n",
      "300/300 [==============================] - 179s - loss: 0.1269 - seg_out_loss: 0.0469 - contour_out_loss: 0.0343 - final_seg_loss: 0.0456 - seg_out_dice_value: 0.9932 - contour_out_binary_accuracy: 0.9554 - final_seg_dice_value: 0.9934 - val_loss: 0.1162 - val_seg_out_loss: 0.0383 - val_contour_out_loss: 0.0407 - val_final_seg_loss: 0.0373 - val_seg_out_dice_value: 0.9946 - val_contour_out_binary_accuracy: 0.9634 - val_final_seg_dice_value: 0.9948\n",
      "Epoch 42/100\n",
      "300/300 [==============================] - 171s - loss: 0.1277 - seg_out_loss: 0.0474 - contour_out_loss: 0.0343 - final_seg_loss: 0.0461 - seg_out_dice_value: 0.9931 - contour_out_binary_accuracy: 0.9550 - final_seg_dice_value: 0.9933 - val_loss: 0.1162 - val_seg_out_loss: 0.0382 - val_contour_out_loss: 0.0407 - val_final_seg_loss: 0.0373 - val_seg_out_dice_value: 0.9946 - val_contour_out_binary_accuracy: 0.9634 - val_final_seg_dice_value: 0.9948\n",
      "Epoch 43/100\n",
      "300/300 [==============================] - 171s - loss: 0.1270 - seg_out_loss: 0.0471 - contour_out_loss: 0.0341 - final_seg_loss: 0.0458 - seg_out_dice_value: 0.9932 - contour_out_binary_accuracy: 0.9551 - final_seg_dice_value: 0.9934 - val_loss: 0.1170 - val_seg_out_loss: 0.0386 - val_contour_out_loss: 0.0408 - val_final_seg_loss: 0.0376 - val_seg_out_dice_value: 0.9945 - val_contour_out_binary_accuracy: 0.9634 - val_final_seg_dice_value: 0.9948\n",
      "Epoch 44/100\n",
      "300/300 [==============================] - 172s - loss: 0.1261 - seg_out_loss: 0.0467 - contour_out_loss: 0.0339 - final_seg_loss: 0.0454 - seg_out_dice_value: 0.9932 - contour_out_binary_accuracy: 0.9552 - final_seg_dice_value: 0.9934 - val_loss: 0.1161 - val_seg_out_loss: 0.0382 - val_contour_out_loss: 0.0406 - val_final_seg_loss: 0.0373 - val_seg_out_dice_value: 0.9947 - val_contour_out_binary_accuracy: 0.9635 - val_final_seg_dice_value: 0.9949\n",
      "Epoch 45/100\n",
      "300/300 [==============================] - 172s - loss: 0.1261 - seg_out_loss: 0.0467 - contour_out_loss: 0.0339 - final_seg_loss: 0.0455 - seg_out_dice_value: 0.9932 - contour_out_binary_accuracy: 0.9551 - final_seg_dice_value: 0.9934 - val_loss: 0.1158 - val_seg_out_loss: 0.0381 - val_contour_out_loss: 0.0406 - val_final_seg_loss: 0.0372 - val_seg_out_dice_value: 0.9947 - val_contour_out_binary_accuracy: 0.9635 - val_final_seg_dice_value: 0.9949\n",
      "Epoch 46/100\n",
      "299/300 [============================>.] - ETA: 0s - loss: 0.1262 - seg_out_loss: 0.0469 - contour_out_loss: 0.0337 - final_seg_loss: 0.0456 - seg_out_dice_value: 0.9932 - contour_out_binary_accuracy: 0.9549 - final_seg_dice_value: 0.9933\n",
      "Epoch 00045: reducing learning rate to 1.0000000475e-05.\n",
      "300/300 [==============================] - 171s - loss: 0.1262 - seg_out_loss: 0.0469 - contour_out_loss: 0.0337 - final_seg_loss: 0.0456 - seg_out_dice_value: 0.9932 - contour_out_binary_accuracy: 0.9549 - final_seg_dice_value: 0.9933 - val_loss: 0.1164 - val_seg_out_loss: 0.0383 - val_contour_out_loss: 0.0407 - val_final_seg_loss: 0.0374 - val_seg_out_dice_value: 0.9947 - val_contour_out_binary_accuracy: 0.9634 - val_final_seg_dice_value: 0.9949\n",
      "Epoch 47/100\n",
      "300/300 [==============================] - 172s - loss: 0.1226 - seg_out_loss: 0.0453 - contour_out_loss: 0.0332 - final_seg_loss: 0.0441 - seg_out_dice_value: 0.9934 - contour_out_binary_accuracy: 0.9555 - final_seg_dice_value: 0.9936 - val_loss: 0.1151 - val_seg_out_loss: 0.0377 - val_contour_out_loss: 0.0404 - val_final_seg_loss: 0.0369 - val_seg_out_dice_value: 0.9947 - val_contour_out_binary_accuracy: 0.9635 - val_final_seg_dice_value: 0.9949\n",
      "Epoch 48/100\n",
      "300/300 [==============================] - 172s - loss: 0.1227 - seg_out_loss: 0.0453 - contour_out_loss: 0.0332 - final_seg_loss: 0.0441 - seg_out_dice_value: 0.9934 - contour_out_binary_accuracy: 0.9556 - final_seg_dice_value: 0.9936 - val_loss: 0.1149 - val_seg_out_loss: 0.0377 - val_contour_out_loss: 0.0404 - val_final_seg_loss: 0.0368 - val_seg_out_dice_value: 0.9947 - val_contour_out_binary_accuracy: 0.9635 - val_final_seg_dice_value: 0.9949\n",
      "Epoch 49/100\n",
      "300/300 [==============================] - 172s - loss: 0.1237 - seg_out_loss: 0.0458 - contour_out_loss: 0.0332 - final_seg_loss: 0.0446 - seg_out_dice_value: 0.9934 - contour_out_binary_accuracy: 0.9552 - final_seg_dice_value: 0.9935 - val_loss: 0.1149 - val_seg_out_loss: 0.0377 - val_contour_out_loss: 0.0403 - val_final_seg_loss: 0.0368 - val_seg_out_dice_value: 0.9948 - val_contour_out_binary_accuracy: 0.9636 - val_final_seg_dice_value: 0.9950\n",
      "Epoch 50/100\n",
      "300/300 [==============================] - 172s - loss: 0.1219 - seg_out_loss: 0.0450 - contour_out_loss: 0.0330 - final_seg_loss: 0.0438 - seg_out_dice_value: 0.9934 - contour_out_binary_accuracy: 0.9555 - final_seg_dice_value: 0.9936 - val_loss: 0.1149 - val_seg_out_loss: 0.0377 - val_contour_out_loss: 0.0404 - val_final_seg_loss: 0.0368 - val_seg_out_dice_value: 0.9948 - val_contour_out_binary_accuracy: 0.9636 - val_final_seg_dice_value: 0.9950\n",
      "Epoch 51/100\n",
      "300/300 [==============================] - 172s - loss: 0.1223 - seg_out_loss: 0.0452 - contour_out_loss: 0.0332 - final_seg_loss: 0.0439 - seg_out_dice_value: 0.9934 - contour_out_binary_accuracy: 0.9555 - final_seg_dice_value: 0.9936 - val_loss: 0.1148 - val_seg_out_loss: 0.0376 - val_contour_out_loss: 0.0403 - val_final_seg_loss: 0.0368 - val_seg_out_dice_value: 0.9948 - val_contour_out_binary_accuracy: 0.9635 - val_final_seg_dice_value: 0.9950\n",
      "Epoch 52/100\n"
     ]
    },
    {
     "name": "stdout",
     "output_type": "stream",
     "text": [
      "299/300 [============================>.] - ETA: 0s - loss: 0.1230 - seg_out_loss: 0.0455 - contour_out_loss: 0.0332 - final_seg_loss: 0.0443 - seg_out_dice_value: 0.9934 - contour_out_binary_accuracy: 0.9553 - final_seg_dice_value: 0.9936\n",
      "Epoch 00051: reducing learning rate to 1.00000006569e-06.\n",
      "300/300 [==============================] - 172s - loss: 0.1230 - seg_out_loss: 0.0455 - contour_out_loss: 0.0332 - final_seg_loss: 0.0443 - seg_out_dice_value: 0.9934 - contour_out_binary_accuracy: 0.9553 - final_seg_dice_value: 0.9936 - val_loss: 0.1148 - val_seg_out_loss: 0.0376 - val_contour_out_loss: 0.0404 - val_final_seg_loss: 0.0368 - val_seg_out_dice_value: 0.9948 - val_contour_out_binary_accuracy: 0.9636 - val_final_seg_dice_value: 0.9950\n",
      "Epoch 53/100\n",
      "300/300 [==============================] - 171s - loss: 0.1240 - seg_out_loss: 0.0460 - contour_out_loss: 0.0333 - final_seg_loss: 0.0448 - seg_out_dice_value: 0.9933 - contour_out_binary_accuracy: 0.9551 - final_seg_dice_value: 0.9935 - val_loss: 0.1147 - val_seg_out_loss: 0.0376 - val_contour_out_loss: 0.0403 - val_final_seg_loss: 0.0368 - val_seg_out_dice_value: 0.9948 - val_contour_out_binary_accuracy: 0.9636 - val_final_seg_dice_value: 0.9950\n",
      "Epoch 54/100\n",
      "300/300 [==============================] - 171s - loss: 0.1223 - seg_out_loss: 0.0452 - contour_out_loss: 0.0331 - final_seg_loss: 0.0440 - seg_out_dice_value: 0.9934 - contour_out_binary_accuracy: 0.9554 - final_seg_dice_value: 0.9936 - val_loss: 0.1147 - val_seg_out_loss: 0.0376 - val_contour_out_loss: 0.0403 - val_final_seg_loss: 0.0368 - val_seg_out_dice_value: 0.9948 - val_contour_out_binary_accuracy: 0.9635 - val_final_seg_dice_value: 0.9950\n",
      "Epoch 55/100\n",
      "300/300 [==============================] - 172s - loss: 0.1233 - seg_out_loss: 0.0457 - contour_out_loss: 0.0332 - final_seg_loss: 0.0445 - seg_out_dice_value: 0.9934 - contour_out_binary_accuracy: 0.9552 - final_seg_dice_value: 0.9935 - val_loss: 0.1148 - val_seg_out_loss: 0.0376 - val_contour_out_loss: 0.0403 - val_final_seg_loss: 0.0368 - val_seg_out_dice_value: 0.9948 - val_contour_out_binary_accuracy: 0.9636 - val_final_seg_dice_value: 0.9950\n",
      "Epoch 56/100\n",
      "299/300 [============================>.] - ETA: 0s - loss: 0.1232 - seg_out_loss: 0.0456 - contour_out_loss: 0.0332 - final_seg_loss: 0.0444 - seg_out_dice_value: 0.9934 - contour_out_binary_accuracy: 0.9553 - final_seg_dice_value: 0.9935\n",
      "Epoch 00055: reducing learning rate to 1.00000011116e-07.\n",
      "300/300 [==============================] - 172s - loss: 0.1232 - seg_out_loss: 0.0456 - contour_out_loss: 0.0332 - final_seg_loss: 0.0444 - seg_out_dice_value: 0.9934 - contour_out_binary_accuracy: 0.9553 - final_seg_dice_value: 0.9935 - val_loss: 0.1147 - val_seg_out_loss: 0.0376 - val_contour_out_loss: 0.0403 - val_final_seg_loss: 0.0368 - val_seg_out_dice_value: 0.9948 - val_contour_out_binary_accuracy: 0.9636 - val_final_seg_dice_value: 0.9950\n",
      "Epoch 00055: early stopping\n"
     ]
    },
    {
     "data": {
      "text/plain": [
       "<keras.callbacks.History at 0x7f57f8a18fd0>"
      ]
     },
     "execution_count": 8,
     "metadata": {},
     "output_type": "execute_result"
    }
   ],
   "source": [
    "epochs = 100\n",
    "batch_size = 8\n",
    "run_name = utils_contour.get_run_name('weights/{}.hdf5', 'DCAN')\n",
    "weights_path = 'weights/{}.hdf5'.format(run_name)\n",
    "\n",
    "callbacks = [EarlyStopping(monitor='val_final_seg_dice_value',\n",
    "                           patience=8,\n",
    "                           verbose=1,\n",
    "                           min_delta=1e-4,\n",
    "                           mode='max'),\n",
    "             ReduceLROnPlateau(monitor='val_final_seg_dice_value',\n",
    "                               factor=0.1,\n",
    "                               patience=4,\n",
    "                               verbose=1,\n",
    "                               epsilon=1e-4,\n",
    "                               mode='max'),\n",
    "             ModelCheckpoint(monitor='val_final_seg_dice_value',\n",
    "                             filepath=weights_path,\n",
    "                             save_best_only=True,\n",
    "                             save_weights_only=True,\n",
    "                             mode='max'),\n",
    "             TensorBoard(log_dir='logs/{}'.format(run_name), batch_size=batch_size)]\n",
    "\n",
    "#model.load_weights('weights/unet-2017-09-02-0322.hdf5')\n",
    "#K.set_value(model.optimizer.lr, 0.01)\n",
    "\n",
    "print('Starting run \"{}\"'.format(run_name))\n",
    "model.fit_generator(generator=train_generator(batch_size),\n",
    "                    steps_per_epoch=np.ceil(float(len(ids_train_split)) / float(batch_size)),\n",
    "                    epochs=epochs,\n",
    "                    verbose=1,\n",
    "                    callbacks=callbacks,\n",
    "                    validation_data=valid_generator(batch_size),\n",
    "                    validation_steps=np.ceil(float(len(ids_valid_split)) / float(batch_size)))"
   ]
  },
  {
   "cell_type": "markdown",
   "metadata": {},
   "source": [
    "## Validation"
   ]
  },
  {
   "cell_type": "code",
   "execution_count": 5,
   "metadata": {
    "collapsed": true
   },
   "outputs": [],
   "source": [
    "def np_dice_value(y_true, y_pred):\n",
    "    smooth = 1.\n",
    "    y_true_f = y_true.flatten()\n",
    "    y_pred_f = y_pred.flatten()\n",
    "    intersection = np.sum(y_true_f * y_pred_f)\n",
    "    return (2. * intersection + smooth) / (np.sum(y_true_f) + np.sum(y_pred_f) + smooth)"
   ]
  },
  {
   "cell_type": "markdown",
   "metadata": {},
   "source": [
    "### Prediction"
   ]
  },
  {
   "cell_type": "code",
   "execution_count": 6,
   "metadata": {
    "collapsed": true
   },
   "outputs": [],
   "source": [
    "run_name = 'unet-2017-09-03-1739'\n",
    "model.load_weights('weights/{}.hdf5'.format(run_name))\n",
    "\n",
    "val_imgs, val_masks = next(valid_generator(len(ids_valid_split)))\n",
    "val_imgs = np.array(val_imgs)\n",
    "val_masks = np.array(val_masks)\n",
    "val_pred_masks = model.predict(val_imgs, batch_size=1)\n",
    "masks_val_dices = [np_dice_value(mask, pred_mask) for (mask, pred_mask) in zip(val_masks, val_pred_masks)]"
   ]
  },
  {
   "cell_type": "markdown",
   "metadata": {},
   "source": [
    "### Display the worst predicted mask for validation examples"
   ]
  },
  {
   "cell_type": "code",
   "execution_count": 20,
   "metadata": {},
   "outputs": [
    {
     "name": "stdout",
     "output_type": "stream",
     "text": [
      "2faf504842df_09 0.99134050897\n"
     ]
    },
    {
     "data": {
      "image/png": "[encoded data removed]",
      "text/plain": [
       "<matplotlib.figure.Figure at 0x7fd8c2195b90>"
      ]
     },
     "metadata": {},
     "output_type": "display_data"
    }
   ],
   "source": [
    "index = np.argsort(masks_val_dices)[0]\n",
    "id = ids_valid_split.values[index]\n",
    "utils.show_mask(train_path.format(id), val_masks[index].squeeze(), val_pred_masks[index].squeeze(), show_img=False)\n",
    "print id, masks_val_dices[index]"
   ]
  },
  {
   "cell_type": "markdown",
   "metadata": {},
   "source": [
    "### Histogram"
   ]
  },
  {
   "cell_type": "code",
   "execution_count": null,
   "metadata": {
    "collapsed": true
   },
   "outputs": [],
   "source": [
    "hist, bins = np.histogram(masks_val_dices, bins=50)\n",
    "width = 0.7 * (bins[1] - bins[0])\n",
    "center = (bins[:-1] + bins[1:]) / 2\n",
    "plt.bar(center, hist, align='center', width=width)\n",
    "plt.show()"
   ]
  },
  {
   "cell_type": "markdown",
   "metadata": {},
   "source": [
    "### Visualization"
   ]
  },
  {
   "cell_type": "code",
   "execution_count": null,
   "metadata": {
    "collapsed": true
   },
   "outputs": [],
   "source": [
    "indices = np.random.randint(len(ids_valid_split), size=3)\n",
    "for index in indices:\n",
    "    id = ids_valid_split.values[index]\n",
    "    utils.show_mask(train_path.format(id), val_masks[index].squeeze(), val_pred_masks[index].squeeze(),\n",
    "                    show_img=True, bbox = bboxes[id])"
   ]
  },
  {
   "cell_type": "markdown",
   "metadata": {},
   "source": [
    "## Test"
   ]
  },
  {
   "cell_type": "markdown",
   "metadata": {},
   "source": [
    "### Load Model"
   ]
  },
  {
   "cell_type": "code",
   "execution_count": null,
   "metadata": {
    "collapsed": true
   },
   "outputs": [],
   "source": [
    "# Create model first if required\n",
    "run_name = 'unet-2017-08-20-5'\n",
    "model.load_weights('weights/{}.hdf5'.format(run_name))"
   ]
  },
  {
   "cell_type": "markdown",
   "metadata": {},
   "source": [
    "### Generate Submit"
   ]
  },
  {
   "cell_type": "code",
   "execution_count": null,
   "metadata": {
    "collapsed": true
   },
   "outputs": [],
   "source": [
    "batch_size = 16\n",
    "threshold = 0.5\n",
    "test_path = 'inputs/test1/' #'inputs/test/'\n",
    "test_masks_path = 'outputs/test1_masks/' #None\n",
    "generate_submit(model, input_size, batch_size, threshold, test_path, 'outputs/', run_name, test_masks_path)"
   ]
  },
  {
   "cell_type": "markdown",
   "metadata": {},
   "source": [
    "### Visualization"
   ]
  },
  {
   "cell_type": "code",
   "execution_count": null,
   "metadata": {
    "collapsed": true
   },
   "outputs": [],
   "source": [
    "utils.show_test_masks(test_path, test_masks_path)"
   ]
  }
 ],
 "metadata": {
  "kernelspec": {
   "display_name": "keras-tf",
   "language": "python",
   "name": "keras-tf"
  },
  "language_info": {
   "codemirror_mode": {
    "name": "ipython",
    "version": 2
   },
   "file_extension": ".py",
   "mimetype": "text/x-python",
   "name": "python",
   "nbconvert_exporter": "python",
   "pygments_lexer": "ipython2",
   "version": "2.7.6"
  }
 },
 "nbformat": 4,
 "nbformat_minor": 2
}
