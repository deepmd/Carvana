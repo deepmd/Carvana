{
 "cells": [
  {
   "cell_type": "markdown",
   "metadata": {},
   "source": [
    "## Carvana-MobileNet-UNet"
   ]
  },
  {
   "cell_type": "code",
   "execution_count": 1,
   "metadata": {},
   "outputs": [
    {
     "name": "stderr",
     "output_type": "stream",
     "text": [
      "Using TensorFlow backend.\n"
     ]
    }
   ],
   "source": [
    "from keras.callbacks import EarlyStopping, ReduceLROnPlateau, ModelCheckpoint, TensorBoard\n",
    "import numpy as np\n",
    "import pandas as pd\n",
    "from sklearn.model_selection import train_test_split\n",
    "from optimizers.AdamAccumulate import AdamAccumulate\n",
    "from optimizers.SGDAccumulate import SGDAccumulate\n",
    "from models.Mobile_U_Net import mobile_u_net\n",
    "from submit import generate_submit\n",
    "from utilities import utils_masks\n",
    "from utilities import losses\n",
    "\n",
    "%load_ext autoreload\n",
    "%autoreload 2\n",
    "%matplotlib inline"
   ]
  },
  {
   "cell_type": "code",
   "execution_count": 2,
   "metadata": {
    "collapsed": true
   },
   "outputs": [],
   "source": [
    "utils_masks.set_results_reproducible()"
   ]
  },
  {
   "cell_type": "markdown",
   "metadata": {},
   "source": [
    "## Preparing Data"
   ]
  },
  {
   "cell_type": "code",
   "execution_count": 3,
   "metadata": {},
   "outputs": [
    {
     "name": "stdout",
     "output_type": "stream",
     "text": [
      "Training on 4070 samples\n",
      "Validating on 1018 samples\n"
     ]
    }
   ],
   "source": [
    "input_size = 128\n",
    "train_path = \"inputs/train/{}.jpg\" \n",
    "train_mask_path = \"inputs/train_masks/{}_mask.gif\"\n",
    "df_train = pd.read_csv('inputs/train_masks.csv')\n",
    "ids_train = df_train['img'].map(lambda s: s.split('.')[0])#[:3000]\n",
    "ids_train_split, ids_valid_split = train_test_split(ids_train, test_size=0.2, random_state=42)\n",
    "\n",
    "print('Training on {} samples'.format(len(ids_train_split)))\n",
    "print('Validating on {} samples'.format(len(ids_valid_split)))\n",
    "\n",
    "bboxes = None\n",
    "bbox_file_path = 'inputs/train_bboxes.csv'\n",
    "bboxes = utils_masks.get_bboxes(bbox_file_path)\n",
    "\n",
    "def train_generator(batch_size):\n",
    "    return utils_masks.train_generator(train_path, train_mask_path, ids_train_split, input_size, batch_size, bboxes)\n",
    "\n",
    "def valid_generator(batch_size):\n",
    "    return utils_masks.valid_generator(train_path, train_mask_path, ids_valid_split, input_size, batch_size, bboxes)"
   ]
  },
  {
   "cell_type": "markdown",
   "metadata": {},
   "source": [
    "## Create Model"
   ]
  },
  {
   "cell_type": "code",
   "execution_count": 4,
   "metadata": {
    "collapsed": true
   },
   "outputs": [],
   "source": [
    "model = mobile_u_net(input_size)\n",
    "\n",
    "model.compile(optimizer=AdamAccumulate(accum_iters=4), \n",
    "              loss=losses.weighted_bce_dice_loss, \n",
    "              metrics=[losses.dice_value])"
   ]
  },
  {
   "cell_type": "code",
   "execution_count": 5,
   "metadata": {},
   "outputs": [
    {
     "data": {
      "text/plain": [
       "21995265"
      ]
     },
     "execution_count": 5,
     "metadata": {},
     "output_type": "execute_result"
    }
   ],
   "source": [
    "model.count_params()"
   ]
  },
  {
   "cell_type": "code",
   "execution_count": 5,
   "metadata": {
    "collapsed": true
   },
   "outputs": [],
   "source": [
    "#model.summary()"
   ]
  },
  {
   "cell_type": "markdown",
   "metadata": {},
   "source": [
    "## Fit Model"
   ]
  },
  {
   "cell_type": "code",
   "execution_count": 6,
   "metadata": {
    "scrolled": false
   },
   "outputs": [
    {
     "data": {
      "text/plain": [
       "'print(\\'Starting run \"{}\"\\'.format(run_name))\\nmodel.fit_generator(generator=train_generator(batch_size),\\n                    steps_per_epoch=np.ceil(float(len(ids_train_split)) / float(batch_size)),\\n                    epochs=epochs,\\n                    verbose=1,\\n                    callbacks=callbacks,\\n                    validation_data=valid_generator(batch_size),\\n                    validation_steps=np.ceil(float(len(ids_valid_split)) / float(batch_size)))'"
      ]
     },
     "execution_count": 6,
     "metadata": {},
     "output_type": "execute_result"
    }
   ],
   "source": [
    "epochs = 5\n",
    "batch_size = 16\n",
    "run_name = utils_masks.get_run_name('weights/{}.hdf5', 'mobilenet-unet')\n",
    "weights_path = 'weights/{}.hdf5'.format(run_name)\n",
    "\n",
    "callbacks = [EarlyStopping(monitor='val_dice_value',\n",
    "                           patience=8,\n",
    "                           verbose=1,\n",
    "                           min_delta=1e-4,\n",
    "                           mode='max'),\n",
    "             ReduceLROnPlateau(monitor='val_dice_value',\n",
    "                               factor=0.1,\n",
    "                               patience=4,\n",
    "                               verbose=1,\n",
    "                               epsilon=1e-4,\n",
    "                               mode='max'),\n",
    "             ModelCheckpoint(monitor='val_dice_value',\n",
    "                             filepath=weights_path,\n",
    "                             save_best_only=True,\n",
    "                             save_weights_only=True,\n",
    "                             mode='max'),\n",
    "             TensorBoard(log_dir='logs/{}'.format(run_name), batch_size=batch_size)]\n",
    "\n",
    "#model.load_weights('weights/unet-2017-09-02-0322.hdf5')\n",
    "#K.set_value(model.optimizer.lr, 0.01)\n",
    "\n",
    "'''print('Starting run \"{}\"'.format(run_name))\n",
    "model.fit_generator(generator=train_generator(batch_size),\n",
    "                    steps_per_epoch=np.ceil(float(len(ids_train_split)) / float(batch_size)),\n",
    "                    epochs=epochs,\n",
    "                    verbose=1,\n",
    "                    callbacks=callbacks,\n",
    "                    validation_data=valid_generator(batch_size),\n",
    "                    validation_steps=np.ceil(float(len(ids_valid_split)) / float(batch_size)))'''"
   ]
  },
  {
   "cell_type": "markdown",
   "metadata": {},
   "source": [
    "## Finetune weights of pretrained MobileNet."
   ]
  },
  {
   "cell_type": "code",
   "execution_count": 15,
   "metadata": {
    "collapsed": true
   },
   "outputs": [],
   "source": [
    "from keras.optimizers import Adam"
   ]
  },
  {
   "cell_type": "code",
   "execution_count": 17,
   "metadata": {},
   "outputs": [],
   "source": [
    "model.load_weights('weights/mobilenet-unet-2017-09-19-0114.hdf5')\n",
    "\n",
    "model.compile(optimizer=Adam(), #SGDAccumulate(lr=1e-2, momentum=0.9, accum_iters=4), \n",
    "              loss=losses.weighted_bce_dice_loss, \n",
    "              metrics=[losses.dice_value])"
   ]
  },
  {
   "cell_type": "code",
   "execution_count": 9,
   "metadata": {},
   "outputs": [],
   "source": [
    "#model.summary()"
   ]
  },
  {
   "cell_type": "code",
   "execution_count": 7,
   "metadata": {
    "collapsed": true
   },
   "outputs": [],
   "source": [
    "layer_index = 58\n",
    "for layer in model.layers[:layer_index]: layer.trainable=False\n",
    "for layer in model.layers[layer_index:]: layer.trainable=True"
   ]
  },
  {
   "cell_type": "code",
   "execution_count": 28,
   "metadata": {},
   "outputs": [
    {
     "data": {
      "text/plain": [
       "'conv_dw_10'"
      ]
     },
     "execution_count": 28,
     "metadata": {},
     "output_type": "execute_result"
    }
   ],
   "source": [
    "model.layers[layer_index].name"
   ]
  },
  {
   "cell_type": "code",
   "execution_count": 18,
   "metadata": {
    "collapsed": true
   },
   "outputs": [],
   "source": [
    "for layer in model.layers: layer.trainable=True"
   ]
  },
  {
   "cell_type": "code",
   "execution_count": 19,
   "metadata": {},
   "outputs": [
    {
     "data": {
      "text/plain": [
       "True"
      ]
     },
     "execution_count": 19,
     "metadata": {},
     "output_type": "execute_result"
    }
   ],
   "source": [
    "model.layers[1].trainable"
   ]
  },
  {
   "cell_type": "code",
   "execution_count": 20,
   "metadata": {},
   "outputs": [],
   "source": [
    "model.load_weights('weights/mobilenet-unet-2017-09-19-1322.hdf5')"
   ]
  },
  {
   "cell_type": "code",
   "execution_count": null,
   "metadata": {},
   "outputs": [
    {
     "name": "stdout",
     "output_type": "stream",
     "text": [
      "Starting run \"mobilenet-unet-2017-09-20-1824\"\n",
      "Epoch 1/100\n",
      "255/255 [==============================] - 159s - loss: 0.4779 - dice_value: 0.9924 - val_loss: 0.4708 - val_dice_value: 0.9932\n",
      "Epoch 2/100\n",
      "255/255 [==============================] - 155s - loss: 0.4784 - dice_value: 0.9925 - val_loss: 0.4682 - val_dice_value: 0.9943\n",
      "Epoch 3/100\n",
      "255/255 [==============================] - 154s - loss: 0.4775 - dice_value: 0.9926 - val_loss: 0.4677 - val_dice_value: 0.9944\n",
      "Epoch 4/100\n",
      "255/255 [==============================] - 153s - loss: 0.4768 - dice_value: 0.9928 - val_loss: 0.4720 - val_dice_value: 0.9930\n",
      "Epoch 5/100\n",
      "255/255 [==============================] - 154s - loss: 0.4773 - dice_value: 0.9927 - val_loss: 0.4683 - val_dice_value: 0.9943\n",
      "Epoch 6/100\n",
      "255/255 [==============================] - 155s - loss: 0.4773 - dice_value: 0.9929 - val_loss: 0.4679 - val_dice_value: 0.9943\n",
      "Epoch 7/100\n",
      "255/255 [==============================] - 156s - loss: 0.4763 - dice_value: 0.9931 - val_loss: 0.4671 - val_dice_value: 0.9946\n",
      "Epoch 8/100\n",
      "255/255 [==============================] - 156s - loss: 0.4763 - dice_value: 0.9930 - val_loss: 0.4669 - val_dice_value: 0.9947\n",
      "Epoch 9/100\n",
      "255/255 [==============================] - 155s - loss: 0.4764 - dice_value: 0.9930 - val_loss: 0.4669 - val_dice_value: 0.9946\n",
      "Epoch 10/100\n",
      "255/255 [==============================] - 158s - loss: 0.4757 - dice_value: 0.9932 - val_loss: 0.4670 - val_dice_value: 0.9946\n",
      "Epoch 11/100\n",
      "255/255 [==============================] - 155s - loss: 0.4761 - dice_value: 0.9931 - val_loss: 0.4667 - val_dice_value: 0.9947\n",
      "Epoch 12/100\n",
      "254/255 [============================>.] - ETA: 0s - loss: 0.4750 - dice_value: 0.9933\n",
      "Epoch 00011: reducing learning rate to 0.00010000000475.\n",
      "255/255 [==============================] - 156s - loss: 0.4750 - dice_value: 0.9933 - val_loss: 0.4668 - val_dice_value: 0.9946\n",
      "Epoch 13/100\n",
      "133/255 [==============>...............] - ETA: 58s - loss: 0.4760 - dice_value: 0.9933"
     ]
    }
   ],
   "source": [
    "epochs = 100\n",
    "\n",
    "print('Starting run \"{}\"'.format(run_name))\n",
    "model.fit_generator(generator=train_generator(batch_size),\n",
    "                    steps_per_epoch=np.ceil(float(len(ids_train_split)) / float(batch_size)),\n",
    "                    epochs=epochs,\n",
    "                    verbose=1,\n",
    "                    callbacks=callbacks,\n",
    "                    validation_data=valid_generator(batch_size),\n",
    "                    validation_steps=np.ceil(float(len(ids_valid_split)) / float(batch_size)))"
   ]
  },
  {
   "cell_type": "code",
   "execution_count": null,
   "metadata": {
    "collapsed": true
   },
   "outputs": [],
   "source": []
  }
 ],
 "metadata": {
  "kernelspec": {
   "display_name": "keras-tf",
   "language": "python",
   "name": "keras-tf"
  },
  "language_info": {
   "codemirror_mode": {
    "name": "ipython",
    "version": 2
   },
   "file_extension": ".py",
   "mimetype": "text/x-python",
   "name": "python",
   "nbconvert_exporter": "python",
   "pygments_lexer": "ipython2",
   "version": "2.7.6"
  }
 },
 "nbformat": 4,
 "nbformat_minor": 2
}
