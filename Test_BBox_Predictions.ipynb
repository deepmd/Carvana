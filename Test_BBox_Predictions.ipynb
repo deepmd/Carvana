{
 "cells": [
  {
   "cell_type": "markdown",
   "metadata": {},
   "source": [
    "# BBox Predictions"
   ]
  },
  {
   "cell_type": "markdown",
   "metadata": {},
   "source": [
    "## Imports"
   ]
  },
  {
   "cell_type": "code",
   "execution_count": null,
   "metadata": {},
   "outputs": [],
   "source": [
    "from keras.layers.advanced_activations import PReLU\n",
    "from keras.optimizers import Adam\n",
    "import cv2\n",
    "import numpy as np\n",
    "import pandas as pd\n",
    "import matplotlib.pyplot as plt\n",
    "from sklearn.model_selection import train_test_split\n",
    "from models.u_net import UNet\n",
    "import utils\n",
    "import random\n",
    "\n",
    "%load_ext autoreload\n",
    "%autoreload 2\n",
    "%matplotlib inline"
   ]
  },
  {
   "cell_type": "markdown",
   "metadata": {},
   "source": [
    "## Preparing"
   ]
  },
  {
   "cell_type": "code",
   "execution_count": null,
   "metadata": {},
   "outputs": [],
   "source": [
    "input_size = 128\n",
    "train_path = \"inputs/train/{}.jpg\" \n",
    "train_mask_path = \"inputs/train_masks/{}_mask.gif\"\n",
    "df_train = pd.read_csv('inputs/train_masks.csv')\n",
    "ids_train = df_train['img'].map(lambda s: s.split('.')[0])\n",
    "ids_train_split, ids_valid_split = train_test_split(ids_train, test_size=0.2, random_state=42)\n",
    "\n",
    "print('Training on {} samples'.format(len(ids_train_split)))\n",
    "print('Validating on {} samples'.format(len(ids_valid_split)))\n",
    "\n",
    "GT_bbox_file_path = 'inputs/train_bbox.csv'\n",
    "GT_bboxes = utils.get_bboxes(GT_bbox_file_path)\n",
    "\n",
    "pred_bbox_file_path = 'inputs/train_bbox2.csv'\n",
    "pred_bboxes = utils.get_bboxes(pred_bbox_file_path)\n",
    "\n",
    "def valid_generator(batch_size):\n",
    "    return utils.valid_generator(train_path, train_mask_path, ids_valid_split, input_size, batch_size, pred_bboxes)\n",
    "\n",
    "failed_preds_ids = []\n",
    "for id in ids_valid_split:\n",
    "    (gx1,gy1,gx2,gy2) = tuple(GT_bboxes[id])\n",
    "    (px1,py1,px2,py2) = tuple(pred_bboxes[id])\n",
    "    if px1-gx1 >= 10 or py1-gy1 >= 10 or gx2-px2 >= 10 or gy2-py2 >= 10:\n",
    "        failed_preds_ids.append(id)"
   ]
  },
  {
   "cell_type": "markdown",
   "metadata": {},
   "source": [
    "## Create Model"
   ]
  },
  {
   "cell_type": "code",
   "execution_count": null,
   "metadata": {},
   "outputs": [],
   "source": [
    "#U-Net:\n",
    "model = UNet((input_size, input_size, 3), filters=64, depth=4, activation=lambda x: PReLU()(x))\n",
    "model.compile(Adam(), loss='binary_crossentropy')\n",
    "model.load_weights('weights/unet-2017-09-14-1443.hdf5')"
   ]
  },
  {
   "cell_type": "markdown",
   "metadata": {},
   "source": [
    "## Validation"
   ]
  },
  {
   "cell_type": "code",
   "execution_count": null,
   "metadata": {},
   "outputs": [],
   "source": [
    "def np_dice_value(y_true, y_pred):\n",
    "    smooth = 1.\n",
    "    y_true_f = y_true.flatten()\n",
    "    y_pred_f = y_pred.flatten()\n",
    "    intersection = np.sum(y_true_f * y_pred_f)\n",
    "    return (2. * intersection + smooth) / (np.sum(y_true_f) + np.sum(y_pred_f) + smooth)"
   ]
  },
  {
   "cell_type": "markdown",
   "metadata": {},
   "source": [
    "### Prediction"
   ]
  },
  {
   "cell_type": "code",
   "execution_count": null,
   "metadata": {},
   "outputs": [],
   "source": [
    "val_imgs, val_masks = next(valid_generator(len(ids_valid_split)))\n",
    "val_imgs = np.array(val_imgs)\n",
    "val_masks = np.array(val_masks)\n",
    "val_pred_masks = model.predict(val_imgs, batch_size=1)"
   ]
  },
  {
   "cell_type": "markdown",
   "metadata": {},
   "source": [
    "### Histogram"
   ]
  },
  {
   "cell_type": "code",
   "execution_count": null,
   "metadata": {},
   "outputs": [],
   "source": [
    "failed_preds_indices = [i for i, id in enumerate(ids_valid_split.values) if id in failed_preds_ids]\n",
    "failed_val_masks = [val_masks[i] for i in failed_preds_indices]\n",
    "failed_val_pred_masks = [val_pred_masks[i] for i in failed_preds_indices]\n",
    "\n",
    "failed_masks_val_dices = [np_dice_value(mask, pred_mask) for (mask, pred_mask) in zip(failed_val_masks, failed_val_pred_masks)]\n",
    "hist, bins = np.histogram(failed_masks_val_dices, bins=50)\n",
    "width = 0.7 * (bins[1] - bins[0])\n",
    "center = (bins[:-1] + bins[1:]) / 2\n",
    "plt.bar(center, hist, align='center', width=width)\n",
    "plt.show()\n",
    "\n",
    "masks_val_dices = [np_dice_value(mask, pred_mask) for (mask, pred_mask) in zip(val_masks, val_pred_masks)]\n",
    "hist, bins = np.histogram(masks_val_dices, bins=50)\n",
    "width = 0.7 * (bins[1] - bins[0])\n",
    "center = (bins[:-1] + bins[1:]) / 2\n",
    "plt.bar(center, hist, align='center', width=width)\n",
    "plt.show()\n"
   ]
  },
  {
   "cell_type": "markdown",
   "metadata": {},
   "source": [
    "### Visualization"
   ]
  },
  {
   "cell_type": "code",
   "execution_count": null,
   "metadata": {},
   "outputs": [],
   "source": [
    "indices = failed_preds_indices[220:250] #random.sample(failed_preds_indices, 50)\n",
    "for index in indices:\n",
    "    id = ids_valid_split.values[index]\n",
    "    utils.show_mask(train_path.format(id), val_masks[index].squeeze(), val_pred_masks[index].squeeze(),\n",
    "                    show_img=True, bbox = pred_bboxes[id])"
   ]
  }
 ],
 "metadata": {
  "kernelspec": {
   "display_name": "Python 3",
   "language": "python",
   "name": "python3"
  },
  "language_info": {
   "codemirror_mode": {
    "name": "ipython",
    "version": 3
   },
   "file_extension": ".py",
   "mimetype": "text/x-python",
   "name": "python",
   "nbconvert_exporter": "python",
   "pygments_lexer": "ipython3"
  }
 },
 "nbformat": 4,
 "nbformat_minor": 2
}
