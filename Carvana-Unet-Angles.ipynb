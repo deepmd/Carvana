{
 "cells": [
  {
   "cell_type": "markdown",
   "metadata": {},
   "source": [
    "# Carvana U-Net Angles"
   ]
  },
  {
   "cell_type": "markdown",
   "metadata": {},
   "source": [
    "## Imports"
   ]
  },
  {
   "cell_type": "code",
   "execution_count": 1,
   "metadata": {},
   "outputs": [
    {
     "name": "stderr",
     "output_type": "stream",
     "text": [
      "Using TensorFlow backend.\n"
     ]
    }
   ],
   "source": [
    "from keras.layers.advanced_activations import PReLU\n",
    "from keras.callbacks import EarlyStopping, ReduceLROnPlateau, ModelCheckpoint, TensorBoard\n",
    "import keras.backend as K\n",
    "import numpy as np\n",
    "import pandas as pd\n",
    "import matplotlib.pyplot as plt\n",
    "from sklearn.model_selection import train_test_split\n",
    "from optimizers.AdamAccumulate import AdamAccumulate\n",
    "from models.u_net import UNet\n",
    "from models.u_net_aux import UNet_Aux\n",
    "from models.u_net_heng import UNet_Heng\n",
    "from utilities.submit import generate_submit\n",
    "from utilities import utils_masks as utils\n",
    "from utilities.losses import weighted_bce_dice_loss, dice_value\n",
    "\n",
    "%load_ext autoreload\n",
    "%autoreload 2\n",
    "%matplotlib inline"
   ]
  },
  {
   "cell_type": "markdown",
   "metadata": {},
   "source": [
    "## Preparing Data"
   ]
  },
  {
   "cell_type": "code",
   "execution_count": 2,
   "metadata": {},
   "outputs": [
    {
     "name": "stdout",
     "output_type": "stream",
     "text": [
      "group 16|01|02:   #Training = 758   #Validation = 196\n",
      "group 08|09|10:   #Training = 758   #Validation = 196\n",
      "group 04|05|06:   #Training = 762   #Validation = 192\n",
      "group 12|13|14:   #Training = 765   #Validation = 189\n",
      "group 15|03:   #Training = 520   #Validation = 116\n",
      "group 07|11:   #Training = 507   #Validation = 129\n"
     ]
    }
   ],
   "source": [
    "utils.set_results_reproducible()\n",
    "input_size = 1024\n",
    "train_path = \"inputs/train/{}.jpg\" \n",
    "train_mask_path = \"inputs/train_masks/{}_mask.gif\"\n",
    "\n",
    "df = pd.read_csv('inputs/train_masks.csv')\n",
    "all_ids = df['img'].map(lambda s: s.split('.')[0])\n",
    "all_ids_train_split, all_ids_valid_split = train_test_split(all_ids, test_size=0.2, random_state=42)\n",
    "\n",
    "groups = ['16|01|02','08|09|10','04|05|06','12|13|14','15|03','07|11']\n",
    "ids_train_splits = {}\n",
    "ids_valid_splits = {}\n",
    "\n",
    "for group in groups:\n",
    "    df_group = df[(df.img.str.match('^.*_(' + group + ').jpg$'))]\n",
    "    ids_group = df_group['img'].map(lambda s: s.split('.')[0])\n",
    "    ids_train_split = pd.Series(list(set(all_ids_train_split).intersection(set(ids_group))))\n",
    "    ids_valid_split = pd.Series(list(set(all_ids_valid_split).intersection(set(ids_group))))\n",
    "    ids_train_splits[group] = ids_train_split\n",
    "    ids_valid_splits[group] = ids_valid_split\n",
    "    print('group {0}:   #Training = {1}   #Validation = {2}'.format(group, len(ids_train_split), len(ids_valid_split)))\n",
    "\n",
    "#bboxes = None\n",
    "bbox_file_path = 'inputs/train_bbox.csv'\n",
    "bboxes = utils.get_bboxes(bbox_file_path)\n",
    "\n",
    "def train_generator(batch_size, group, outputs=None):\n",
    "    return utils.train_generator(train_path, train_mask_path, ids_train_splits[group], \n",
    "                                 input_size, batch_size, bboxes, outputs=outputs,\n",
    "                                 augmentations=['HUE_SATURATION', 'SHIFT_SCALE'])\n",
    "\n",
    "def valid_generator(batch_size, group, outputs=None):\n",
    "    return utils.valid_generator(train_path, train_mask_path, ids_valid_splits[group],\n",
    "                                 input_size, batch_size, bboxes, outputs=outputs)"
   ]
  },
  {
   "cell_type": "markdown",
   "metadata": {},
   "source": [
    "## Create Models"
   ]
  },
  {
   "cell_type": "code",
   "execution_count": 3,
   "metadata": {
    "scrolled": false
   },
   "outputs": [],
   "source": [
    "#U-Net-Aux:\n",
    "#model = UNet_Aux((input_size, input_size, 3), filters=64, depth=4, dropout_base_only=False, dropout=0,\n",
    "#                 activation=lambda x: PReLU()(x), init='he_uniform', auxiliaries=[False, True, True, False])\n",
    "#outputs = {'aux_out1':2**-1, 'aux_out2':2**-2, 'main_out':1}\n",
    "#weights = {'aux_out1':0.2, 'aux_out2':0.05, 'main_out':1.}\n",
    "#model.compile(optimizer=AdamAccumulate(accum_iters=4), \n",
    "#              loss=weighted_bce_dice_loss, metrics=[dice_value], loss_weights=weights)\n",
    "\n",
    "#U-Net:\n",
    "#model = UNet((input_size, input_size, 3), filters=64, depth=4, dropout_base_only=False, dropout=0,\n",
    "#             activation=lambda x: PReLU()(x), init='he_uniform')\n",
    "#model.compile(optimizer=AdamAccumulate(accum_iters=4), loss=weighted_bce_dice_loss, metrics=[dice_value])\n",
    "\n",
    "models = {}\n",
    "for group in groups:\n",
    "    model = UNet_Heng((input_size, input_size, 3))\n",
    "    models[group] = model"
   ]
  },
  {
   "cell_type": "markdown",
   "metadata": {},
   "source": [
    "## Fit Models"
   ]
  },
  {
   "cell_type": "code",
   "execution_count": null,
   "metadata": {
    "scrolled": true
   },
   "outputs": [],
   "source": [
    "epochs = 150\n",
    "batch_size = 1\n",
    "\n",
    "for group in groups:\n",
    "    model = models[group]\n",
    "    model.compile(optimizer=AdamAccumulate(accum_iters=32),\n",
    "                  loss=weighted_bce_dice_loss, metrics=[dice_value])\n",
    "    run_name = utils.get_run_name('weights/{}.hdf5', 'unet-heng-{}'.format(group))\n",
    "    weights_path = 'weights/{}.hdf5'.format(run_name)\n",
    "\n",
    "    callbacks = [EarlyStopping(monitor='val_dice_value',\n",
    "                               patience=8,\n",
    "                               verbose=1,\n",
    "                               min_delta=1e-4,\n",
    "                               mode='max'),\n",
    "                 ReduceLROnPlateau(monitor='val_dice_value',\n",
    "                                   factor=0.1,\n",
    "                                   patience=4,\n",
    "                                   verbose=1,\n",
    "                                   epsilon=1e-4,\n",
    "                                   mode='max'),\n",
    "                 ModelCheckpoint(monitor='val_dice_value',\n",
    "                                 filepath=weights_path,\n",
    "                                 save_best_only=True,\n",
    "                                 save_weights_only=True,\n",
    "                                 mode='max'),\n",
    "                 TensorBoard(log_dir='logs/{}'.format(run_name), batch_size=batch_size)]\n",
    "\n",
    "    model.load_weights('weights/unet-heng-crop-2017-09-18-1053.hdf5')\n",
    "    K.set_value(model.optimizer.lr, 1e-4)\n",
    "\n",
    "    print('Starting run \"{}\"'.format(run_name))\n",
    "    model.fit_generator(generator=train_generator(batch_size, group),\n",
    "                        steps_per_epoch=np.ceil(float(len(ids_train_splits[group])) / float(batch_size)),\n",
    "                        epochs=epochs,\n",
    "                        verbose=1,\n",
    "                        callbacks=callbacks,\n",
    "                        validation_data=valid_generator(batch_size, group),\n",
    "                        validation_steps=np.ceil(float(len(ids_valid_splits[group])) / float(batch_size)))"
   ]
  },
  {
   "cell_type": "markdown",
   "metadata": {
    "heading_collapsed": true
   },
   "source": [
    "## Mask Prediction"
   ]
  },
  {
   "cell_type": "code",
   "execution_count": 5,
   "metadata": {
    "collapsed": true,
    "hidden": true
   },
   "outputs": [],
   "source": [
    "from PIL import Image\n",
    "import cv2\n",
    "from glob import glob"
   ]
  },
  {
   "cell_type": "code",
   "execution_count": 6,
   "metadata": {
    "collapsed": true,
    "hidden": true
   },
   "outputs": [],
   "source": [
    "model.load_weights('weights/unet-2017-09-02-1809.hdf5')"
   ]
  },
  {
   "cell_type": "code",
   "execution_count": 7,
   "metadata": {
    "collapsed": true,
    "hidden": true
   },
   "outputs": [],
   "source": [
    "imgs_names = glob('inputs/train/*.jpg')"
   ]
  },
  {
   "cell_type": "code",
   "execution_count": null,
   "metadata": {
    "hidden": true
   },
   "outputs": [
    {
     "name": "stdout",
     "output_type": "stream",
     "text": [
      "500/5088\n",
      "1000/5088\n",
      "1500/5088\n",
      "2000/5088\n",
      "2500/5088\n",
      "3000/5088\n",
      "3500/5088\n",
      "4000/5088\n",
      "4500/5088\n"
     ]
    }
   ],
   "source": [
    "num = 1\n",
    "input_size = 1024\n",
    "pred_mask_path = \"outputs/pred_train_masks/{}_mask.gif\"\n",
    "for i in range(len(imgs_names)):\n",
    "    im = cv2.imread(imgs_names[i])\n",
    "    im = cv2.resize(im, (input_size, input_size), interpolation=cv2.INTER_LINEAR)\n",
    "    im = np.expand_dims(im, axis=0)\n",
    "    im = np.array(im, np.float32) / 255\n",
    "    #print im.shape\n",
    "    pred_mask = model.predict(im, batch_size=1, verbose=2)\n",
    "    #print pred_mask.shape\n",
    "    pred_mask = np.squeeze(pred_mask, axis=[0, 3])\n",
    "    #print pred_mask.shape\n",
    "    pred_mask = cv2.resize(pred_mask, (1918, 1280), interpolation=cv2.INTER_LINEAR)\n",
    "    #print pred_mask.shape\n",
    "    pred_mask = (pred_mask > 0.95)\n",
    "    pred_mask = Image.fromarray((pred_mask * 255).astype(np.uint8), mode='L')\n",
    "    im_name = imgs_names[i].split('/')[-1]\n",
    "    im_id = im_name.split('.')[0]\n",
    "    pred_mask.save(pred_mask_path.format(im_id))\n",
    "    \n",
    "    if num%500==0:\n",
    "        print '{0}/{1}'.format(num, len(imgs_names))\n",
    "    num += 1"
   ]
  },
  {
   "cell_type": "code",
   "execution_count": 6,
   "metadata": {
    "collapsed": true,
    "hidden": true
   },
   "outputs": [],
   "source": [
    "#val_imgs, _ = next(valid_generator(len(ids_valid_split)))\n",
    "train_imgs, _ = next(train_generator(len(ids_train_split[4000:])))"
   ]
  },
  {
   "cell_type": "code",
   "execution_count": 7,
   "metadata": {
    "hidden": true
   },
   "outputs": [
    {
     "name": "stdout",
     "output_type": "stream",
     "text": [
      "(70, 1024, 1024, 3)\n"
     ]
    }
   ],
   "source": [
    "#print val_imgs.shape\n",
    "print train_imgs.shape"
   ]
  },
  {
   "cell_type": "code",
   "execution_count": 8,
   "metadata": {
    "hidden": true
   },
   "outputs": [
    {
     "name": "stdout",
     "output_type": "stream",
     "text": [
      "70/70 [==============================] - 9s     \n"
     ]
    }
   ],
   "source": [
    "#val_pred_masks = model.predict(val_imgs, batch_size=16, verbose=1)\n",
    "train_pred_masks = model.predict(train_imgs, batch_size=16, verbose=1)"
   ]
  },
  {
   "cell_type": "code",
   "execution_count": 9,
   "metadata": {
    "hidden": true
   },
   "outputs": [
    {
     "data": {
      "text/plain": [
       "(70, 1024, 1024)"
      ]
     },
     "execution_count": 9,
     "metadata": {},
     "output_type": "execute_result"
    }
   ],
   "source": [
    "preds = np.squeeze(train_pred_masks, axis=3)\n",
    "np.shape(preds)"
   ]
  },
  {
   "cell_type": "code",
   "execution_count": 10,
   "metadata": {
    "collapsed": true,
    "hidden": true
   },
   "outputs": [],
   "source": [
    "pred_mask_path = \"outputs/valid_masks/{}_mask.gif\""
   ]
  },
  {
   "cell_type": "code",
   "execution_count": 11,
   "metadata": {
    "collapsed": true,
    "hidden": true
   },
   "outputs": [],
   "source": [
    "for i in range(train_imgs.shape[0]):\n",
    "    mask = preds[i]\n",
    "    mask = cv2.resize(mask, (1918, 1280), interpolation=cv2.INTER_LINEAR)\n",
    "    mask = (mask > 0.95)\n",
    "    mask = Image.fromarray((mask * 255).astype(np.uint8), mode='L')\n",
    "    mask.save(pred_mask_path.format(ids_valid_split.values[i]))"
   ]
  },
  {
   "cell_type": "markdown",
   "metadata": {
    "heading_collapsed": true
   },
   "source": [
    "## Validation"
   ]
  },
  {
   "cell_type": "code",
   "execution_count": 4,
   "metadata": {
    "collapsed": true,
    "hidden": true
   },
   "outputs": [],
   "source": [
    "def np_dice_value(y_true, y_pred):\n",
    "    smooth = 1.\n",
    "    y_true_f = y_true.flatten()\n",
    "    y_pred_f = y_pred.flatten()\n",
    "    intersection = np.sum(y_true_f * y_pred_f)\n",
    "    return (2. * intersection + smooth) / (np.sum(y_true_f) + np.sum(y_pred_f) + smooth)"
   ]
  },
  {
   "cell_type": "markdown",
   "metadata": {
    "hidden": true
   },
   "source": [
    "### Prediction"
   ]
  },
  {
   "cell_type": "code",
   "execution_count": 6,
   "metadata": {
    "collapsed": true,
    "hidden": true
   },
   "outputs": [],
   "source": [
    "run_name = 'unet-2017-09-03-1739'\n",
    "model.load_weights('weights/{}.hdf5'.format(run_name))\n",
    "\n",
    "val_imgs, val_masks = next(valid_generator(len(ids_valid_split)))\n",
    "val_imgs = np.array(val_imgs)\n",
    "val_masks = np.array(val_masks)\n",
    "val_pred_masks = model.predict(val_imgs, batch_size=1)\n",
    "masks_val_dices = [np_dice_value(mask, pred_mask) for (mask, pred_mask) in zip(val_masks, val_pred_masks)]"
   ]
  },
  {
   "cell_type": "markdown",
   "metadata": {
    "hidden": true
   },
   "source": [
    "### Display the worst predicted mask for validation examples"
   ]
  },
  {
   "cell_type": "code",
   "execution_count": 20,
   "metadata": {
    "hidden": true
   },
   "outputs": [
    {
     "name": "stdout",
     "output_type": "stream",
     "text": [
      "2faf504842df_09 0.99134050897\n"
     ]
    },
    {
     "data": {
      "image/png": "[encoded data removed]",
      "text/plain": [
       "<matplotlib.figure.Figure at 0x7fd8c2195b90>"
      ]
     },
     "metadata": {},
     "output_type": "display_data"
    }
   ],
   "source": [
    "index = np.argsort(masks_val_dices)[7]\n",
    "id = ids_valid_split.values[index]\n",
    "utils.show_mask(train_path.format(id), val_masks[index].squeeze(), val_pred_masks[index].squeeze(), show_img=False)\n",
    "print id, masks_val_dices[index]"
   ]
  },
  {
   "cell_type": "code",
   "execution_count": 41,
   "metadata": {
    "hidden": true
   },
   "outputs": [
    {
     "name": "stdout",
     "output_type": "stream",
     "text": [
      "0.996346765575\n"
     ]
    }
   ],
   "source": [
    "indices = np.argsort(masks_val_dices[masks_val_dices <= 99.6])\n",
    "for id in indices:\n",
    "        print(masks_val_dices[id])"
   ]
  },
  {
   "cell_type": "markdown",
   "metadata": {
    "hidden": true
   },
   "source": [
    "### Histogram"
   ]
  },
  {
   "cell_type": "code",
   "execution_count": null,
   "metadata": {
    "collapsed": true,
    "hidden": true
   },
   "outputs": [],
   "source": [
    "hist, bins = np.histogram(masks_val_dices, bins=50)\n",
    "width = 0.7 * (bins[1] - bins[0])\n",
    "center = (bins[:-1] + bins[1:]) / 2\n",
    "plt.bar(center, hist, align='center', width=width)\n",
    "plt.show()"
   ]
  },
  {
   "cell_type": "markdown",
   "metadata": {
    "hidden": true
   },
   "source": [
    "### Visualization"
   ]
  },
  {
   "cell_type": "code",
   "execution_count": null,
   "metadata": {
    "collapsed": true,
    "hidden": true
   },
   "outputs": [],
   "source": [
    "indices = np.random.randint(len(ids_valid_split), size=3)\n",
    "for index in indices:\n",
    "    id = ids_valid_split.values[index]\n",
    "    utils.show_mask(train_path.format(id), val_masks[index].squeeze(), val_pred_masks[index].squeeze(),\n",
    "                    show_img=True, bbox = bboxes[id])"
   ]
  },
  {
   "cell_type": "markdown",
   "metadata": {
    "heading_collapsed": true
   },
   "source": [
    "## Test"
   ]
  },
  {
   "cell_type": "markdown",
   "metadata": {
    "hidden": true
   },
   "source": [
    "### Load Model"
   ]
  },
  {
   "cell_type": "code",
   "execution_count": null,
   "metadata": {
    "collapsed": true,
    "hidden": true
   },
   "outputs": [],
   "source": [
    "# Create model first if required\n",
    "run_name = 'unet-2017-08-20-5'\n",
    "model.load_weights('weights/{}.hdf5'.format(run_name))"
   ]
  },
  {
   "cell_type": "markdown",
   "metadata": {
    "hidden": true
   },
   "source": [
    "### Generate Submit"
   ]
  },
  {
   "cell_type": "code",
   "execution_count": null,
   "metadata": {
    "collapsed": true,
    "hidden": true
   },
   "outputs": [],
   "source": [
    "batch_size = 16\n",
    "threshold = 0.5\n",
    "test_path = 'inputs/test1/' #'inputs/test/'\n",
    "test_masks_path = 'outputs/test1_masks/' #None\n",
    "generate_submit(model, input_size, batch_size, threshold, test_path, 'outputs/', run_name, test_masks_path)"
   ]
  },
  {
   "cell_type": "markdown",
   "metadata": {
    "hidden": true
   },
   "source": [
    "### Visualization"
   ]
  },
  {
   "cell_type": "code",
   "execution_count": null,
   "metadata": {
    "collapsed": true,
    "hidden": true
   },
   "outputs": [],
   "source": [
    "utils.show_test_masks(test_path, test_masks_path)"
   ]
  }
 ],
 "metadata": {
  "kernelspec": {
   "display_name": "Python 3",
   "language": "python",
   "name": "python3"
  },
  "language_info": {
   "codemirror_mode": {
    "name": "ipython",
    "version": 3
   },
   "file_extension": ".py",
   "mimetype": "text/x-python",
   "name": "python",
   "nbconvert_exporter": "python",
   "pygments_lexer": "ipython3",
   "version": "3.6.1"
  }
 },
 "nbformat": 4,
 "nbformat_minor": 2
}
