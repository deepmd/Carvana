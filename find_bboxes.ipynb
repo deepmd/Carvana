{
 "cells": [
  {
   "cell_type": "markdown",
   "metadata": {},
   "source": [
    "### Import dependencies:"
   ]
  },
  {
   "cell_type": "code",
   "execution_count": null,
   "metadata": {},
   "outputs": [],
   "source": [
    "import numpy as np\n",
    "import pandas as pd\n",
    "from PIL import Image\n",
    "import matplotlib.pyplot as plt\n",
    "%matplotlib inline"
   ]
  },
  {
   "cell_type": "markdown",
   "metadata": {},
   "source": [
    "### find_bbox function:\n",
    "Takes a mask image as input and returns related bouding box coordinates."
   ]
  },
  {
   "cell_type": "code",
   "execution_count": null,
   "metadata": {},
   "outputs": [],
   "source": [
    "def find_bbox(img, margin):\n",
    "    im_width, im_height = img.shape\n",
    "    row_indices = np.nonzero(img == 255)\n",
    "    ymin, xmin = np.min(row_indices, axis=1)\n",
    "    ymax, xmax = np.max(row_indices, axis=1)\n",
    "    \n",
    "    xmin = xmin-margin if(xmin-margin>0) else xmin\n",
    "    ymin = ymin-margin if(ymin-margin>0) else ymin\n",
    "    xmax = xmax+margin if(xmax+margin>im_height) else xmax\n",
    "    ymax = ymax+margin if(ymax+margin>im_width) else ymax\n",
    "    return (xmin, ymin, xmax, ymax)"
   ]
  },
  {
   "cell_type": "markdown",
   "metadata": {},
   "source": [
    "### Main body:"
   ]
  },
  {
   "cell_type": "code",
   "execution_count": null,
   "metadata": {},
   "outputs": [],
   "source": [
    "train_mask_path = \"inputs/train_masks/{}_mask.gif\"\n",
    "df_train = pd.read_csv('inputs/train_masks.csv')\n",
    "ids_train = df_train['img'].map(lambda s: s.split('.')[0])\n",
    "\n",
    "num = 1\n",
    "margin = 10\n",
    "bboxes = []\n",
    "for id in ids_train:\n",
    "    img_path = train_mask_path.format(id)\n",
    "    img_origin = np.array(Image.open(img_path).convert('L'))\n",
    "    xmin, ymin, xmax, ymax = find_bbox(img_origin, margin)\n",
    "    \n",
    "    bboxes.append([id, xmin, ymin, xmax, ymax])\n",
    "    \n",
    "    if num%500 == 0:\n",
    "        print '{0}/{1}'.format(num, len(ids_train))\n",
    "    num += 1\n",
    "    \n",
    "np.savetxt('inputs/train_bbox.csv', bboxes, fmt='%s', delimiter=',', newline='\\n')"
   ]
  },
  {
   "cell_type": "code",
   "execution_count": null,
   "metadata": {},
   "outputs": [],
   "source": [
    "### Provide a integer number for id_image & see related bounding box. "
   ]
  },
  {
   "cell_type": "code",
   "execution_count": null,
   "metadata": {},
   "outputs": [],
   "source": [
    "id_img = 10\n",
    "plt.figure(figsize=(20, 20))\n",
    "im = np.array(Image.open(train_mask_path.format(ids_train[id_img])).convert('L'))\n",
    "plt.imshow(im)\n",
    "xmin, ymin, xmax, ymax = find_bbox(im)\n",
    "margin = 10\n",
    "xmin -= margin\n",
    "ymin -= margin\n",
    "xmax += margin\n",
    "ymax += margin\n",
    "cropped_im = im[ymin:ymax, xmin:xmax]\n",
    "plt.imshow(cropped_im)\n",
    "#rect = plt.Rectangle((xmin, ymin), (xmax-xmin), (ymax-ymin), fill=False, color='red')\n",
    "#plt.axes().add_patch(rect)\n",
    "#plt.show()"
   ]
  },
  {
   "cell_type": "code",
   "execution_count": null,
   "metadata": {},
   "outputs": [],
   "source": []
  }
 ],
 "metadata": {
  "kernelspec": {
   "display_name": "keras-tf",
   "language": "python",
   "name": "keras-tf"
  },
  "language_info": {
   "codemirror_mode": {
    "name": "ipython",
    "version": 2
   },
   "file_extension": ".py",
   "mimetype": "text/x-python",
   "name": "python",
   "nbconvert_exporter": "python",
   "pygments_lexer": "ipython2"
  }
 },
 "nbformat": 4,
 "nbformat_minor": 2
}
