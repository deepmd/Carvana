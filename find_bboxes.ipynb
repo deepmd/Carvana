{
 "cells": [
  {
   "cell_type": "markdown",
   "metadata": {},
   "source": [
    "### Import dependencies:"
   ]
  },
  {
   "cell_type": "code",
   "execution_count": 1,
   "metadata": {
    "collapsed": true
   },
   "outputs": [],
   "source": [
    "import numpy as np\n",
    "import pandas as pd\n",
    "from PIL import Image\n",
    "import matplotlib.pyplot as plt\n",
    "%matplotlib inline"
   ]
  },
  {
   "cell_type": "markdown",
   "metadata": {},
   "source": [
    "### find_bbox function:\n",
    "Takes a mask image as input and returns related bouding box coordinates."
   ]
  },
  {
   "cell_type": "code",
   "execution_count": 2,
   "metadata": {
    "collapsed": true
   },
   "outputs": [],
   "source": [
    "def find_bbox(img, margin):\n",
    "    im_width, im_height = img.shape\n",
    "    row_indices = np.nonzero(img == 255)\n",
    "    ymin, xmin = np.min(row_indices, axis=1)\n",
    "    ymax, xmax = np.max(row_indices, axis=1)\n",
    "    \n",
    "    xmin = (xmin-margin) if(xmin-margin>0) else 0\n",
    "    ymin = (ymin-margin) if(ymin-margin>0) else 0\n",
    "    xmax = (xmax+margin) if(xmax+margin<im_height-1) else im_height-1\n",
    "    ymax = (ymax+margin) if(ymax+margin<im_width-1) else im_width-1\n",
    "    return (xmin, ymin, xmax, ymax)"
   ]
  },
  {
   "cell_type": "markdown",
   "metadata": {},
   "source": [
    "### Main body:"
   ]
  },
  {
   "cell_type": "code",
   "execution_count": 3,
   "metadata": {
    "collapsed": true
   },
   "outputs": [],
   "source": [
    "pred_train_mask_path = \"outputs/test_masks_2017-09-20-1323/{}.gif\"\n",
    "df_train = pd.read_csv('inputs/sample_submission.csv')\n",
    "#df_train = pd.read_csv('inputs/train_bboxes_ex2.csv')\n",
    "#df_train = pd.read_csv('inputs/valid_images_ex3.csv')\n",
    "ids_train = df_train['img'].map(lambda s: s.split('.')[0])"
   ]
  },
  {
   "cell_type": "code",
   "execution_count": 6,
   "metadata": {},
   "outputs": [
    {
     "name": "stdout",
     "output_type": "stream",
     "text": [
      "500/100064\n",
      "1000/100064\n",
      "1500/100064\n",
      "2000/100064\n",
      "2500/100064\n",
      "3000/100064\n",
      "3500/100064\n",
      "4000/100064\n",
      "4500/100064\n",
      "5000/100064\n",
      "5500/100064\n",
      "6000/100064\n",
      "6500/100064\n",
      "7000/100064\n",
      "7500/100064\n",
      "8000/100064\n",
      "8500/100064\n",
      "9000/100064\n",
      "9500/100064\n",
      "10000/100064\n",
      "10500/100064\n",
      "11000/100064\n",
      "11500/100064\n",
      "12000/100064\n",
      "12500/100064\n",
      "13000/100064\n",
      "13500/100064\n",
      "14000/100064\n",
      "14500/100064\n",
      "15000/100064\n",
      "15500/100064\n",
      "16000/100064\n",
      "16500/100064\n",
      "17000/100064\n",
      "17500/100064\n",
      "18000/100064\n",
      "18500/100064\n",
      "19000/100064\n",
      "19500/100064\n",
      "20000/100064\n",
      "20500/100064\n",
      "21000/100064\n",
      "21500/100064\n",
      "22000/100064\n",
      "22500/100064\n",
      "23000/100064\n",
      "23500/100064\n",
      "24000/100064\n",
      "24500/100064\n",
      "25000/100064\n",
      "25500/100064\n",
      "26000/100064\n",
      "26500/100064\n",
      "27000/100064\n",
      "27500/100064\n",
      "28000/100064\n",
      "28500/100064\n",
      "29000/100064\n",
      "29500/100064\n",
      "30000/100064\n",
      "30500/100064\n",
      "31000/100064\n",
      "31500/100064\n",
      "32000/100064\n",
      "32500/100064\n",
      "33000/100064\n",
      "33500/100064\n",
      "34000/100064\n",
      "34500/100064\n",
      "35000/100064\n",
      "35500/100064\n",
      "36000/100064\n",
      "36500/100064\n",
      "37000/100064\n",
      "37500/100064\n",
      "38000/100064\n",
      "38500/100064\n",
      "39000/100064\n",
      "39500/100064\n",
      "40000/100064\n",
      "40500/100064\n",
      "41000/100064\n",
      "41500/100064\n",
      "42000/100064\n",
      "42500/100064\n",
      "43000/100064\n",
      "43500/100064\n",
      "44000/100064\n",
      "44500/100064\n",
      "45000/100064\n",
      "45500/100064\n",
      "46000/100064\n",
      "46500/100064\n",
      "47000/100064\n",
      "47500/100064\n",
      "48000/100064\n",
      "48500/100064\n",
      "49000/100064\n",
      "49500/100064\n",
      "50000/100064\n",
      "50500/100064\n",
      "51000/100064\n",
      "51500/100064\n",
      "52000/100064\n",
      "52500/100064\n",
      "53000/100064\n",
      "53500/100064\n",
      "54000/100064\n",
      "54500/100064\n",
      "55000/100064\n",
      "55500/100064\n",
      "56000/100064\n",
      "56500/100064\n",
      "57000/100064\n",
      "57500/100064\n",
      "58000/100064\n",
      "58500/100064\n",
      "59000/100064\n",
      "59500/100064\n",
      "60000/100064\n",
      "60500/100064\n",
      "61000/100064\n",
      "61500/100064\n",
      "62000/100064\n",
      "62500/100064\n",
      "63000/100064\n",
      "63500/100064\n",
      "64000/100064\n",
      "64500/100064\n",
      "65000/100064\n",
      "65500/100064\n",
      "66000/100064\n",
      "66500/100064\n",
      "67000/100064\n",
      "67500/100064\n",
      "68000/100064\n",
      "68500/100064\n",
      "69000/100064\n",
      "69500/100064\n",
      "70000/100064\n",
      "70500/100064\n",
      "71000/100064\n",
      "71500/100064\n",
      "72000/100064\n",
      "72500/100064\n",
      "73000/100064\n",
      "73500/100064\n",
      "74000/100064\n",
      "74500/100064\n",
      "75000/100064\n",
      "75500/100064\n",
      "76000/100064\n",
      "76500/100064\n",
      "77000/100064\n",
      "77500/100064\n",
      "78000/100064\n",
      "78500/100064\n",
      "79000/100064\n",
      "79500/100064\n",
      "80000/100064\n",
      "80500/100064\n",
      "81000/100064\n",
      "81500/100064\n",
      "82000/100064\n",
      "82500/100064\n",
      "83000/100064\n",
      "83500/100064\n",
      "84000/100064\n",
      "84500/100064\n",
      "85000/100064\n",
      "85500/100064\n",
      "86000/100064\n",
      "86500/100064\n",
      "87000/100064\n",
      "87500/100064\n",
      "88000/100064\n",
      "88500/100064\n",
      "89000/100064\n",
      "89500/100064\n",
      "90000/100064\n",
      "90500/100064\n",
      "91000/100064\n",
      "91500/100064\n",
      "92000/100064\n",
      "92500/100064\n",
      "93000/100064\n",
      "93500/100064\n",
      "94000/100064\n",
      "94500/100064\n",
      "95000/100064\n",
      "95500/100064\n",
      "96000/100064\n",
      "96500/100064\n",
      "97000/100064\n",
      "97500/100064\n",
      "98000/100064\n",
      "98500/100064\n",
      "99000/100064\n",
      "99500/100064\n",
      "100000/100064\n",
      "Done\n"
     ]
    }
   ],
   "source": [
    "num = 1\n",
    "margin = 30\n",
    "bboxes = []\n",
    "for id in ids_train:\n",
    "    img_path = pred_train_mask_path.format(id)\n",
    "    img_origin = np.array(Image.open(img_path).convert('L'))\n",
    "    xmin, ymin, xmax, ymax = find_bbox(img_origin, margin)\n",
    "    \n",
    "    bboxes.append([id, xmin, ymin, xmax, ymax])\n",
    "    \n",
    "    if num%500 == 0:\n",
    "        print('{0}/{1}'.format(num, len(ids_train)))\n",
    "    num += 1\n",
    "    \n",
    "np.savetxt('inputs/test_bbox.csv', bboxes, fmt='%s', delimiter=',', newline='\\n')\n",
    "print('Done')"
   ]
  },
  {
   "cell_type": "markdown",
   "metadata": {},
   "source": [
    "## Compare predicted contours with precise contours (obtain from mask gtoundtruth)"
   ]
  },
  {
   "cell_type": "code",
   "execution_count": 7,
   "metadata": {},
   "outputs": [
    {
     "name": "stderr",
     "output_type": "stream",
     "text": [
      "Using TensorFlow backend.\n"
     ]
    }
   ],
   "source": [
    "from utilities import utils_masks\n",
    "import cv2"
   ]
  },
  {
   "cell_type": "code",
   "execution_count": 9,
   "metadata": {
    "collapsed": true
   },
   "outputs": [],
   "source": [
    "bbox_file_path = 'inputs/train_bboxes.csv'\n",
    "pred_bbox_mask_path = \"outputs/pred_train_bboxes/{}.jpg\"\n",
    "imgs_path = \"inputs/train/{}.jpg\"\n",
    "bb = utils_masks.get_bboxes(bbox_file_path)\n",
    "for id in ids_train:\n",
    "    im = cv2.imread(imgs_path.format(id))\n",
    "    xmin, ymin, xmax, ymax = bb[id]\n",
    "    cropped_im = im[ymin:ymax+1, xmin:xmax+1]\n",
    "    cv2.imwrite(pred_bbox_mask_path.format(id), cropped_im)"
   ]
  },
  {
   "cell_type": "code",
   "execution_count": 10,
   "metadata": {},
   "outputs": [
    {
     "name": "stdout",
     "output_type": "stream",
     "text": [
      "1918 1280\n"
     ]
    }
   ],
   "source": [
    "im_width = 1918\n",
    "im_height = 1280"
   ]
  },
  {
   "cell_type": "code",
   "execution_count": 15,
   "metadata": {
    "collapsed": true
   },
   "outputs": [],
   "source": [
    "precise_bboxes = utils_masks.get_bboxes('inputs/Old_Bboxes/train_bbox.csv')"
   ]
  },
  {
   "cell_type": "code",
   "execution_count": 16,
   "metadata": {
    "collapsed": true
   },
   "outputs": [],
   "source": [
    "approx_bboxes = utils_masks.get_bboxes('inputs/train_bboxes.csv')"
   ]
  },
  {
   "cell_type": "code",
   "execution_count": 13,
   "metadata": {
    "collapsed": true
   },
   "outputs": [],
   "source": [
    "def bb_intersection_over_union(boxA, boxB):\n",
    "    # determine the (x, y)-coordinates of the intersection rectangle\n",
    "    xA = max(boxA[0], boxB[0])\n",
    "    yA = max(boxA[1], boxB[1])\n",
    "    xB = min(boxA[2], boxB[2])\n",
    "    yB = min(boxA[3], boxB[3])\n",
    " \n",
    "    # compute the area of intersection rectangle\n",
    "    interArea = (xB - xA + 1) * (yB - yA + 1)\n",
    " \n",
    "    # compute the area of both the prediction and ground-truth\n",
    "    # rectangles\n",
    "    boxAArea = (boxA[2] - boxA[0] + 1) * (boxA[3] - boxA[1] + 1)\n",
    "    boxBArea = (boxB[2] - boxB[0] + 1) * (boxB[3] - boxB[1] + 1)\n",
    " \n",
    "    # compute the intersection over union by taking the intersection\n",
    "    # area and dividing it by the sum of prediction + ground-truth\n",
    "    # areas - the interesection area\n",
    "    iou = interArea / float(boxAArea + boxBArea - interArea)\n",
    " \n",
    "    # return the intersection over union value\n",
    "    return iou"
   ]
  },
  {
   "cell_type": "code",
   "execution_count": 17,
   "metadata": {
    "collapsed": true
   },
   "outputs": [],
   "source": [
    "IOU = []\n",
    "for id in ids_train.values:\n",
    "    boxA = precise_bboxes[id]\n",
    "    boxB = approx_bboxes[id]\n",
    "    IOU.append(bb_intersection_over_union(boxA, boxB))"
   ]
  },
  {
   "cell_type": "code",
   "execution_count": 18,
   "metadata": {},
   "outputs": [
    {
     "data": {
      "image/png": "[encoded data removed]",
      "text/plain": [
       "<matplotlib.figure.Figure at 0x7fa3b9f78a50>"
      ]
     },
     "metadata": {},
     "output_type": "display_data"
    }
   ],
   "source": [
    "#plt.hist(IOU)\n",
    "hist, bins = np.histogram(IOU, bins=50)\n",
    "width = 0.7 * (bins[1] - bins[0])\n",
    "center = (bins[:-1] + bins[1:]) / 2\n",
    "plt.bar(center, hist, align='center', width=width)\n",
    "plt.show()"
   ]
  },
  {
   "cell_type": "code",
   "execution_count": 23,
   "metadata": {
    "collapsed": true
   },
   "outputs": [],
   "source": [
    "indices =( np.array(IOU) < 0.7 )"
   ]
  },
  {
   "cell_type": "code",
   "execution_count": 24,
   "metadata": {},
   "outputs": [
    {
     "name": "stdout",
     "output_type": "stream",
     "text": [
      "(array([2031, 3431, 4968]),)\n",
      "3\n"
     ]
    }
   ],
   "source": [
    "idx = np.where(indices == True)\n",
    "print idx\n",
    "print np.shape(idx)[1]"
   ]
  },
  {
   "cell_type": "markdown",
   "metadata": {
    "collapsed": true
   },
   "source": [
    "### Provide a integer number for id_image & see related bounding box. "
   ]
  },
  {
   "cell_type": "code",
   "execution_count": 16,
   "metadata": {},
   "outputs": [
    {
     "name": "stdout",
     "output_type": "stream",
     "text": [
      "69915dab0755_16 32 29 120 113\n"
     ]
    },
    {
     "data": {
      "text/plain": [
       "<matplotlib.image.AxesImage at 0x7fa04fedb310>"
      ]
     },
     "execution_count": 16,
     "metadata": {},
     "output_type": "execute_result"
    },
    {
     "data": {
      "image/png": "[encoded data removed]",
      "text/plain": [
       "<matplotlib.figure.Figure at 0x7fa04ffcdc50>"
      ]
     },
     "metadata": {},
     "output_type": "display_data"
    },
    {
     "data": {
      "image/png": "[encoded data removed]",
      "text/plain": [
       "<matplotlib.figure.Figure at 0x7fa05015fc10>"
      ]
     },
     "metadata": {},
     "output_type": "display_data"
    }
   ],
   "source": [
    "id_img = 0\n",
    "\n",
    "plt.figure(figsize=(10, 10))\n",
    "im = np.array(Image.open(train_mask_path.format(ids_train[id_img])).convert('L'))\n",
    "plt.imshow(im)\n",
    "xmin, ymin, xmax, ymax = find_bbox(im, 10)\n",
    "print ids_train[id_img], xmin, ymin, xmax, ymax\n",
    "cropped_im = im[ymin:ymax+1, xmin:xmax+1]\n",
    "plt.figure(figsize=(10, 10))\n",
    "plt.imshow(cropped_im)\n",
    "#rect = plt.Rectangle((xmin, ymin), (xmax-xmin), (ymax-ymin), fill=False, color='red')\n",
    "#plt.axes().add_patch(rect)\n",
    "#plt.show()"
   ]
  },
  {
   "cell_type": "code",
   "execution_count": null,
   "metadata": {
    "collapsed": true
   },
   "outputs": [],
   "source": []
  }
 ],
 "metadata": {
  "kernelspec": {
   "display_name": "Python 3",
   "language": "python",
   "name": "python3"
  },
  "language_info": {
   "codemirror_mode": {
    "name": "ipython",
    "version": 3
   },
   "file_extension": ".py",
   "mimetype": "text/x-python",
   "name": "python",
   "nbconvert_exporter": "python",
   "pygments_lexer": "ipython3",
   "version": "3.6.1"
  }
 },
 "nbformat": 4,
 "nbformat_minor": 2
}
