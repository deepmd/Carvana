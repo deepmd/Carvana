{
 "cells": [
  {
   "cell_type": "markdown",
   "metadata": {},
   "source": [
    "# Carvana U-Net Angles+Auxiliary"
   ]
  },
  {
   "cell_type": "markdown",
   "metadata": {},
   "source": [
    "## Imports"
   ]
  },
  {
   "cell_type": "code",
   "execution_count": 1,
   "metadata": {},
   "outputs": [
    {
     "name": "stderr",
     "output_type": "stream",
     "text": [
      "Using TensorFlow backend.\n"
     ]
    }
   ],
   "source": [
    "from keras.layers.advanced_activations import PReLU\n",
    "from keras.callbacks import EarlyStopping, ReduceLROnPlateau, ModelCheckpoint, TensorBoard\n",
    "import keras.backend as K\n",
    "import tensorflow as tf\n",
    "import numpy as np\n",
    "import pandas as pd\n",
    "import matplotlib.pyplot as plt\n",
    "from sklearn.model_selection import train_test_split\n",
    "from optimizers.AdamAccumulate import AdamAccumulate\n",
    "from models.u_net import UNet\n",
    "from models.u_net_aux import UNet_Aux\n",
    "from models.u_net_heng import UNet_Heng\n",
    "from models.u_net_heng_aux import UNet_Heng_Aux\n",
    "from utilities.submit import generate_submit\n",
    "from utilities import utils_masks as utils\n",
    "from utilities.losses import weighted_bce_dice_loss, dice_value\n",
    "\n",
    "%load_ext autoreload\n",
    "%autoreload 2\n",
    "%matplotlib inline"
   ]
  },
  {
   "cell_type": "markdown",
   "metadata": {},
   "source": [
    "## Preparing Data"
   ]
  },
  {
   "cell_type": "code",
   "execution_count": 1,
   "metadata": {},
   "outputs": [
    {
     "ename": "NameError",
     "evalue": "name 'utils' is not defined",
     "output_type": "error",
     "traceback": [
      "\u001b[0;31m---------------------------------------------------------------------------\u001b[0m",
      "\u001b[0;31mNameError\u001b[0m                                 Traceback (most recent call last)",
      "\u001b[0;32m<ipython-input-1-ff14139e7de0>\u001b[0m in \u001b[0;36m<module>\u001b[0;34m()\u001b[0m\n\u001b[0;32m----> 1\u001b[0;31m \u001b[0mutils\u001b[0m\u001b[0;34m.\u001b[0m\u001b[0mset_results_reproducible\u001b[0m\u001b[0;34m(\u001b[0m\u001b[0;34m)\u001b[0m\u001b[0;34m\u001b[0m\u001b[0m\n\u001b[0m\u001b[1;32m      2\u001b[0m \u001b[0minput_size\u001b[0m \u001b[0;34m=\u001b[0m \u001b[0;36m128\u001b[0m\u001b[0;34m\u001b[0m\u001b[0m\n\u001b[1;32m      3\u001b[0m \u001b[0mnum_pseudo_data\u001b[0m \u001b[0;34m=\u001b[0m \u001b[0;36m3000\u001b[0m\u001b[0;34m\u001b[0m\u001b[0m\n\u001b[1;32m      4\u001b[0m \u001b[0mtrain_path\u001b[0m \u001b[0;34m=\u001b[0m \u001b[0;34m\"inputs/train/{}.jpg\"\u001b[0m\u001b[0;34m\u001b[0m\u001b[0m\n\u001b[1;32m      5\u001b[0m \u001b[0mtrain_mask_path\u001b[0m \u001b[0;34m=\u001b[0m \u001b[0;34m\"inputs/train_masks/{}_mask.gif\"\u001b[0m\u001b[0;34m\u001b[0m\u001b[0m\n",
      "\u001b[0;31mNameError\u001b[0m: name 'utils' is not defined"
     ]
    }
   ],
   "source": [
    "utils.set_results_reproducible()\n",
    "input_size = 128\n",
    "num_pseudo_data = 3000\n",
    "train_path = \"inputs/train/{}.jpg\" \n",
    "train_mask_path = \"inputs/train_masks/{}_mask.gif\"\n",
    "train_df = pd.read_csv('inputs/train_masks.csv')\n",
    "test_path = \"inputs/test/{}.jpg\"\n",
    "test_mask_path = \"outputs/test_masks_2017-09-20-2223/{}.gif\"\n",
    "test_df = pd.read_csv('inputs/sample_submission.csv')\n",
    "\n",
    "all_ids_train = train_df['img'].map(lambda s: s.split('.')[0])\n",
    "all_ids_train_split, all_ids_valid_split = train_test_split(all_ids_train, test_size=0.2, random_state=42)\n",
    "\n",
    "groups = ['01','02|16','03|15','04|14','05|13','06|12','07|11','08|10','09']\n",
    "ids_train_splits = {}\n",
    "ids_valid_splits = {}\n",
    "\n",
    "for group in groups:\n",
    "    train_df_group = train_df[(train_df.img.str.match('^.*_(' + group + ').jpg$'))]\n",
    "    ids_group = train_df_group['img'].map(lambda s: s.split('.')[0])\n",
    "    ids_train_split = pd.Series(list(set(all_ids_train_split).intersection(set(ids_group))))\n",
    "    ids_valid_split = pd.Series(list(set(all_ids_valid_split).intersection(set(ids_group))))\n",
    "    ids_train_splits[group] = ids_train_split\n",
    "    ids_valid_splits[group] = ids_valid_split\n",
    "    \n",
    "    test_df_group = pd.DataFrame([])\n",
    "    angles_group = group.split('|')\n",
    "    for angle in angles_group:\n",
    "        test_df_group = pd.concat([test_df_group, (test_df[(test_df.img.str.match('^.*_(' + angle + ').jpg$'))].sample(n=num_pseudo_data))])\n",
    "    test_df_group = test_df_group.sample(n=num_pseudo_data * len(angles_group), replace=True)\n",
    "    ids_test_split = test_df_group['img'].map(lambda s: s.split('.')[0])\n",
    "    ids_test_splits[group] = ids_test_split\n",
    "    \n",
    "    print('group {0}:   #Training = {1}+{2}   #Validation = {3}'\n",
    "          .format(group, len(ids_train_split), len(ids_test_split), len(ids_valid_split)))\n",
    "\n",
    "bbox_file_path = 'inputs/data_bbox.csv'\n",
    "bboxes = utils.get_bboxes(bbox_file_path)\n",
    "\n",
    "def train_generator(batch_size, group, outputs=None):\n",
    "    return utils.train_generator(train_path, train_mask_path, ids_train_splits[group], \n",
    "                                 input_size, batch_size, bboxes, outputs=outputs,\n",
    "                                 augmentations=['HUE_SATURATION', 'SHIFT_SCALE', 'FLIP'])\n",
    "\n",
    "def valid_generator(batch_size, group, outputs=None):\n",
    "    return utils.valid_generator(train_path, train_mask_path, ids_valid_splits[group],\n",
    "                                 input_size, batch_size, bboxes, outputs=outputs)\n",
    "\n",
    "def pseudo_generator(batch_size, group, accum_iters, outputs=None):\n",
    "    ids = utils.make_list_ids(ids_train_splits[group], ids_test_splits[group], batch_size, accum_iters)\n",
    "    return utils.pseudo_generator(train_path, train_mask_path, test_path, test_mask_path, ids,\n",
    "                                  input_size, batch_size, bboxes, outputs=outputs)"
   ]
  },
  {
   "cell_type": "markdown",
   "metadata": {},
   "source": [
    "## Create Model"
   ]
  },
  {
   "cell_type": "code",
   "execution_count": 3,
   "metadata": {
    "collapsed": true
   },
   "outputs": [],
   "source": [
    "def copy_weights(source, target):\n",
    "    target_layers = [layer for layer in target.layers if not layer.name.startswith('aux_out')]\n",
    "    for s_layer,t_layer in zip(source.layers, target_layers):\n",
    "        #print('{0} --> {1}'.format(s_layer.name, t_layer.name))\n",
    "        t_layer.set_weights(s_layer.get_weights())"
   ]
  },
  {
   "cell_type": "code",
   "execution_count": 4,
   "metadata": {
    "collapsed": true
   },
   "outputs": [],
   "source": [
    "#U-Net-Aux:\n",
    "#model = UNet_Aux((input_size, input_size, 3), filters=64, depth=4, dropout_base_only=False, dropout=0,\n",
    "#                 activation=lambda x: PReLU()(x), init='he_uniform', auxiliaries=[False, True, True, False])\n",
    "#outputs = {'aux_out1':2**-1, 'aux_out2':2**-2, 'main_out':1}\n",
    "#weights = {'aux_out1':0.2, 'aux_out2':0.05, 'main_out':1.}\n",
    "#model.compile(optimizer=AdamAccumulate(accum_iters=4), \n",
    "#              loss=weighted_bce_dice_loss, metrics=[dice_value], loss_weights=weights)\n",
    "\n",
    "#U-Net:\n",
    "model = UNet((input_size, input_size, 3), filters=64, depth=4, dropout_base_only=False, dropout=0,\n",
    "             activation=lambda x: PReLU()(x), init='he_uniform')\n",
    "model.load_weights('weights/unet-2017-09-22-2306.hdf5')\n",
    "model_aux = UNet_Aux((input_size, input_size, 3), filters=64, depth=4, dropout_base_only=False, dropout=0,\n",
    "             activation=lambda x: PReLU()(x), init='he_uniform', auxiliaries=[False, True, True, False])\n",
    "copy_weights(model, model_aux)\n",
    "model_aux.save_weights('weights/unet-aux-base.hdf5')\n",
    "\n",
    "#U-Net-Heng:\n",
    "#model = UNet_Heng((input_size, input_size, 3))\n",
    "#model.load_weights('weights/unet-heng-crop-2017-09-18-1053.hdf5')\n",
    "#model_aux = UNet_Heng_Aux((input_size, input_size, 3),\n",
    "#                          auxiliaries=[False, False, False, False, True, True])\n",
    "#copy_weights(model, model_aux)\n",
    "#model_aux.save_weights('weights/unet-heng-aux-base.hdf5')"
   ]
  },
  {
   "cell_type": "markdown",
   "metadata": {},
   "source": [
    "## Fit Models"
   ]
  },
  {
   "cell_type": "code",
   "execution_count": 4,
   "metadata": {
    "scrolled": true
   },
   "outputs": [
    {
     "name": "stdout",
     "output_type": "stream",
     "text": [
      "Starting run \"unet-aux-(01)-2017-09-24-2258\"\n",
      "Epoch 1/150\n",
      "259/259 [==============================] - 30s - loss: 0.5671 - aux_out1_loss: 0.5335 - aux_out2_loss: 0.5974 - main_out_loss: 0.4306 - aux_out1_dice_value: 0.9477 - aux_out2_dice_value: 0.9052 - main_out_dice_value: 0.9925 - val_loss: 0.5294 - val_aux_out1_loss: 0.4486 - val_aux_out2_loss: 0.5040 - val_main_out_loss: 0.4145 - val_aux_out1_dice_value: 0.9815 - val_aux_out2_dice_value: 0.9534 - val_main_out_dice_value: 0.9956\n",
      "Epoch 2/150\n",
      "259/259 [==============================] - 26s - loss: 0.5445 - aux_out1_loss: 0.4476 - aux_out2_loss: 0.4926 - main_out_loss: 0.4303 - aux_out1_dice_value: 0.9836 - aux_out2_dice_value: 0.9605 - main_out_dice_value: 0.9932 - val_loss: 0.5262 - val_aux_out1_loss: 0.4384 - val_aux_out2_loss: 0.4924 - val_main_out_loss: 0.4139 - val_aux_out1_dice_value: 0.9855 - val_aux_out2_dice_value: 0.9588 - val_main_out_dice_value: 0.9958\n",
      "Epoch 3/150\n",
      "259/259 [==============================] - 25s - loss: 0.5417 - aux_out1_loss: 0.4440 - aux_out2_loss: 0.4829 - main_out_loss: 0.4288 - aux_out1_dice_value: 0.9853 - aux_out2_dice_value: 0.9655 - main_out_dice_value: 0.9936 - val_loss: 0.5257 - val_aux_out1_loss: 0.4363 - val_aux_out2_loss: 0.4840 - val_main_out_loss: 0.4142 - val_aux_out1_dice_value: 0.9863 - val_aux_out2_dice_value: 0.9634 - val_main_out_dice_value: 0.9957\n",
      "Epoch 4/150\n",
      "259/259 [==============================] - 26s - loss: 0.5392 - aux_out1_loss: 0.4407 - aux_out2_loss: 0.4736 - main_out_loss: 0.4274 - aux_out1_dice_value: 0.9859 - aux_out2_dice_value: 0.9691 - main_out_dice_value: 0.9936 - val_loss: 0.5244 - val_aux_out1_loss: 0.4347 - val_aux_out2_loss: 0.4760 - val_main_out_loss: 0.4137 - val_aux_out1_dice_value: 0.9870 - val_aux_out2_dice_value: 0.9672 - val_main_out_dice_value: 0.9958\n",
      "Epoch 5/150\n",
      "259/259 [==============================] - 25s - loss: 0.5409 - aux_out1_loss: 0.4420 - aux_out2_loss: 0.4718 - main_out_loss: 0.4289 - aux_out1_dice_value: 0.9862 - aux_out2_dice_value: 0.9710 - main_out_dice_value: 0.9939 - val_loss: 0.5246 - val_aux_out1_loss: 0.4346 - val_aux_out2_loss: 0.4738 - val_main_out_loss: 0.4139 - val_aux_out1_dice_value: 0.9870 - val_aux_out2_dice_value: 0.9682 - val_main_out_dice_value: 0.9958\n",
      "Epoch 6/150\n",
      "259/259 [==============================] - 26s - loss: 0.5360 - aux_out1_loss: 0.4388 - aux_out2_loss: 0.4671 - main_out_loss: 0.4249 - aux_out1_dice_value: 0.9868 - aux_out2_dice_value: 0.9725 - main_out_dice_value: 0.9943 - val_loss: 0.5236 - val_aux_out1_loss: 0.4335 - val_aux_out2_loss: 0.4697 - val_main_out_loss: 0.4134 - val_aux_out1_dice_value: 0.9874 - val_aux_out2_dice_value: 0.9701 - val_main_out_dice_value: 0.9959\n",
      "Epoch 7/150\n",
      "259/259 [==============================] - 25s - loss: 0.5391 - aux_out1_loss: 0.4397 - aux_out2_loss: 0.4665 - main_out_loss: 0.4278 - aux_out1_dice_value: 0.9868 - aux_out2_dice_value: 0.9731 - main_out_dice_value: 0.9940 - val_loss: 0.5238 - val_aux_out1_loss: 0.4334 - val_aux_out2_loss: 0.4687 - val_main_out_loss: 0.4136 - val_aux_out1_dice_value: 0.9874 - val_aux_out2_dice_value: 0.9705 - val_main_out_dice_value: 0.9958\n",
      "Epoch 8/150\n",
      "259/259 [==============================] - 25s - loss: 0.5397 - aux_out1_loss: 0.4403 - aux_out2_loss: 0.4658 - main_out_loss: 0.4284 - aux_out1_dice_value: 0.9869 - aux_out2_dice_value: 0.9738 - main_out_dice_value: 0.9939 - val_loss: 0.5237 - val_aux_out1_loss: 0.4332 - val_aux_out2_loss: 0.4685 - val_main_out_loss: 0.4137 - val_aux_out1_dice_value: 0.9875 - val_aux_out2_dice_value: 0.9709 - val_main_out_dice_value: 0.9958\n",
      "Epoch 9/150\n",
      "259/259 [==============================] - 26s - loss: 0.5353 - aux_out1_loss: 0.4362 - aux_out2_loss: 0.4614 - main_out_loss: 0.4250 - aux_out1_dice_value: 0.9872 - aux_out2_dice_value: 0.9747 - main_out_dice_value: 0.9940 - val_loss: 0.5228 - val_aux_out1_loss: 0.4324 - val_aux_out2_loss: 0.4619 - val_main_out_loss: 0.4132 - val_aux_out1_dice_value: 0.9878 - val_aux_out2_dice_value: 0.9741 - val_main_out_dice_value: 0.9959\n",
      "Epoch 10/150\n",
      "259/259 [==============================] - 25s - loss: 0.5392 - aux_out1_loss: 0.4399 - aux_out2_loss: 0.4640 - main_out_loss: 0.4280 - aux_out1_dice_value: 0.9871 - aux_out2_dice_value: 0.9751 - main_out_dice_value: 0.9942 - val_loss: 0.5233 - val_aux_out1_loss: 0.4326 - val_aux_out2_loss: 0.4632 - val_main_out_loss: 0.4136 - val_aux_out1_dice_value: 0.9877 - val_aux_out2_dice_value: 0.9735 - val_main_out_dice_value: 0.9958\n",
      "Epoch 11/150\n",
      "258/259 [============================>.] - ETA: 0s - loss: 0.5365 - aux_out1_loss: 0.4376 - aux_out2_loss: 0.4602 - main_out_loss: 0.4260 - aux_out1_dice_value: 0.9874 - aux_out2_dice_value: 0.9759 - main_out_dice_value: 0.9942\n",
      "Epoch 00010: reducing learning rate to 9.999999747378752e-06.\n",
      "259/259 [==============================] - 25s - loss: 0.5364 - aux_out1_loss: 0.4375 - aux_out2_loss: 0.4602 - main_out_loss: 0.4258 - aux_out1_dice_value: 0.9874 - aux_out2_dice_value: 0.9758 - main_out_dice_value: 0.9942 - val_loss: 0.5230 - val_aux_out1_loss: 0.4326 - val_aux_out2_loss: 0.4620 - val_main_out_loss: 0.4134 - val_aux_out1_dice_value: 0.9877 - val_aux_out2_dice_value: 0.9741 - val_main_out_dice_value: 0.9959\n",
      "Epoch 12/150\n",
      "259/259 [==============================] - 26s - loss: 0.5350 - aux_out1_loss: 0.4377 - aux_out2_loss: 0.4600 - main_out_loss: 0.4245 - aux_out1_dice_value: 0.9875 - aux_out2_dice_value: 0.9764 - main_out_dice_value: 0.9946 - val_loss: 0.5226 - val_aux_out1_loss: 0.4321 - val_aux_out2_loss: 0.4606 - val_main_out_loss: 0.4132 - val_aux_out1_dice_value: 0.9879 - val_aux_out2_dice_value: 0.9748 - val_main_out_dice_value: 0.9959\n",
      "Epoch 13/150\n",
      "259/259 [==============================] - 26s - loss: 0.5312 - aux_out1_loss: 0.4337 - aux_out2_loss: 0.4565 - main_out_loss: 0.4217 - aux_out1_dice_value: 0.9878 - aux_out2_dice_value: 0.9767 - main_out_dice_value: 0.9946 - val_loss: 0.5225 - val_aux_out1_loss: 0.4320 - val_aux_out2_loss: 0.4602 - val_main_out_loss: 0.4131 - val_aux_out1_dice_value: 0.9879 - val_aux_out2_dice_value: 0.9750 - val_main_out_dice_value: 0.9960\n",
      "Epoch 14/150\n",
      "259/259 [==============================] - 25s - loss: 0.5383 - aux_out1_loss: 0.4384 - aux_out2_loss: 0.4608 - main_out_loss: 0.4275 - aux_out1_dice_value: 0.9874 - aux_out2_dice_value: 0.9764 - main_out_dice_value: 0.9942 - val_loss: 0.5225 - val_aux_out1_loss: 0.4320 - val_aux_out2_loss: 0.4607 - val_main_out_loss: 0.4131 - val_aux_out1_dice_value: 0.9879 - val_aux_out2_dice_value: 0.9748 - val_main_out_dice_value: 0.9960\n",
      "Epoch 15/150\n",
      "258/259 [============================>.] - ETA: 0s - loss: 0.5377 - aux_out1_loss: 0.4387 - aux_out2_loss: 0.4614 - main_out_loss: 0.4269 - aux_out1_dice_value: 0.9876 - aux_out2_dice_value: 0.9764 - main_out_dice_value: 0.9945\n",
      "Epoch 00014: reducing learning rate to 9.999999747378752e-07.\n",
      "259/259 [==============================] - 26s - loss: 0.5376 - aux_out1_loss: 0.4386 - aux_out2_loss: 0.4614 - main_out_loss: 0.4268 - aux_out1_dice_value: 0.9876 - aux_out2_dice_value: 0.9764 - main_out_dice_value: 0.9945 - val_loss: 0.5225 - val_aux_out1_loss: 0.4319 - val_aux_out2_loss: 0.4600 - val_main_out_loss: 0.4131 - val_aux_out1_dice_value: 0.9880 - val_aux_out2_dice_value: 0.9751 - val_main_out_dice_value: 0.9960\n",
      "Epoch 00014: early stopping\n",
      "\n",
      "Starting run \"unet-aux-(02|16)-2017-09-24-2305\"\n",
      "Epoch 1/150\n",
      "499/499 [==============================] - 51s - loss: 0.5932 - aux_out1_loss: 0.5189 - aux_out2_loss: 0.5704 - main_out_loss: 0.4609 - aux_out1_dice_value: 0.9657 - aux_out2_dice_value: 0.9310 - main_out_dice_value: 0.9939 - val_loss: 0.5737 - val_aux_out1_loss: 0.4720 - val_aux_out2_loss: 0.5380 - val_main_out_loss: 0.4524 - val_aux_out1_dice_value: 0.9862 - val_aux_out2_dice_value: 0.9480 - val_main_out_dice_value: 0.9958\n",
      "Epoch 2/150\n",
      "499/499 [==============================] - 49s - loss: 0.5787 - aux_out1_loss: 0.4707 - aux_out2_loss: 0.4990 - main_out_loss: 0.4596 - aux_out1_dice_value: 0.9867 - aux_out2_dice_value: 0.9701 - main_out_dice_value: 0.9941 - val_loss: 0.5718 - val_aux_out1_loss: 0.4687 - val_aux_out2_loss: 0.5150 - val_main_out_loss: 0.4523 - val_aux_out1_dice_value: 0.9875 - val_aux_out2_dice_value: 0.9612 - val_main_out_dice_value: 0.9959\n",
      "Epoch 3/150\n",
      "499/499 [==============================] - 49s - loss: 0.5796 - aux_out1_loss: 0.4704 - aux_out2_loss: 0.4907 - main_out_loss: 0.4610 - aux_out1_dice_value: 0.9875 - aux_out2_dice_value: 0.9752 - main_out_dice_value: 0.9942 - val_loss: 0.5706 - val_aux_out1_loss: 0.4672 - val_aux_out2_loss: 0.5024 - val_main_out_loss: 0.4521 - val_aux_out1_dice_value: 0.9882 - val_aux_out2_dice_value: 0.9681 - val_main_out_dice_value: 0.9959\n",
      "Epoch 4/150\n",
      "499/499 [==============================] - 48s - loss: 0.5754 - aux_out1_loss: 0.4670 - aux_out2_loss: 0.4834 - main_out_loss: 0.4579 - aux_out1_dice_value: 0.9880 - aux_out2_dice_value: 0.9781 - main_out_dice_value: 0.9945 - val_loss: 0.5703 - val_aux_out1_loss: 0.4669 - val_aux_out2_loss: 0.4964 - val_main_out_loss: 0.4522 - val_aux_out1_dice_value: 0.9883 - val_aux_out2_dice_value: 0.9713 - val_main_out_dice_value: 0.9959\n",
      "Epoch 5/150\n",
      "499/499 [==============================] - 48s - loss: 0.5778 - aux_out1_loss: 0.4688 - aux_out2_loss: 0.4828 - main_out_loss: 0.4599 - aux_out1_dice_value: 0.9882 - aux_out2_dice_value: 0.9795 - main_out_dice_value: 0.9946 - val_loss: 0.5700 - val_aux_out1_loss: 0.4661 - val_aux_out2_loss: 0.4924 - val_main_out_loss: 0.4521 - val_aux_out1_dice_value: 0.9886 - val_aux_out2_dice_value: 0.9735 - val_main_out_dice_value: 0.9959\n",
      "Epoch 6/150\n",
      "499/499 [==============================] - 49s - loss: 0.5774 - aux_out1_loss: 0.4680 - aux_out2_loss: 0.4804 - main_out_loss: 0.4598 - aux_out1_dice_value: 0.9883 - aux_out2_dice_value: 0.9805 - main_out_dice_value: 0.9945 - val_loss: 0.5695 - val_aux_out1_loss: 0.4660 - val_aux_out2_loss: 0.4870 - val_main_out_loss: 0.4519 - val_aux_out1_dice_value: 0.9886 - val_aux_out2_dice_value: 0.9765 - val_main_out_dice_value: 0.9960\n",
      "Epoch 7/150\n",
      "499/499 [==============================] - 49s - loss: 0.5786 - aux_out1_loss: 0.4685 - aux_out2_loss: 0.4799 - main_out_loss: 0.4609 - aux_out1_dice_value: 0.9884 - aux_out2_dice_value: 0.9812 - main_out_dice_value: 0.9944 - val_loss: 0.5693 - val_aux_out1_loss: 0.4655 - val_aux_out2_loss: 0.4873 - val_main_out_loss: 0.4518 - val_aux_out1_dice_value: 0.9888 - val_aux_out2_dice_value: 0.9764 - val_main_out_dice_value: 0.9960\n",
      "Epoch 8/150\n",
      "499/499 [==============================] - 48s - loss: 0.5747 - aux_out1_loss: 0.4660 - aux_out2_loss: 0.4761 - main_out_loss: 0.4577 - aux_out1_dice_value: 0.9887 - aux_out2_dice_value: 0.9822 - main_out_dice_value: 0.9947 - val_loss: 0.5694 - val_aux_out1_loss: 0.4656 - val_aux_out2_loss: 0.4841 - val_main_out_loss: 0.4520 - val_aux_out1_dice_value: 0.9888 - val_aux_out2_dice_value: 0.9782 - val_main_out_dice_value: 0.9959\n",
      "Epoch 9/150\n",
      "499/499 [==============================] - 48s - loss: 0.5747 - aux_out1_loss: 0.4654 - aux_out2_loss: 0.4745 - main_out_loss: 0.4578 - aux_out1_dice_value: 0.9888 - aux_out2_dice_value: 0.9829 - main_out_dice_value: 0.9946 - val_loss: 0.5690 - val_aux_out1_loss: 0.4652 - val_aux_out2_loss: 0.4819 - val_main_out_loss: 0.4519 - val_aux_out1_dice_value: 0.9889 - val_aux_out2_dice_value: 0.9792 - val_main_out_dice_value: 0.9960\n",
      "Epoch 10/150\n",
      "499/499 [==============================] - 48s - loss: 0.5753 - aux_out1_loss: 0.4657 - aux_out2_loss: 0.4746 - main_out_loss: 0.4584 - aux_out1_dice_value: 0.9889 - aux_out2_dice_value: 0.9832 - main_out_dice_value: 0.9946 - val_loss: 0.5690 - val_aux_out1_loss: 0.4650 - val_aux_out2_loss: 0.4822 - val_main_out_loss: 0.4519 - val_aux_out1_dice_value: 0.9890 - val_aux_out2_dice_value: 0.9790 - val_main_out_dice_value: 0.9960\n",
      "Epoch 11/150\n",
      "498/499 [============================>.] - ETA: 0s - loss: 0.5733 - aux_out1_loss: 0.4651 - aux_out2_loss: 0.4729 - main_out_loss: 0.4567 - aux_out1_dice_value: 0.9890 - aux_out2_dice_value: 0.9838 - main_out_dice_value: 0.9949\n",
      "Epoch 00010: reducing learning rate to 9.999999747378752e-06.\n",
      "499/499 [==============================] - 48s - loss: 0.5733 - aux_out1_loss: 0.4651 - aux_out2_loss: 0.4729 - main_out_loss: 0.4567 - aux_out1_dice_value: 0.9889 - aux_out2_dice_value: 0.9838 - main_out_dice_value: 0.9949 - val_loss: 0.5691 - val_aux_out1_loss: 0.4651 - val_aux_out2_loss: 0.4784 - val_main_out_loss: 0.4522 - val_aux_out1_dice_value: 0.9890 - val_aux_out2_dice_value: 0.9812 - val_main_out_dice_value: 0.9959\n",
      "Epoch 12/150\n",
      "499/499 [==============================] - 49s - loss: 0.5757 - aux_out1_loss: 0.4662 - aux_out2_loss: 0.4728 - main_out_loss: 0.4589 - aux_out1_dice_value: 0.9889 - aux_out2_dice_value: 0.9843 - main_out_dice_value: 0.9947 - val_loss: 0.5685 - val_aux_out1_loss: 0.4649 - val_aux_out2_loss: 0.4772 - val_main_out_loss: 0.4517 - val_aux_out1_dice_value: 0.9891 - val_aux_out2_dice_value: 0.9820 - val_main_out_dice_value: 0.9960\n",
      "Epoch 13/150\n",
      "499/499 [==============================] - 48s - loss: 0.5744 - aux_out1_loss: 0.4657 - aux_out2_loss: 0.4723 - main_out_loss: 0.4576 - aux_out1_dice_value: 0.9890 - aux_out2_dice_value: 0.9845 - main_out_dice_value: 0.9949 - val_loss: 0.5686 - val_aux_out1_loss: 0.4648 - val_aux_out2_loss: 0.4785 - val_main_out_loss: 0.4518 - val_aux_out1_dice_value: 0.9891 - val_aux_out2_dice_value: 0.9812 - val_main_out_dice_value: 0.9960\n",
      "Epoch 14/150\n",
      "499/499 [==============================] - 49s - loss: 0.5754 - aux_out1_loss: 0.4659 - aux_out2_loss: 0.4726 - main_out_loss: 0.4586 - aux_out1_dice_value: 0.9890 - aux_out2_dice_value: 0.9844 - main_out_dice_value: 0.9947 - val_loss: 0.5684 - val_aux_out1_loss: 0.4647 - val_aux_out2_loss: 0.4768 - val_main_out_loss: 0.4516 - val_aux_out1_dice_value: 0.9891 - val_aux_out2_dice_value: 0.9821 - val_main_out_dice_value: 0.9960\n",
      "Epoch 15/150\n",
      "498/499 [============================>.] - ETA: 0s - loss: 0.5734 - aux_out1_loss: 0.4643 - aux_out2_loss: 0.4709 - main_out_loss: 0.4570 - aux_out1_dice_value: 0.9891 - aux_out2_dice_value: 0.9845 - main_out_dice_value: 0.9947\n",
      "Epoch 00014: reducing learning rate to 9.999999747378752e-07.\n",
      "499/499 [==============================] - 50s - loss: 0.5733 - aux_out1_loss: 0.4642 - aux_out2_loss: 0.4708 - main_out_loss: 0.4570 - aux_out1_dice_value: 0.9891 - aux_out2_dice_value: 0.9845 - main_out_dice_value: 0.9947 - val_loss: 0.5684 - val_aux_out1_loss: 0.4647 - val_aux_out2_loss: 0.4767 - val_main_out_loss: 0.4516 - val_aux_out1_dice_value: 0.9891 - val_aux_out2_dice_value: 0.9822 - val_main_out_dice_value: 0.9960\n",
      "Epoch 00014: early stopping\n",
      "\n",
      "Starting run \"unet-aux-(03|15)-2017-09-24-2318\"\n",
      "Epoch 1/150\n",
      "520/520 [==============================] - 53s - loss: 0.6258 - aux_out1_loss: 0.5464 - aux_out2_loss: 0.5936 - main_out_loss: 0.4868 - aux_out1_dice_value: 0.9638 - aux_out2_dice_value: 0.9284 - main_out_dice_value: 0.9941 - val_loss: 0.6055 - val_aux_out1_loss: 0.5003 - val_aux_out2_loss: 0.5535 - val_main_out_loss: 0.4778 - val_aux_out1_dice_value: 0.9849 - val_aux_out2_dice_value: 0.9524 - val_main_out_dice_value: 0.9958\n",
      "Epoch 2/150\n",
      "520/520 [==============================] - 50s - loss: 0.6125 - aux_out1_loss: 0.5003 - aux_out2_loss: 0.5262 - main_out_loss: 0.4861 - aux_out1_dice_value: 0.9857 - aux_out2_dice_value: 0.9687 - main_out_dice_value: 0.9942 - val_loss: 0.6037 - val_aux_out1_loss: 0.4970 - val_aux_out2_loss: 0.5343 - val_main_out_loss: 0.4776 - val_aux_out1_dice_value: 0.9863 - val_aux_out2_dice_value: 0.9634 - val_main_out_dice_value: 0.9959\n",
      "Epoch 3/150\n",
      "520/520 [==============================] - 49s - loss: 0.6125 - aux_out1_loss: 0.4987 - aux_out2_loss: 0.5174 - main_out_loss: 0.4869 - aux_out1_dice_value: 0.9863 - aux_out2_dice_value: 0.9735 - main_out_dice_value: 0.9940 - val_loss: 0.6030 - val_aux_out1_loss: 0.4958 - val_aux_out2_loss: 0.5243 - val_main_out_loss: 0.4776 - val_aux_out1_dice_value: 0.9868 - val_aux_out2_dice_value: 0.9692 - val_main_out_dice_value: 0.9959\n",
      "Epoch 4/150\n"
     ]
    },
    {
     "name": "stdout",
     "output_type": "stream",
     "text": [
      "520/520 [==============================] - 50s - loss: 0.6117 - aux_out1_loss: 0.4977 - aux_out2_loss: 0.5113 - main_out_loss: 0.4866 - aux_out1_dice_value: 0.9867 - aux_out2_dice_value: 0.9770 - main_out_dice_value: 0.9941 - val_loss: 0.6027 - val_aux_out1_loss: 0.4955 - val_aux_out2_loss: 0.5208 - val_main_out_loss: 0.4776 - val_aux_out1_dice_value: 0.9869 - val_aux_out2_dice_value: 0.9709 - val_main_out_dice_value: 0.9959\n",
      "Epoch 5/150\n",
      "520/520 [==============================] - 49s - loss: 0.6101 - aux_out1_loss: 0.4962 - aux_out2_loss: 0.5068 - main_out_loss: 0.4855 - aux_out1_dice_value: 0.9869 - aux_out2_dice_value: 0.9790 - main_out_dice_value: 0.9941 - val_loss: 0.6024 - val_aux_out1_loss: 0.4949 - val_aux_out2_loss: 0.5140 - val_main_out_loss: 0.4778 - val_aux_out1_dice_value: 0.9872 - val_aux_out2_dice_value: 0.9751 - val_main_out_dice_value: 0.9958\n",
      "Epoch 6/150\n",
      "519/520 [============================>.] - ETA: 0s - loss: 0.6122 - aux_out1_loss: 0.4975 - aux_out2_loss: 0.5068 - main_out_loss: 0.4874 - aux_out1_dice_value: 0.9871 - aux_out2_dice_value: 0.9799 - main_out_dice_value: 0.9941\n",
      "Epoch 00005: reducing learning rate to 9.999999747378752e-06.\n",
      "520/520 [==============================] - 49s - loss: 0.6123 - aux_out1_loss: 0.4975 - aux_out2_loss: 0.5068 - main_out_loss: 0.4875 - aux_out1_dice_value: 0.9871 - aux_out2_dice_value: 0.9799 - main_out_dice_value: 0.9941 - val_loss: 0.6019 - val_aux_out1_loss: 0.4945 - val_aux_out2_loss: 0.5104 - val_main_out_loss: 0.4775 - val_aux_out1_dice_value: 0.9873 - val_aux_out2_dice_value: 0.9769 - val_main_out_dice_value: 0.9959\n",
      "Epoch 7/150\n",
      "520/520 [==============================] - 50s - loss: 0.6087 - aux_out1_loss: 0.4952 - aux_out2_loss: 0.5024 - main_out_loss: 0.4846 - aux_out1_dice_value: 0.9874 - aux_out2_dice_value: 0.9816 - main_out_dice_value: 0.9944 - val_loss: 0.6017 - val_aux_out1_loss: 0.4943 - val_aux_out2_loss: 0.5091 - val_main_out_loss: 0.4773 - val_aux_out1_dice_value: 0.9874 - val_aux_out2_dice_value: 0.9777 - val_main_out_dice_value: 0.9960\n",
      "Epoch 8/150\n",
      "520/520 [==============================] - 50s - loss: 0.6099 - aux_out1_loss: 0.4962 - aux_out2_loss: 0.5031 - main_out_loss: 0.4855 - aux_out1_dice_value: 0.9874 - aux_out2_dice_value: 0.9817 - main_out_dice_value: 0.9944 - val_loss: 0.6016 - val_aux_out1_loss: 0.4942 - val_aux_out2_loss: 0.5086 - val_main_out_loss: 0.4773 - val_aux_out1_dice_value: 0.9874 - val_aux_out2_dice_value: 0.9781 - val_main_out_dice_value: 0.9960\n",
      "Epoch 9/150\n",
      "520/520 [==============================] - 49s - loss: 0.6087 - aux_out1_loss: 0.4950 - aux_out2_loss: 0.5021 - main_out_loss: 0.4846 - aux_out1_dice_value: 0.9875 - aux_out2_dice_value: 0.9817 - main_out_dice_value: 0.9944 - val_loss: 0.6015 - val_aux_out1_loss: 0.4942 - val_aux_out2_loss: 0.5084 - val_main_out_loss: 0.4772 - val_aux_out1_dice_value: 0.9874 - val_aux_out2_dice_value: 0.9782 - val_main_out_dice_value: 0.9960\n",
      "Epoch 10/150\n",
      "520/520 [==============================] - 50s - loss: 0.6117 - aux_out1_loss: 0.4977 - aux_out2_loss: 0.5047 - main_out_loss: 0.4869 - aux_out1_dice_value: 0.9874 - aux_out2_dice_value: 0.9816 - main_out_dice_value: 0.9945 - val_loss: 0.6014 - val_aux_out1_loss: 0.4941 - val_aux_out2_loss: 0.5080 - val_main_out_loss: 0.4772 - val_aux_out1_dice_value: 0.9875 - val_aux_out2_dice_value: 0.9784 - val_main_out_dice_value: 0.9960\n",
      "Epoch 11/150\n",
      "520/520 [==============================] - 50s - loss: 0.6125 - aux_out1_loss: 0.4978 - aux_out2_loss: 0.5043 - main_out_loss: 0.4877 - aux_out1_dice_value: 0.9874 - aux_out2_dice_value: 0.9818 - main_out_dice_value: 0.9943 - val_loss: 0.6014 - val_aux_out1_loss: 0.4941 - val_aux_out2_loss: 0.5080 - val_main_out_loss: 0.4772 - val_aux_out1_dice_value: 0.9875 - val_aux_out2_dice_value: 0.9784 - val_main_out_dice_value: 0.9960\n",
      "Epoch 12/150\n",
      "519/520 [============================>.] - ETA: 0s - loss: 0.6125 - aux_out1_loss: 0.4978 - aux_out2_loss: 0.5040 - main_out_loss: 0.4877 - aux_out1_dice_value: 0.9874 - aux_out2_dice_value: 0.9820 - main_out_dice_value: 0.9943\n",
      "Epoch 00011: reducing learning rate to 9.999999747378752e-07.\n",
      "520/520 [==============================] - 49s - loss: 0.6125 - aux_out1_loss: 0.4978 - aux_out2_loss: 0.5040 - main_out_loss: 0.4877 - aux_out1_dice_value: 0.9874 - aux_out2_dice_value: 0.9821 - main_out_dice_value: 0.9943 - val_loss: 0.6014 - val_aux_out1_loss: 0.4940 - val_aux_out2_loss: 0.5073 - val_main_out_loss: 0.4772 - val_aux_out1_dice_value: 0.9875 - val_aux_out2_dice_value: 0.9789 - val_main_out_dice_value: 0.9960\n",
      "Epoch 13/150\n",
      "520/520 [==============================] - 49s - loss: 0.6103 - aux_out1_loss: 0.4964 - aux_out2_loss: 0.5025 - main_out_loss: 0.4859 - aux_out1_dice_value: 0.9875 - aux_out2_dice_value: 0.9823 - main_out_dice_value: 0.9945 - val_loss: 0.6013 - val_aux_out1_loss: 0.4940 - val_aux_out2_loss: 0.5069 - val_main_out_loss: 0.4772 - val_aux_out1_dice_value: 0.9875 - val_aux_out2_dice_value: 0.9791 - val_main_out_dice_value: 0.9960\n",
      "Epoch 14/150\n",
      "520/520 [==============================] - 49s - loss: 0.6099 - aux_out1_loss: 0.4961 - aux_out2_loss: 0.5023 - main_out_loss: 0.4856 - aux_out1_dice_value: 0.9875 - aux_out2_dice_value: 0.9822 - main_out_dice_value: 0.9944 - val_loss: 0.6013 - val_aux_out1_loss: 0.4940 - val_aux_out2_loss: 0.5074 - val_main_out_loss: 0.4772 - val_aux_out1_dice_value: 0.9875 - val_aux_out2_dice_value: 0.9788 - val_main_out_dice_value: 0.9960\n",
      "Epoch 15/150\n",
      "520/520 [==============================] - 49s - loss: 0.6090 - aux_out1_loss: 0.4955 - aux_out2_loss: 0.5014 - main_out_loss: 0.4849 - aux_out1_dice_value: 0.9875 - aux_out2_dice_value: 0.9824 - main_out_dice_value: 0.9945 - val_loss: 0.6013 - val_aux_out1_loss: 0.4940 - val_aux_out2_loss: 0.5072 - val_main_out_loss: 0.4772 - val_aux_out1_dice_value: 0.9875 - val_aux_out2_dice_value: 0.9789 - val_main_out_dice_value: 0.9960\n",
      "Epoch 16/150\n",
      "519/520 [============================>.] - ETA: 0s - loss: 0.6104 - aux_out1_loss: 0.4964 - aux_out2_loss: 0.5023 - main_out_loss: 0.4860 - aux_out1_dice_value: 0.9875 - aux_out2_dice_value: 0.9824 - main_out_dice_value: 0.9944\n",
      "Epoch 00015: reducing learning rate to 9.999999974752428e-08.\n",
      "520/520 [==============================] - 50s - loss: 0.6104 - aux_out1_loss: 0.4964 - aux_out2_loss: 0.5023 - main_out_loss: 0.4860 - aux_out1_dice_value: 0.9875 - aux_out2_dice_value: 0.9824 - main_out_dice_value: 0.9944 - val_loss: 0.6013 - val_aux_out1_loss: 0.4940 - val_aux_out2_loss: 0.5071 - val_main_out_loss: 0.4772 - val_aux_out1_dice_value: 0.9875 - val_aux_out2_dice_value: 0.9789 - val_main_out_dice_value: 0.9960\n",
      "Epoch 00015: early stopping\n",
      "\n",
      "Starting run \"unet-aux-(04|14)-2017-09-24-2332\"\n",
      "Epoch 1/150\n",
      "511/511 [==============================] - 55s - loss: 0.6357 - aux_out1_loss: 0.5549 - aux_out2_loss: 0.6032 - main_out_loss: 0.4945 - aux_out1_dice_value: 0.9612 - aux_out2_dice_value: 0.9239 - main_out_dice_value: 0.9932 - val_loss: 0.6154 - val_aux_out1_loss: 0.5085 - val_aux_out2_loss: 0.5632 - val_main_out_loss: 0.4855 - val_aux_out1_dice_value: 0.9832 - val_aux_out2_dice_value: 0.9471 - val_main_out_dice_value: 0.9952\n",
      "Epoch 2/150\n",
      "511/511 [==============================] - 52s - loss: 0.6229 - aux_out1_loss: 0.5086 - aux_out2_loss: 0.5325 - main_out_loss: 0.4946 - aux_out1_dice_value: 0.9842 - aux_out2_dice_value: 0.9664 - main_out_dice_value: 0.9935 - val_loss: 0.6132 - val_aux_out1_loss: 0.5041 - val_aux_out2_loss: 0.5400 - val_main_out_loss: 0.4854 - val_aux_out1_dice_value: 0.9851 - val_aux_out2_dice_value: 0.9610 - val_main_out_dice_value: 0.9952\n",
      "Epoch 3/150\n",
      "511/511 [==============================] - 52s - loss: 0.6209 - aux_out1_loss: 0.5056 - aux_out2_loss: 0.5204 - main_out_loss: 0.4938 - aux_out1_dice_value: 0.9850 - aux_out2_dice_value: 0.9728 - main_out_dice_value: 0.9933 - val_loss: 0.6125 - val_aux_out1_loss: 0.5032 - val_aux_out2_loss: 0.5294 - val_main_out_loss: 0.4854 - val_aux_out1_dice_value: 0.9855 - val_aux_out2_dice_value: 0.9673 - val_main_out_dice_value: 0.9952\n",
      "Epoch 4/150\n",
      "511/511 [==============================] - 52s - loss: 0.6208 - aux_out1_loss: 0.5045 - aux_out2_loss: 0.5148 - main_out_loss: 0.4941 - aux_out1_dice_value: 0.9854 - aux_out2_dice_value: 0.9760 - main_out_dice_value: 0.9933 - val_loss: 0.6123 - val_aux_out1_loss: 0.5030 - val_aux_out2_loss: 0.5245 - val_main_out_loss: 0.4855 - val_aux_out1_dice_value: 0.9856 - val_aux_out2_dice_value: 0.9698 - val_main_out_dice_value: 0.9952\n",
      "Epoch 5/150\n",
      "511/511 [==============================] - 52s - loss: 0.6198 - aux_out1_loss: 0.5040 - aux_out2_loss: 0.5109 - main_out_loss: 0.4935 - aux_out1_dice_value: 0.9857 - aux_out2_dice_value: 0.9783 - main_out_dice_value: 0.9935 - val_loss: 0.6116 - val_aux_out1_loss: 0.5022 - val_aux_out2_loss: 0.5183 - val_main_out_loss: 0.4853 - val_aux_out1_dice_value: 0.9859 - val_aux_out2_dice_value: 0.9735 - val_main_out_dice_value: 0.9953\n",
      "Epoch 6/150\n",
      "510/511 [============================>.] - ETA: 0s - loss: 0.6199 - aux_out1_loss: 0.5038 - aux_out2_loss: 0.5096 - main_out_loss: 0.4936 - aux_out1_dice_value: 0.9859 - aux_out2_dice_value: 0.9792 - main_out_dice_value: 0.9935\n",
      "Epoch 00005: reducing learning rate to 9.999999747378752e-06.\n",
      "511/511 [==============================] - 52s - loss: 0.6199 - aux_out1_loss: 0.5038 - aux_out2_loss: 0.5096 - main_out_loss: 0.4936 - aux_out1_dice_value: 0.9859 - aux_out2_dice_value: 0.9792 - main_out_dice_value: 0.9935 - val_loss: 0.6114 - val_aux_out1_loss: 0.5020 - val_aux_out2_loss: 0.5143 - val_main_out_loss: 0.4852 - val_aux_out1_dice_value: 0.9860 - val_aux_out2_dice_value: 0.9758 - val_main_out_dice_value: 0.9953\n",
      "Epoch 7/150\n",
      "511/511 [==============================] - 52s - loss: 0.6186 - aux_out1_loss: 0.5024 - aux_out2_loss: 0.5062 - main_out_loss: 0.4929 - aux_out1_dice_value: 0.9861 - aux_out2_dice_value: 0.9806 - main_out_dice_value: 0.9935 - val_loss: 0.6111 - val_aux_out1_loss: 0.5015 - val_aux_out2_loss: 0.5146 - val_main_out_loss: 0.4850 - val_aux_out1_dice_value: 0.9862 - val_aux_out2_dice_value: 0.9755 - val_main_out_dice_value: 0.9953\n",
      "Epoch 8/150\n",
      "511/511 [==============================] - 53s - loss: 0.6188 - aux_out1_loss: 0.5030 - aux_out2_loss: 0.5065 - main_out_loss: 0.4929 - aux_out1_dice_value: 0.9861 - aux_out2_dice_value: 0.9808 - main_out_dice_value: 0.9937 - val_loss: 0.6110 - val_aux_out1_loss: 0.5015 - val_aux_out2_loss: 0.5144 - val_main_out_loss: 0.4850 - val_aux_out1_dice_value: 0.9863 - val_aux_out2_dice_value: 0.9757 - val_main_out_dice_value: 0.9953\n",
      "Epoch 9/150\n",
      "511/511 [==============================] - 52s - loss: 0.6178 - aux_out1_loss: 0.5022 - aux_out2_loss: 0.5054 - main_out_loss: 0.4921 - aux_out1_dice_value: 0.9862 - aux_out2_dice_value: 0.9811 - main_out_dice_value: 0.9937 - val_loss: 0.6109 - val_aux_out1_loss: 0.5015 - val_aux_out2_loss: 0.5136 - val_main_out_loss: 0.4850 - val_aux_out1_dice_value: 0.9862 - val_aux_out2_dice_value: 0.9762 - val_main_out_dice_value: 0.9953\n",
      "Epoch 10/150\n",
      "511/511 [==============================] - 51s - loss: 0.6185 - aux_out1_loss: 0.5031 - aux_out2_loss: 0.5064 - main_out_loss: 0.4926 - aux_out1_dice_value: 0.9863 - aux_out2_dice_value: 0.9812 - main_out_dice_value: 0.9939 - val_loss: 0.6110 - val_aux_out1_loss: 0.5014 - val_aux_out2_loss: 0.5132 - val_main_out_loss: 0.4850 - val_aux_out1_dice_value: 0.9863 - val_aux_out2_dice_value: 0.9764 - val_main_out_dice_value: 0.9953\n",
      "Epoch 11/150\n",
      "511/511 [==============================] - 52s - loss: 0.6187 - aux_out1_loss: 0.5024 - aux_out2_loss: 0.5055 - main_out_loss: 0.4929 - aux_out1_dice_value: 0.9863 - aux_out2_dice_value: 0.9811 - main_out_dice_value: 0.9936 - val_loss: 0.6109 - val_aux_out1_loss: 0.5014 - val_aux_out2_loss: 0.5127 - val_main_out_loss: 0.4849 - val_aux_out1_dice_value: 0.9863 - val_aux_out2_dice_value: 0.9767 - val_main_out_dice_value: 0.9953\n",
      "Epoch 12/150\n",
      "510/511 [============================>.] - ETA: 0s - loss: 0.6189 - aux_out1_loss: 0.5031 - aux_out2_loss: 0.5056 - main_out_loss: 0.4930 - aux_out1_dice_value: 0.9862 - aux_out2_dice_value: 0.9814 - main_out_dice_value: 0.9937\n",
      "Epoch 00011: reducing learning rate to 9.999999747378752e-07.\n",
      "511/511 [==============================] - 52s - loss: 0.6189 - aux_out1_loss: 0.5031 - aux_out2_loss: 0.5056 - main_out_loss: 0.4930 - aux_out1_dice_value: 0.9862 - aux_out2_dice_value: 0.9814 - main_out_dice_value: 0.9937 - val_loss: 0.6109 - val_aux_out1_loss: 0.5013 - val_aux_out2_loss: 0.5129 - val_main_out_loss: 0.4849 - val_aux_out1_dice_value: 0.9863 - val_aux_out2_dice_value: 0.9766 - val_main_out_dice_value: 0.9953\n",
      "Epoch 13/150\n",
      "511/511 [==============================] - 51s - loss: 0.6188 - aux_out1_loss: 0.5027 - aux_out2_loss: 0.5053 - main_out_loss: 0.4930 - aux_out1_dice_value: 0.9863 - aux_out2_dice_value: 0.9815 - main_out_dice_value: 0.9937 - val_loss: 0.6109 - val_aux_out1_loss: 0.5013 - val_aux_out2_loss: 0.5127 - val_main_out_loss: 0.4850 - val_aux_out1_dice_value: 0.9863 - val_aux_out2_dice_value: 0.9767 - val_main_out_dice_value: 0.9953\n",
      "Epoch 14/150\n",
      "511/511 [==============================] - 52s - loss: 0.6195 - aux_out1_loss: 0.5030 - aux_out2_loss: 0.5056 - main_out_loss: 0.4936 - aux_out1_dice_value: 0.9863 - aux_out2_dice_value: 0.9814 - main_out_dice_value: 0.9936 - val_loss: 0.6108 - val_aux_out1_loss: 0.5013 - val_aux_out2_loss: 0.5125 - val_main_out_loss: 0.4849 - val_aux_out1_dice_value: 0.9863 - val_aux_out2_dice_value: 0.9768 - val_main_out_dice_value: 0.9954\n",
      "Epoch 15/150\n",
      "511/511 [==============================] - 51s - loss: 0.6207 - aux_out1_loss: 0.5046 - aux_out2_loss: 0.5067 - main_out_loss: 0.4944 - aux_out1_dice_value: 0.9862 - aux_out2_dice_value: 0.9816 - main_out_dice_value: 0.9938 - val_loss: 0.6108 - val_aux_out1_loss: 0.5013 - val_aux_out2_loss: 0.5127 - val_main_out_loss: 0.4849 - val_aux_out1_dice_value: 0.9863 - val_aux_out2_dice_value: 0.9768 - val_main_out_dice_value: 0.9953\n",
      "Epoch 16/150\n",
      "510/511 [============================>.] - ETA: 0s - loss: 0.6223 - aux_out1_loss: 0.5055 - aux_out2_loss: 0.5078 - main_out_loss: 0.4959 - aux_out1_dice_value: 0.9862 - aux_out2_dice_value: 0.9813 - main_out_dice_value: 0.9936\n",
      "Epoch 00015: reducing learning rate to 9.999999974752428e-08.\n",
      "511/511 [==============================] - 51s - loss: 0.6224 - aux_out1_loss: 0.5055 - aux_out2_loss: 0.5078 - main_out_loss: 0.4959 - aux_out1_dice_value: 0.9862 - aux_out2_dice_value: 0.9813 - main_out_dice_value: 0.9936 - val_loss: 0.6108 - val_aux_out1_loss: 0.5013 - val_aux_out2_loss: 0.5126 - val_main_out_loss: 0.4849 - val_aux_out1_dice_value: 0.9863 - val_aux_out2_dice_value: 0.9769 - val_main_out_dice_value: 0.9954\n",
      "Epoch 00015: early stopping\n",
      "\n",
      "Starting run \"unet-aux-(05|13)-2017-09-24-2346\"\n",
      "Epoch 1/150\n",
      "508/508 [==============================] - 52s - loss: 0.6229 - aux_out1_loss: 0.5427 - aux_out2_loss: 0.6001 - main_out_loss: 0.4844 - aux_out1_dice_value: 0.9616 - aux_out2_dice_value: 0.9210 - main_out_dice_value: 0.9925 - val_loss: 0.5970 - val_aux_out1_loss: 0.4925 - val_aux_out2_loss: 0.5441 - val_main_out_loss: 0.4713 - val_aux_out1_dice_value: 0.9830 - val_aux_out2_dice_value: 0.9509 - val_main_out_dice_value: 0.9947\n",
      "Epoch 2/150\n",
      "508/508 [==============================] - 50s - loss: 0.6088 - aux_out1_loss: 0.4955 - aux_out2_loss: 0.5198 - main_out_loss: 0.4837 - aux_out1_dice_value: 0.9838 - aux_out2_dice_value: 0.9668 - main_out_dice_value: 0.9927 - val_loss: 0.5946 - val_aux_out1_loss: 0.4884 - val_aux_out2_loss: 0.5200 - val_main_out_loss: 0.4709 - val_aux_out1_dice_value: 0.9848 - val_aux_out2_dice_value: 0.9645 - val_main_out_dice_value: 0.9948\n",
      "Epoch 3/150\n",
      "508/508 [==============================] - 48s - loss: 0.6078 - aux_out1_loss: 0.4936 - aux_out2_loss: 0.5090 - main_out_loss: 0.4836 - aux_out1_dice_value: 0.9846 - aux_out2_dice_value: 0.9729 - main_out_dice_value: 0.9928 - val_loss: 0.5941 - val_aux_out1_loss: 0.4876 - val_aux_out2_loss: 0.5102 - val_main_out_loss: 0.4711 - val_aux_out1_dice_value: 0.9851 - val_aux_out2_dice_value: 0.9705 - val_main_out_dice_value: 0.9948\n",
      "Epoch 4/150\n"
     ]
    },
    {
     "name": "stdout",
     "output_type": "stream",
     "text": [
      "508/508 [==============================] - 48s - loss: 0.6037 - aux_out1_loss: 0.4904 - aux_out2_loss: 0.5014 - main_out_loss: 0.4805 - aux_out1_dice_value: 0.9851 - aux_out2_dice_value: 0.9761 - main_out_dice_value: 0.9931 - val_loss: 0.5937 - val_aux_out1_loss: 0.4869 - val_aux_out2_loss: 0.5028 - val_main_out_loss: 0.4711 - val_aux_out1_dice_value: 0.9854 - val_aux_out2_dice_value: 0.9738 - val_main_out_dice_value: 0.9948\n",
      "Epoch 5/150\n",
      "508/508 [==============================] - 49s - loss: 0.6044 - aux_out1_loss: 0.4911 - aux_out2_loss: 0.4989 - main_out_loss: 0.4812 - aux_out1_dice_value: 0.9853 - aux_out2_dice_value: 0.9781 - main_out_dice_value: 0.9932 - val_loss: 0.5934 - val_aux_out1_loss: 0.4867 - val_aux_out2_loss: 0.5006 - val_main_out_loss: 0.4710 - val_aux_out1_dice_value: 0.9855 - val_aux_out2_dice_value: 0.9750 - val_main_out_dice_value: 0.9948\n",
      "Epoch 6/150\n",
      "508/508 [==============================] - 49s - loss: 0.6062 - aux_out1_loss: 0.4920 - aux_out2_loss: 0.4976 - main_out_loss: 0.4829 - aux_out1_dice_value: 0.9855 - aux_out2_dice_value: 0.9793 - main_out_dice_value: 0.9931 - val_loss: 0.5935 - val_aux_out1_loss: 0.4867 - val_aux_out2_loss: 0.4969 - val_main_out_loss: 0.4713 - val_aux_out1_dice_value: 0.9855 - val_aux_out2_dice_value: 0.9772 - val_main_out_dice_value: 0.9947\n",
      "Epoch 7/150\n",
      "507/508 [============================>.] - ETA: 0s - loss: 0.6064 - aux_out1_loss: 0.4918 - aux_out2_loss: 0.4962 - main_out_loss: 0.4832 - aux_out1_dice_value: 0.9855 - aux_out2_dice_value: 0.9801 - main_out_dice_value: 0.9930\n",
      "Epoch 00006: reducing learning rate to 9.999999747378752e-06.\n",
      "508/508 [==============================] - 48s - loss: 0.6064 - aux_out1_loss: 0.4918 - aux_out2_loss: 0.4962 - main_out_loss: 0.4833 - aux_out1_dice_value: 0.9855 - aux_out2_dice_value: 0.9801 - main_out_dice_value: 0.9930 - val_loss: 0.5929 - val_aux_out1_loss: 0.4863 - val_aux_out2_loss: 0.4942 - val_main_out_loss: 0.4710 - val_aux_out1_dice_value: 0.9857 - val_aux_out2_dice_value: 0.9788 - val_main_out_dice_value: 0.9948\n",
      "Epoch 8/150\n",
      "508/508 [==============================] - 49s - loss: 0.6047 - aux_out1_loss: 0.4902 - aux_out2_loss: 0.4932 - main_out_loss: 0.4820 - aux_out1_dice_value: 0.9858 - aux_out2_dice_value: 0.9812 - main_out_dice_value: 0.9930 - val_loss: 0.5924 - val_aux_out1_loss: 0.4858 - val_aux_out2_loss: 0.4936 - val_main_out_loss: 0.4706 - val_aux_out1_dice_value: 0.9859 - val_aux_out2_dice_value: 0.9790 - val_main_out_dice_value: 0.9949\n",
      "Epoch 9/150\n",
      "508/508 [==============================] - 48s - loss: 0.6040 - aux_out1_loss: 0.4900 - aux_out2_loss: 0.4933 - main_out_loss: 0.4813 - aux_out1_dice_value: 0.9858 - aux_out2_dice_value: 0.9812 - main_out_dice_value: 0.9932 - val_loss: 0.5925 - val_aux_out1_loss: 0.4857 - val_aux_out2_loss: 0.4934 - val_main_out_loss: 0.4706 - val_aux_out1_dice_value: 0.9859 - val_aux_out2_dice_value: 0.9791 - val_main_out_dice_value: 0.9949\n",
      "Epoch 10/150\n",
      "508/508 [==============================] - 49s - loss: 0.6019 - aux_out1_loss: 0.4888 - aux_out2_loss: 0.4914 - main_out_loss: 0.4795 - aux_out1_dice_value: 0.9859 - aux_out2_dice_value: 0.9817 - main_out_dice_value: 0.9934 - val_loss: 0.5924 - val_aux_out1_loss: 0.4857 - val_aux_out2_loss: 0.4928 - val_main_out_loss: 0.4706 - val_aux_out1_dice_value: 0.9859 - val_aux_out2_dice_value: 0.9795 - val_main_out_dice_value: 0.9949\n",
      "Epoch 11/150\n",
      "508/508 [==============================] - 49s - loss: 0.6036 - aux_out1_loss: 0.4897 - aux_out2_loss: 0.4923 - main_out_loss: 0.4810 - aux_out1_dice_value: 0.9859 - aux_out2_dice_value: 0.9816 - main_out_dice_value: 0.9933 - val_loss: 0.5923 - val_aux_out1_loss: 0.4857 - val_aux_out2_loss: 0.4928 - val_main_out_loss: 0.4705 - val_aux_out1_dice_value: 0.9859 - val_aux_out2_dice_value: 0.9796 - val_main_out_dice_value: 0.9949\n",
      "Epoch 12/150\n",
      "508/508 [==============================] - 50s - loss: 0.6056 - aux_out1_loss: 0.4911 - aux_out2_loss: 0.4934 - main_out_loss: 0.4827 - aux_out1_dice_value: 0.9859 - aux_out2_dice_value: 0.9817 - main_out_dice_value: 0.9932 - val_loss: 0.5923 - val_aux_out1_loss: 0.4856 - val_aux_out2_loss: 0.4928 - val_main_out_loss: 0.4705 - val_aux_out1_dice_value: 0.9860 - val_aux_out2_dice_value: 0.9795 - val_main_out_dice_value: 0.9949\n",
      "Epoch 13/150\n",
      "508/508 [==============================] - 49s - loss: 0.6025 - aux_out1_loss: 0.4892 - aux_out2_loss: 0.4914 - main_out_loss: 0.4801 - aux_out1_dice_value: 0.9860 - aux_out2_dice_value: 0.9821 - main_out_dice_value: 0.9935 - val_loss: 0.5922 - val_aux_out1_loss: 0.4856 - val_aux_out2_loss: 0.4921 - val_main_out_loss: 0.4705 - val_aux_out1_dice_value: 0.9860 - val_aux_out2_dice_value: 0.9799 - val_main_out_dice_value: 0.9949\n",
      "Epoch 14/150\n",
      "508/508 [==============================] - 48s - loss: 0.6039 - aux_out1_loss: 0.4894 - aux_out2_loss: 0.4919 - main_out_loss: 0.4814 - aux_out1_dice_value: 0.9860 - aux_out2_dice_value: 0.9818 - main_out_dice_value: 0.9932 - val_loss: 0.5923 - val_aux_out1_loss: 0.4856 - val_aux_out2_loss: 0.4928 - val_main_out_loss: 0.4705 - val_aux_out1_dice_value: 0.9860 - val_aux_out2_dice_value: 0.9795 - val_main_out_dice_value: 0.9949\n",
      "Epoch 15/150\n",
      "508/508 [==============================] - 49s - loss: 0.6057 - aux_out1_loss: 0.4911 - aux_out2_loss: 0.4930 - main_out_loss: 0.4829 - aux_out1_dice_value: 0.9859 - aux_out2_dice_value: 0.9819 - main_out_dice_value: 0.9931 - val_loss: 0.5922 - val_aux_out1_loss: 0.4855 - val_aux_out2_loss: 0.4919 - val_main_out_loss: 0.4705 - val_aux_out1_dice_value: 0.9860 - val_aux_out2_dice_value: 0.9800 - val_main_out_dice_value: 0.9950\n",
      "Epoch 16/150\n",
      "507/508 [============================>.] - ETA: 0s - loss: 0.6029 - aux_out1_loss: 0.4896 - aux_out2_loss: 0.4915 - main_out_loss: 0.4804 - aux_out1_dice_value: 0.9860 - aux_out2_dice_value: 0.9822 - main_out_dice_value: 0.9935\n",
      "Epoch 00015: reducing learning rate to 9.999999747378752e-07.\n",
      "508/508 [==============================] - 49s - loss: 0.6028 - aux_out1_loss: 0.4895 - aux_out2_loss: 0.4914 - main_out_loss: 0.4803 - aux_out1_dice_value: 0.9860 - aux_out2_dice_value: 0.9822 - main_out_dice_value: 0.9935 - val_loss: 0.5922 - val_aux_out1_loss: 0.4855 - val_aux_out2_loss: 0.4921 - val_main_out_loss: 0.4705 - val_aux_out1_dice_value: 0.9860 - val_aux_out2_dice_value: 0.9799 - val_main_out_dice_value: 0.9950\n",
      "Epoch 17/150\n",
      "508/508 [==============================] - 48s - loss: 0.6018 - aux_out1_loss: 0.4886 - aux_out2_loss: 0.4906 - main_out_loss: 0.4796 - aux_out1_dice_value: 0.9861 - aux_out2_dice_value: 0.9823 - main_out_dice_value: 0.9935 - val_loss: 0.5922 - val_aux_out1_loss: 0.4855 - val_aux_out2_loss: 0.4921 - val_main_out_loss: 0.4705 - val_aux_out1_dice_value: 0.9860 - val_aux_out2_dice_value: 0.9799 - val_main_out_dice_value: 0.9950\n",
      "Epoch 18/150\n",
      "508/508 [==============================] - 48s - loss: 0.6047 - aux_out1_loss: 0.4907 - aux_out2_loss: 0.4924 - main_out_loss: 0.4819 - aux_out1_dice_value: 0.9859 - aux_out2_dice_value: 0.9821 - main_out_dice_value: 0.9933 - val_loss: 0.5922 - val_aux_out1_loss: 0.4855 - val_aux_out2_loss: 0.4920 - val_main_out_loss: 0.4705 - val_aux_out1_dice_value: 0.9860 - val_aux_out2_dice_value: 0.9800 - val_main_out_dice_value: 0.9950\n",
      "Epoch 19/150\n",
      "508/508 [==============================] - 49s - loss: 0.6046 - aux_out1_loss: 0.4897 - aux_out2_loss: 0.4917 - main_out_loss: 0.4821 - aux_out1_dice_value: 0.9860 - aux_out2_dice_value: 0.9820 - main_out_dice_value: 0.9931 - val_loss: 0.5922 - val_aux_out1_loss: 0.4855 - val_aux_out2_loss: 0.4919 - val_main_out_loss: 0.4705 - val_aux_out1_dice_value: 0.9860 - val_aux_out2_dice_value: 0.9801 - val_main_out_dice_value: 0.9950\n",
      "Epoch 20/150\n",
      "507/508 [============================>.] - ETA: 0s - loss: 0.6030 - aux_out1_loss: 0.4890 - aux_out2_loss: 0.4910 - main_out_loss: 0.4806 - aux_out1_dice_value: 0.9860 - aux_out2_dice_value: 0.9822 - main_out_dice_value: 0.9933\n",
      "Epoch 00019: reducing learning rate to 9.999999974752428e-08.\n",
      "508/508 [==============================] - 48s - loss: 0.6029 - aux_out1_loss: 0.4890 - aux_out2_loss: 0.4909 - main_out_loss: 0.4806 - aux_out1_dice_value: 0.9860 - aux_out2_dice_value: 0.9822 - main_out_dice_value: 0.9933 - val_loss: 0.5922 - val_aux_out1_loss: 0.4855 - val_aux_out2_loss: 0.4920 - val_main_out_loss: 0.4705 - val_aux_out1_dice_value: 0.9860 - val_aux_out2_dice_value: 0.9800 - val_main_out_dice_value: 0.9950\n",
      "Epoch 00019: early stopping\n",
      "\n",
      "Starting run \"unet-aux-(06|12)-2017-09-25-0003\"\n",
      "Epoch 1/150\n",
      "508/508 [==============================] - 53s - loss: 0.6293 - aux_out1_loss: 0.5496 - aux_out2_loss: 0.6034 - main_out_loss: 0.4892 - aux_out1_dice_value: 0.9619 - aux_out2_dice_value: 0.9220 - main_out_dice_value: 0.9934 - val_loss: 0.6083 - val_aux_out1_loss: 0.5027 - val_aux_out2_loss: 0.5398 - val_main_out_loss: 0.4808 - val_aux_out1_dice_value: 0.9843 - val_aux_out2_dice_value: 0.9601 - val_main_out_dice_value: 0.9956\n",
      "Epoch 2/150\n",
      "508/508 [==============================] - 52s - loss: 0.6171 - aux_out1_loss: 0.5031 - aux_out2_loss: 0.5270 - main_out_loss: 0.4902 - aux_out1_dice_value: 0.9844 - aux_out2_dice_value: 0.9668 - main_out_dice_value: 0.9933 - val_loss: 0.6069 - val_aux_out1_loss: 0.4998 - val_aux_out2_loss: 0.5215 - val_main_out_loss: 0.4808 - val_aux_out1_dice_value: 0.9856 - val_aux_out2_dice_value: 0.9702 - val_main_out_dice_value: 0.9956\n",
      "Epoch 3/150\n",
      "508/508 [==============================] - 50s - loss: 0.6151 - aux_out1_loss: 0.5010 - aux_out2_loss: 0.5147 - main_out_loss: 0.4892 - aux_out1_dice_value: 0.9852 - aux_out2_dice_value: 0.9735 - main_out_dice_value: 0.9936 - val_loss: 0.6066 - val_aux_out1_loss: 0.4988 - val_aux_out2_loss: 0.5152 - val_main_out_loss: 0.4811 - val_aux_out1_dice_value: 0.9860 - val_aux_out2_dice_value: 0.9736 - val_main_out_dice_value: 0.9956\n",
      "Epoch 4/150\n",
      "508/508 [==============================] - 50s - loss: 0.6161 - aux_out1_loss: 0.5015 - aux_out2_loss: 0.5101 - main_out_loss: 0.4903 - aux_out1_dice_value: 0.9855 - aux_out2_dice_value: 0.9767 - main_out_dice_value: 0.9935 - val_loss: 0.6060 - val_aux_out1_loss: 0.4981 - val_aux_out2_loss: 0.5086 - val_main_out_loss: 0.4809 - val_aux_out1_dice_value: 0.9863 - val_aux_out2_dice_value: 0.9774 - val_main_out_dice_value: 0.9956\n",
      "Epoch 5/150\n",
      "508/508 [==============================] - 50s - loss: 0.6145 - aux_out1_loss: 0.4990 - aux_out2_loss: 0.5049 - main_out_loss: 0.4895 - aux_out1_dice_value: 0.9857 - aux_out2_dice_value: 0.9785 - main_out_dice_value: 0.9932 - val_loss: 0.6056 - val_aux_out1_loss: 0.4978 - val_aux_out2_loss: 0.5049 - val_main_out_loss: 0.4808 - val_aux_out1_dice_value: 0.9865 - val_aux_out2_dice_value: 0.9791 - val_main_out_dice_value: 0.9956\n",
      "Epoch 6/150\n",
      "507/508 [============================>.] - ETA: 0s - loss: 0.6133 - aux_out1_loss: 0.4987 - aux_out2_loss: 0.5025 - main_out_loss: 0.4884 - aux_out1_dice_value: 0.9859 - aux_out2_dice_value: 0.9800 - main_out_dice_value: 0.9936\n",
      "Epoch 00005: reducing learning rate to 9.999999747378752e-06.\n",
      "508/508 [==============================] - 50s - loss: 0.6134 - aux_out1_loss: 0.4987 - aux_out2_loss: 0.5025 - main_out_loss: 0.4885 - aux_out1_dice_value: 0.9859 - aux_out2_dice_value: 0.9800 - main_out_dice_value: 0.9936 - val_loss: 0.6057 - val_aux_out1_loss: 0.4977 - val_aux_out2_loss: 0.5041 - val_main_out_loss: 0.4810 - val_aux_out1_dice_value: 0.9865 - val_aux_out2_dice_value: 0.9798 - val_main_out_dice_value: 0.9956\n",
      "Epoch 7/150\n",
      "508/508 [==============================] - 51s - loss: 0.6148 - aux_out1_loss: 0.4997 - aux_out2_loss: 0.5023 - main_out_loss: 0.4897 - aux_out1_dice_value: 0.9861 - aux_out2_dice_value: 0.9809 - main_out_dice_value: 0.9936 - val_loss: 0.6052 - val_aux_out1_loss: 0.4973 - val_aux_out2_loss: 0.5008 - val_main_out_loss: 0.4807 - val_aux_out1_dice_value: 0.9866 - val_aux_out2_dice_value: 0.9814 - val_main_out_dice_value: 0.9957\n",
      "Epoch 8/150\n",
      "508/508 [==============================] - 50s - loss: 0.6122 - aux_out1_loss: 0.4974 - aux_out2_loss: 0.4993 - main_out_loss: 0.4878 - aux_out1_dice_value: 0.9863 - aux_out2_dice_value: 0.9816 - main_out_dice_value: 0.9937 - val_loss: 0.6052 - val_aux_out1_loss: 0.4973 - val_aux_out2_loss: 0.5004 - val_main_out_loss: 0.4807 - val_aux_out1_dice_value: 0.9867 - val_aux_out2_dice_value: 0.9817 - val_main_out_dice_value: 0.9957\n",
      "Epoch 9/150\n",
      "508/508 [==============================] - 51s - loss: 0.6144 - aux_out1_loss: 0.4992 - aux_out2_loss: 0.5008 - main_out_loss: 0.4895 - aux_out1_dice_value: 0.9862 - aux_out2_dice_value: 0.9815 - main_out_dice_value: 0.9936 - val_loss: 0.6052 - val_aux_out1_loss: 0.4973 - val_aux_out2_loss: 0.5003 - val_main_out_loss: 0.4807 - val_aux_out1_dice_value: 0.9867 - val_aux_out2_dice_value: 0.9817 - val_main_out_dice_value: 0.9957\n",
      "Epoch 10/150\n",
      "507/508 [============================>.] - ETA: 0s - loss: 0.6126 - aux_out1_loss: 0.4979 - aux_out2_loss: 0.4993 - main_out_loss: 0.4881 - aux_out1_dice_value: 0.9863 - aux_out2_dice_value: 0.9819 - main_out_dice_value: 0.9937\n",
      "Epoch 00009: reducing learning rate to 9.999999747378752e-07.\n",
      "508/508 [==============================] - 51s - loss: 0.6126 - aux_out1_loss: 0.4978 - aux_out2_loss: 0.4993 - main_out_loss: 0.4880 - aux_out1_dice_value: 0.9863 - aux_out2_dice_value: 0.9819 - main_out_dice_value: 0.9937 - val_loss: 0.6052 - val_aux_out1_loss: 0.4972 - val_aux_out2_loss: 0.5007 - val_main_out_loss: 0.4807 - val_aux_out1_dice_value: 0.9867 - val_aux_out2_dice_value: 0.9815 - val_main_out_dice_value: 0.9957\n",
      "Epoch 00009: early stopping\n",
      "\n",
      "Starting run \"unet-aux-(07|11)-2017-09-25-0012\"\n",
      "Epoch 1/150\n",
      "507/507 [==============================] - 52s - loss: 0.6227 - aux_out1_loss: 0.5442 - aux_out2_loss: 0.5992 - main_out_loss: 0.4839 - aux_out1_dice_value: 0.9634 - aux_out2_dice_value: 0.9233 - main_out_dice_value: 0.9937 - val_loss: 0.5951 - val_aux_out1_loss: 0.4931 - val_aux_out2_loss: 0.5396 - val_main_out_loss: 0.4695 - val_aux_out1_dice_value: 0.9847 - val_aux_out2_dice_value: 0.9554 - val_main_out_dice_value: 0.9960\n",
      "Epoch 2/150\n",
      "507/507 [==============================] - 51s - loss: 0.6062 - aux_out1_loss: 0.4948 - aux_out2_loss: 0.5223 - main_out_loss: 0.4812 - aux_out1_dice_value: 0.9854 - aux_out2_dice_value: 0.9668 - main_out_dice_value: 0.9940 - val_loss: 0.5935 - val_aux_out1_loss: 0.4897 - val_aux_out2_loss: 0.5248 - val_main_out_loss: 0.4693 - val_aux_out1_dice_value: 0.9861 - val_aux_out2_dice_value: 0.9638 - val_main_out_dice_value: 0.9961\n",
      "Epoch 3/150\n",
      "507/507 [==============================] - 50s - loss: 0.6067 - aux_out1_loss: 0.4948 - aux_out2_loss: 0.5131 - main_out_loss: 0.4821 - aux_out1_dice_value: 0.9860 - aux_out2_dice_value: 0.9726 - main_out_dice_value: 0.9942 - val_loss: 0.5928 - val_aux_out1_loss: 0.4886 - val_aux_out2_loss: 0.5144 - val_main_out_loss: 0.4694 - val_aux_out1_dice_value: 0.9866 - val_aux_out2_dice_value: 0.9698 - val_main_out_dice_value: 0.9961\n",
      "Epoch 4/150\n",
      "507/507 [==============================] - 51s - loss: 0.6042 - aux_out1_loss: 0.4918 - aux_out2_loss: 0.5050 - main_out_loss: 0.4806 - aux_out1_dice_value: 0.9865 - aux_out2_dice_value: 0.9762 - main_out_dice_value: 0.9941 - val_loss: 0.5922 - val_aux_out1_loss: 0.4878 - val_aux_out2_loss: 0.5070 - val_main_out_loss: 0.4693 - val_aux_out1_dice_value: 0.9869 - val_aux_out2_dice_value: 0.9739 - val_main_out_dice_value: 0.9961\n",
      "Epoch 5/150\n",
      "507/507 [==============================] - 50s - loss: 0.6030 - aux_out1_loss: 0.4910 - aux_out2_loss: 0.5010 - main_out_loss: 0.4797 - aux_out1_dice_value: 0.9868 - aux_out2_dice_value: 0.9783 - main_out_dice_value: 0.9943 - val_loss: 0.5917 - val_aux_out1_loss: 0.4873 - val_aux_out2_loss: 0.5024 - val_main_out_loss: 0.4691 - val_aux_out1_dice_value: 0.9871 - val_aux_out2_dice_value: 0.9765 - val_main_out_dice_value: 0.9961\n",
      "Epoch 6/150\n",
      "506/507 [============================>.] - ETA: 0s - loss: 0.6032 - aux_out1_loss: 0.4908 - aux_out2_loss: 0.4979 - main_out_loss: 0.4801 - aux_out1_dice_value: 0.9870 - aux_out2_dice_value: 0.9801 - main_out_dice_value: 0.9943\n",
      "Epoch 00005: reducing learning rate to 9.999999747378752e-06.\n"
     ]
    },
    {
     "name": "stdout",
     "output_type": "stream",
     "text": [
      "507/507 [==============================] - 50s - loss: 0.6031 - aux_out1_loss: 0.4907 - aux_out2_loss: 0.4978 - main_out_loss: 0.4800 - aux_out1_dice_value: 0.9870 - aux_out2_dice_value: 0.9801 - main_out_dice_value: 0.9943 - val_loss: 0.5917 - val_aux_out1_loss: 0.4871 - val_aux_out2_loss: 0.4995 - val_main_out_loss: 0.4693 - val_aux_out1_dice_value: 0.9872 - val_aux_out2_dice_value: 0.9782 - val_main_out_dice_value: 0.9961\n",
      "Epoch 7/150\n",
      "507/507 [==============================] - 50s - loss: 0.6031 - aux_out1_loss: 0.4903 - aux_out2_loss: 0.4959 - main_out_loss: 0.4802 - aux_out1_dice_value: 0.9871 - aux_out2_dice_value: 0.9811 - main_out_dice_value: 0.9942 - val_loss: 0.5912 - val_aux_out1_loss: 0.4868 - val_aux_out2_loss: 0.4976 - val_main_out_loss: 0.4690 - val_aux_out1_dice_value: 0.9873 - val_aux_out2_dice_value: 0.9791 - val_main_out_dice_value: 0.9962\n",
      "Epoch 8/150\n",
      "507/507 [==============================] - 50s - loss: 0.6023 - aux_out1_loss: 0.4903 - aux_out2_loss: 0.4953 - main_out_loss: 0.4795 - aux_out1_dice_value: 0.9872 - aux_out2_dice_value: 0.9817 - main_out_dice_value: 0.9945 - val_loss: 0.5912 - val_aux_out1_loss: 0.4867 - val_aux_out2_loss: 0.4971 - val_main_out_loss: 0.4690 - val_aux_out1_dice_value: 0.9873 - val_aux_out2_dice_value: 0.9793 - val_main_out_dice_value: 0.9962\n",
      "Epoch 9/150\n",
      "507/507 [==============================] - 50s - loss: 0.6021 - aux_out1_loss: 0.4899 - aux_out2_loss: 0.4943 - main_out_loss: 0.4794 - aux_out1_dice_value: 0.9872 - aux_out2_dice_value: 0.9820 - main_out_dice_value: 0.9945 - val_loss: 0.5911 - val_aux_out1_loss: 0.4867 - val_aux_out2_loss: 0.4964 - val_main_out_loss: 0.4689 - val_aux_out1_dice_value: 0.9874 - val_aux_out2_dice_value: 0.9797 - val_main_out_dice_value: 0.9962\n",
      "Epoch 10/150\n",
      "507/507 [==============================] - 50s - loss: 0.6035 - aux_out1_loss: 0.4909 - aux_out2_loss: 0.4951 - main_out_loss: 0.4806 - aux_out1_dice_value: 0.9872 - aux_out2_dice_value: 0.9820 - main_out_dice_value: 0.9944 - val_loss: 0.5910 - val_aux_out1_loss: 0.4866 - val_aux_out2_loss: 0.4962 - val_main_out_loss: 0.4689 - val_aux_out1_dice_value: 0.9874 - val_aux_out2_dice_value: 0.9798 - val_main_out_dice_value: 0.9962\n",
      "Epoch 11/150\n",
      "507/507 [==============================] - 50s - loss: 0.6042 - aux_out1_loss: 0.4913 - aux_out2_loss: 0.4954 - main_out_loss: 0.4811 - aux_out1_dice_value: 0.9872 - aux_out2_dice_value: 0.9821 - main_out_dice_value: 0.9943 - val_loss: 0.5910 - val_aux_out1_loss: 0.4865 - val_aux_out2_loss: 0.4956 - val_main_out_loss: 0.4689 - val_aux_out1_dice_value: 0.9874 - val_aux_out2_dice_value: 0.9801 - val_main_out_dice_value: 0.9962\n",
      "Epoch 12/150\n",
      "506/507 [============================>.] - ETA: 0s - loss: 0.6029 - aux_out1_loss: 0.4910 - aux_out2_loss: 0.4950 - main_out_loss: 0.4800 - aux_out1_dice_value: 0.9873 - aux_out2_dice_value: 0.9823 - main_out_dice_value: 0.9946\n",
      "Epoch 00011: reducing learning rate to 9.999999747378752e-07.\n",
      "507/507 [==============================] - 49s - loss: 0.6028 - aux_out1_loss: 0.4909 - aux_out2_loss: 0.4949 - main_out_loss: 0.4799 - aux_out1_dice_value: 0.9873 - aux_out2_dice_value: 0.9823 - main_out_dice_value: 0.9946 - val_loss: 0.5910 - val_aux_out1_loss: 0.4865 - val_aux_out2_loss: 0.4953 - val_main_out_loss: 0.4689 - val_aux_out1_dice_value: 0.9874 - val_aux_out2_dice_value: 0.9803 - val_main_out_dice_value: 0.9962\n",
      "Epoch 13/150\n",
      "507/507 [==============================] - 49s - loss: 0.6030 - aux_out1_loss: 0.4910 - aux_out2_loss: 0.4943 - main_out_loss: 0.4801 - aux_out1_dice_value: 0.9873 - aux_out2_dice_value: 0.9826 - main_out_dice_value: 0.9946 - val_loss: 0.5910 - val_aux_out1_loss: 0.4865 - val_aux_out2_loss: 0.4951 - val_main_out_loss: 0.4689 - val_aux_out1_dice_value: 0.9874 - val_aux_out2_dice_value: 0.9804 - val_main_out_dice_value: 0.9962\n",
      "Epoch 14/150\n",
      "507/507 [==============================] - 49s - loss: 0.6010 - aux_out1_loss: 0.4893 - aux_out2_loss: 0.4931 - main_out_loss: 0.4784 - aux_out1_dice_value: 0.9874 - aux_out2_dice_value: 0.9825 - main_out_dice_value: 0.9946 - val_loss: 0.5910 - val_aux_out1_loss: 0.4865 - val_aux_out2_loss: 0.4951 - val_main_out_loss: 0.4689 - val_aux_out1_dice_value: 0.9874 - val_aux_out2_dice_value: 0.9804 - val_main_out_dice_value: 0.9962\n",
      "Epoch 15/150\n",
      "507/507 [==============================] - 49s - loss: 0.6034 - aux_out1_loss: 0.4902 - aux_out2_loss: 0.4942 - main_out_loss: 0.4806 - aux_out1_dice_value: 0.9873 - aux_out2_dice_value: 0.9822 - main_out_dice_value: 0.9942 - val_loss: 0.5910 - val_aux_out1_loss: 0.4865 - val_aux_out2_loss: 0.4949 - val_main_out_loss: 0.4689 - val_aux_out1_dice_value: 0.9874 - val_aux_out2_dice_value: 0.9805 - val_main_out_dice_value: 0.9962\n",
      "Epoch 16/150\n",
      "506/507 [============================>.] - ETA: 0s - loss: 0.6016 - aux_out1_loss: 0.4898 - aux_out2_loss: 0.4935 - main_out_loss: 0.4790 - aux_out1_dice_value: 0.9873 - aux_out2_dice_value: 0.9824 - main_out_dice_value: 0.9945\n",
      "Epoch 00015: reducing learning rate to 9.999999974752428e-08.\n",
      "507/507 [==============================] - 51s - loss: 0.6016 - aux_out1_loss: 0.4897 - aux_out2_loss: 0.4935 - main_out_loss: 0.4790 - aux_out1_dice_value: 0.9873 - aux_out2_dice_value: 0.9824 - main_out_dice_value: 0.9945 - val_loss: 0.5909 - val_aux_out1_loss: 0.4865 - val_aux_out2_loss: 0.4950 - val_main_out_loss: 0.4689 - val_aux_out1_dice_value: 0.9874 - val_aux_out2_dice_value: 0.9805 - val_main_out_dice_value: 0.9962\n",
      "Epoch 00015: early stopping\n",
      "\n",
      "Starting run \"unet-aux-(08|10)-2017-09-25-0027\"\n",
      "Epoch 1/150\n",
      "511/511 [==============================] - 56s - loss: 0.5900 - aux_out1_loss: 0.5182 - aux_out2_loss: 0.5734 - main_out_loss: 0.4577 - aux_out1_dice_value: 0.9645 - aux_out2_dice_value: 0.9277 - main_out_dice_value: 0.9938 - val_loss: 0.5718 - val_aux_out1_loss: 0.4712 - val_aux_out2_loss: 0.5216 - val_main_out_loss: 0.4515 - val_aux_out1_dice_value: 0.9856 - val_aux_out2_dice_value: 0.9564 - val_main_out_dice_value: 0.9958\n",
      "Epoch 2/150\n",
      "511/511 [==============================] - 53s - loss: 0.5790 - aux_out1_loss: 0.4722 - aux_out2_loss: 0.5020 - main_out_loss: 0.4594 - aux_out1_dice_value: 0.9856 - aux_out2_dice_value: 0.9676 - main_out_dice_value: 0.9941 - val_loss: 0.5701 - val_aux_out1_loss: 0.4674 - val_aux_out2_loss: 0.5046 - val_main_out_loss: 0.4514 - val_aux_out1_dice_value: 0.9872 - val_aux_out2_dice_value: 0.9658 - val_main_out_dice_value: 0.9958\n",
      "Epoch 3/150\n",
      "511/511 [==============================] - 53s - loss: 0.5788 - aux_out1_loss: 0.4710 - aux_out2_loss: 0.4923 - main_out_loss: 0.4600 - aux_out1_dice_value: 0.9864 - aux_out2_dice_value: 0.9728 - main_out_dice_value: 0.9941 - val_loss: 0.5696 - val_aux_out1_loss: 0.4667 - val_aux_out2_loss: 0.4980 - val_main_out_loss: 0.4514 - val_aux_out1_dice_value: 0.9874 - val_aux_out2_dice_value: 0.9696 - val_main_out_dice_value: 0.9958\n",
      "Epoch 4/150\n",
      "511/511 [==============================] - 53s - loss: 0.5760 - aux_out1_loss: 0.4685 - aux_out2_loss: 0.4859 - main_out_loss: 0.4580 - aux_out1_dice_value: 0.9871 - aux_out2_dice_value: 0.9759 - main_out_dice_value: 0.9945 - val_loss: 0.5687 - val_aux_out1_loss: 0.4655 - val_aux_out2_loss: 0.4885 - val_main_out_loss: 0.4512 - val_aux_out1_dice_value: 0.9879 - val_aux_out2_dice_value: 0.9742 - val_main_out_dice_value: 0.9959\n",
      "Epoch 5/150\n",
      "511/511 [==============================] - 52s - loss: 0.5736 - aux_out1_loss: 0.4664 - aux_out2_loss: 0.4804 - main_out_loss: 0.4563 - aux_out1_dice_value: 0.9874 - aux_out2_dice_value: 0.9782 - main_out_dice_value: 0.9946 - val_loss: 0.5686 - val_aux_out1_loss: 0.4653 - val_aux_out2_loss: 0.4857 - val_main_out_loss: 0.4513 - val_aux_out1_dice_value: 0.9880 - val_aux_out2_dice_value: 0.9756 - val_main_out_dice_value: 0.9959\n",
      "Epoch 6/150\n",
      "510/511 [============================>.] - ETA: 0s - loss: 0.5752 - aux_out1_loss: 0.4667 - aux_out2_loss: 0.4786 - main_out_loss: 0.4580 - aux_out1_dice_value: 0.9875 - aux_out2_dice_value: 0.9793 - main_out_dice_value: 0.9943\n",
      "Epoch 00005: reducing learning rate to 9.999999747378752e-06.\n",
      "511/511 [==============================] - 53s - loss: 0.5752 - aux_out1_loss: 0.4667 - aux_out2_loss: 0.4786 - main_out_loss: 0.4580 - aux_out1_dice_value: 0.9875 - aux_out2_dice_value: 0.9793 - main_out_dice_value: 0.9943 - val_loss: 0.5686 - val_aux_out1_loss: 0.4649 - val_aux_out2_loss: 0.4813 - val_main_out_loss: 0.4515 - val_aux_out1_dice_value: 0.9881 - val_aux_out2_dice_value: 0.9781 - val_main_out_dice_value: 0.9958\n",
      "Epoch 7/150\n",
      "511/511 [==============================] - 52s - loss: 0.5758 - aux_out1_loss: 0.4671 - aux_out2_loss: 0.4765 - main_out_loss: 0.4586 - aux_out1_dice_value: 0.9875 - aux_out2_dice_value: 0.9807 - main_out_dice_value: 0.9941 - val_loss: 0.5679 - val_aux_out1_loss: 0.4644 - val_aux_out2_loss: 0.4802 - val_main_out_loss: 0.4510 - val_aux_out1_dice_value: 0.9883 - val_aux_out2_dice_value: 0.9787 - val_main_out_dice_value: 0.9959\n",
      "Epoch 8/150\n",
      "511/511 [==============================] - 52s - loss: 0.5759 - aux_out1_loss: 0.4674 - aux_out2_loss: 0.4768 - main_out_loss: 0.4586 - aux_out1_dice_value: 0.9876 - aux_out2_dice_value: 0.9806 - main_out_dice_value: 0.9944 - val_loss: 0.5679 - val_aux_out1_loss: 0.4644 - val_aux_out2_loss: 0.4794 - val_main_out_loss: 0.4510 - val_aux_out1_dice_value: 0.9883 - val_aux_out2_dice_value: 0.9790 - val_main_out_dice_value: 0.9959\n",
      "Epoch 9/150\n",
      "511/511 [==============================] - 52s - loss: 0.5758 - aux_out1_loss: 0.4673 - aux_out2_loss: 0.4765 - main_out_loss: 0.4585 - aux_out1_dice_value: 0.9877 - aux_out2_dice_value: 0.9809 - main_out_dice_value: 0.9945 - val_loss: 0.5679 - val_aux_out1_loss: 0.4644 - val_aux_out2_loss: 0.4790 - val_main_out_loss: 0.4510 - val_aux_out1_dice_value: 0.9883 - val_aux_out2_dice_value: 0.9792 - val_main_out_dice_value: 0.9959\n",
      "Epoch 10/150\n",
      "511/511 [==============================] - 52s - loss: 0.5738 - aux_out1_loss: 0.4656 - aux_out2_loss: 0.4750 - main_out_loss: 0.4569 - aux_out1_dice_value: 0.9878 - aux_out2_dice_value: 0.9809 - main_out_dice_value: 0.9944 - val_loss: 0.5678 - val_aux_out1_loss: 0.4644 - val_aux_out2_loss: 0.4785 - val_main_out_loss: 0.4510 - val_aux_out1_dice_value: 0.9883 - val_aux_out2_dice_value: 0.9795 - val_main_out_dice_value: 0.9959\n",
      "Epoch 11/150\n",
      "511/511 [==============================] - 52s - loss: 0.5772 - aux_out1_loss: 0.4685 - aux_out2_loss: 0.4773 - main_out_loss: 0.4596 - aux_out1_dice_value: 0.9877 - aux_out2_dice_value: 0.9811 - main_out_dice_value: 0.9945 - val_loss: 0.5678 - val_aux_out1_loss: 0.4644 - val_aux_out2_loss: 0.4785 - val_main_out_loss: 0.4510 - val_aux_out1_dice_value: 0.9883 - val_aux_out2_dice_value: 0.9795 - val_main_out_dice_value: 0.9959\n",
      "Epoch 12/150\n",
      "510/511 [============================>.] - ETA: 0s - loss: 0.5733 - aux_out1_loss: 0.4651 - aux_out2_loss: 0.4742 - main_out_loss: 0.4566 - aux_out1_dice_value: 0.9878 - aux_out2_dice_value: 0.9812 - main_out_dice_value: 0.9945\n",
      "Epoch 00011: reducing learning rate to 9.999999747378752e-07.\n",
      "511/511 [==============================] - 53s - loss: 0.5733 - aux_out1_loss: 0.4651 - aux_out2_loss: 0.4742 - main_out_loss: 0.4566 - aux_out1_dice_value: 0.9878 - aux_out2_dice_value: 0.9812 - main_out_dice_value: 0.9945 - val_loss: 0.5677 - val_aux_out1_loss: 0.4642 - val_aux_out2_loss: 0.4782 - val_main_out_loss: 0.4509 - val_aux_out1_dice_value: 0.9884 - val_aux_out2_dice_value: 0.9797 - val_main_out_dice_value: 0.9959\n",
      "Epoch 13/150\n",
      "511/511 [==============================] - 52s - loss: 0.5741 - aux_out1_loss: 0.4660 - aux_out2_loss: 0.4748 - main_out_loss: 0.4571 - aux_out1_dice_value: 0.9878 - aux_out2_dice_value: 0.9814 - main_out_dice_value: 0.9945 - val_loss: 0.5677 - val_aux_out1_loss: 0.4642 - val_aux_out2_loss: 0.4782 - val_main_out_loss: 0.4510 - val_aux_out1_dice_value: 0.9884 - val_aux_out2_dice_value: 0.9797 - val_main_out_dice_value: 0.9959\n",
      "Epoch 14/150\n",
      "511/511 [==============================] - 53s - loss: 0.5738 - aux_out1_loss: 0.4663 - aux_out2_loss: 0.4748 - main_out_loss: 0.4568 - aux_out1_dice_value: 0.9880 - aux_out2_dice_value: 0.9816 - main_out_dice_value: 0.9947 - val_loss: 0.5677 - val_aux_out1_loss: 0.4642 - val_aux_out2_loss: 0.4782 - val_main_out_loss: 0.4509 - val_aux_out1_dice_value: 0.9884 - val_aux_out2_dice_value: 0.9797 - val_main_out_dice_value: 0.9959\n",
      "Epoch 15/150\n",
      "511/511 [==============================] - 53s - loss: 0.5740 - aux_out1_loss: 0.4662 - aux_out2_loss: 0.4748 - main_out_loss: 0.4570 - aux_out1_dice_value: 0.9880 - aux_out2_dice_value: 0.9816 - main_out_dice_value: 0.9947 - val_loss: 0.5677 - val_aux_out1_loss: 0.4642 - val_aux_out2_loss: 0.4780 - val_main_out_loss: 0.4509 - val_aux_out1_dice_value: 0.9884 - val_aux_out2_dice_value: 0.9798 - val_main_out_dice_value: 0.9959\n",
      "Epoch 16/150\n",
      "510/511 [============================>.] - ETA: 0s - loss: 0.5730 - aux_out1_loss: 0.4652 - aux_out2_loss: 0.4742 - main_out_loss: 0.4562 - aux_out1_dice_value: 0.9879 - aux_out2_dice_value: 0.9813 - main_out_dice_value: 0.9946\n",
      "Epoch 00015: reducing learning rate to 9.999999974752428e-08.\n",
      "511/511 [==============================] - 52s - loss: 0.5729 - aux_out1_loss: 0.4652 - aux_out2_loss: 0.4742 - main_out_loss: 0.4562 - aux_out1_dice_value: 0.9879 - aux_out2_dice_value: 0.9814 - main_out_dice_value: 0.9946 - val_loss: 0.5677 - val_aux_out1_loss: 0.4643 - val_aux_out2_loss: 0.4782 - val_main_out_loss: 0.4509 - val_aux_out1_dice_value: 0.9884 - val_aux_out2_dice_value: 0.9797 - val_main_out_dice_value: 0.9959\n",
      "Epoch 00015: early stopping\n",
      "\n",
      "Starting run \"unet-aux-(09)-2017-09-25-0041\"\n",
      "Epoch 1/150\n",
      "247/247 [==============================] - 27s - loss: 0.5791 - aux_out1_loss: 0.5489 - aux_out2_loss: 0.6118 - main_out_loss: 0.4387 - aux_out1_dice_value: 0.9431 - aux_out2_dice_value: 0.8995 - main_out_dice_value: 0.9921 - val_loss: 0.5434 - val_aux_out1_loss: 0.4610 - val_aux_out2_loss: 0.5256 - val_main_out_loss: 0.4249 - val_aux_out1_dice_value: 0.9796 - val_aux_out2_dice_value: 0.9460 - val_main_out_dice_value: 0.9955\n",
      "Epoch 2/150\n",
      "247/247 [==============================] - 24s - loss: 0.5512 - aux_out1_loss: 0.4531 - aux_out2_loss: 0.4985 - main_out_loss: 0.4357 - aux_out1_dice_value: 0.9834 - aux_out2_dice_value: 0.9596 - main_out_dice_value: 0.9935 - val_loss: 0.5399 - val_aux_out1_loss: 0.4486 - val_aux_out2_loss: 0.5044 - val_main_out_loss: 0.4250 - val_aux_out1_dice_value: 0.9844 - val_aux_out2_dice_value: 0.9562 - val_main_out_dice_value: 0.9955\n",
      "Epoch 3/150\n",
      "247/247 [==============================] - 24s - loss: 0.5516 - aux_out1_loss: 0.4512 - aux_out2_loss: 0.4886 - main_out_loss: 0.4369 - aux_out1_dice_value: 0.9844 - aux_out2_dice_value: 0.9649 - main_out_dice_value: 0.9932 - val_loss: 0.5409 - val_aux_out1_loss: 0.4476 - val_aux_out2_loss: 0.4978 - val_main_out_loss: 0.4265 - val_aux_out1_dice_value: 0.9849 - val_aux_out2_dice_value: 0.9595 - val_main_out_dice_value: 0.9951\n",
      "Epoch 4/150\n",
      "247/247 [==============================] - 25s - loss: 0.5507 - aux_out1_loss: 0.4504 - aux_out2_loss: 0.4815 - main_out_loss: 0.4365 - aux_out1_dice_value: 0.9850 - aux_out2_dice_value: 0.9684 - main_out_dice_value: 0.9936 - val_loss: 0.5378 - val_aux_out1_loss: 0.4435 - val_aux_out2_loss: 0.4868 - val_main_out_loss: 0.4248 - val_aux_out1_dice_value: 0.9863 - val_aux_out2_dice_value: 0.9647 - val_main_out_dice_value: 0.9955\n",
      "Epoch 5/150\n",
      "247/247 [==============================] - 26s - loss: 0.5524 - aux_out1_loss: 0.4503 - aux_out2_loss: 0.4787 - main_out_loss: 0.4384 - aux_out1_dice_value: 0.9854 - aux_out2_dice_value: 0.9701 - main_out_dice_value: 0.9932 - val_loss: 0.5368 - val_aux_out1_loss: 0.4420 - val_aux_out2_loss: 0.4843 - val_main_out_loss: 0.4242 - val_aux_out1_dice_value: 0.9869 - val_aux_out2_dice_value: 0.9666 - val_main_out_dice_value: 0.9956\n",
      "Epoch 6/150\n",
      "247/247 [==============================] - 24s - loss: 0.5477 - aux_out1_loss: 0.4461 - aux_out2_loss: 0.4713 - main_out_loss: 0.4349 - aux_out1_dice_value: 0.9859 - aux_out2_dice_value: 0.9727 - main_out_dice_value: 0.9935 - val_loss: 0.5368 - val_aux_out1_loss: 0.4418 - val_aux_out2_loss: 0.4788 - val_main_out_loss: 0.4245 - val_aux_out1_dice_value: 0.9869 - val_aux_out2_dice_value: 0.9685 - val_main_out_dice_value: 0.9956\n",
      "Epoch 7/150\n"
     ]
    },
    {
     "name": "stdout",
     "output_type": "stream",
     "text": [
      "247/247 [==============================] - 24s - loss: 0.5497 - aux_out1_loss: 0.4482 - aux_out2_loss: 0.4698 - main_out_loss: 0.4366 - aux_out1_dice_value: 0.9863 - aux_out2_dice_value: 0.9746 - main_out_dice_value: 0.9939 - val_loss: 0.5368 - val_aux_out1_loss: 0.4422 - val_aux_out2_loss: 0.4801 - val_main_out_loss: 0.4244 - val_aux_out1_dice_value: 0.9868 - val_aux_out2_dice_value: 0.9681 - val_main_out_dice_value: 0.9956\n",
      "Epoch 8/150\n",
      "247/247 [==============================] - 24s - loss: 0.5523 - aux_out1_loss: 0.4493 - aux_out2_loss: 0.4702 - main_out_loss: 0.4389 - aux_out1_dice_value: 0.9864 - aux_out2_dice_value: 0.9751 - main_out_dice_value: 0.9938 - val_loss: 0.5361 - val_aux_out1_loss: 0.4410 - val_aux_out2_loss: 0.4757 - val_main_out_loss: 0.4241 - val_aux_out1_dice_value: 0.9873 - val_aux_out2_dice_value: 0.9701 - val_main_out_dice_value: 0.9957\n",
      "Epoch 9/150\n",
      "247/247 [==============================] - 24s - loss: 0.5477 - aux_out1_loss: 0.4461 - aux_out2_loss: 0.4654 - main_out_loss: 0.4352 - aux_out1_dice_value: 0.9869 - aux_out2_dice_value: 0.9765 - main_out_dice_value: 0.9942 - val_loss: 0.5365 - val_aux_out1_loss: 0.4407 - val_aux_out2_loss: 0.4728 - val_main_out_loss: 0.4247 - val_aux_out1_dice_value: 0.9874 - val_aux_out2_dice_value: 0.9718 - val_main_out_dice_value: 0.9955\n",
      "Epoch 10/150\n",
      "246/247 [============================>.] - ETA: 0s - loss: 0.5565 - aux_out1_loss: 0.4520 - aux_out2_loss: 0.4702 - main_out_loss: 0.4426 - aux_out1_dice_value: 0.9866 - aux_out2_dice_value: 0.9765 - main_out_dice_value: 0.9937\n",
      "Epoch 00009: reducing learning rate to 9.999999747378752e-06.\n",
      "247/247 [==============================] - 24s - loss: 0.5565 - aux_out1_loss: 0.4520 - aux_out2_loss: 0.4702 - main_out_loss: 0.4426 - aux_out1_dice_value: 0.9866 - aux_out2_dice_value: 0.9765 - main_out_dice_value: 0.9937 - val_loss: 0.5361 - val_aux_out1_loss: 0.4402 - val_aux_out2_loss: 0.4714 - val_main_out_loss: 0.4245 - val_aux_out1_dice_value: 0.9876 - val_aux_out2_dice_value: 0.9724 - val_main_out_dice_value: 0.9956\n",
      "Epoch 11/150\n",
      "247/247 [==============================] - 24s - loss: 0.5469 - aux_out1_loss: 0.4454 - aux_out2_loss: 0.4627 - main_out_loss: 0.4347 - aux_out1_dice_value: 0.9870 - aux_out2_dice_value: 0.9779 - main_out_dice_value: 0.9942 - val_loss: 0.5357 - val_aux_out1_loss: 0.4399 - val_aux_out2_loss: 0.4708 - val_main_out_loss: 0.4241 - val_aux_out1_dice_value: 0.9877 - val_aux_out2_dice_value: 0.9728 - val_main_out_dice_value: 0.9957\n",
      "Epoch 12/150\n",
      "247/247 [==============================] - 24s - loss: 0.5454 - aux_out1_loss: 0.4435 - aux_out2_loss: 0.4615 - main_out_loss: 0.4336 - aux_out1_dice_value: 0.9871 - aux_out2_dice_value: 0.9777 - main_out_dice_value: 0.9941 - val_loss: 0.5356 - val_aux_out1_loss: 0.4400 - val_aux_out2_loss: 0.4707 - val_main_out_loss: 0.4241 - val_aux_out1_dice_value: 0.9876 - val_aux_out2_dice_value: 0.9727 - val_main_out_dice_value: 0.9957\n",
      "Epoch 13/150\n",
      "247/247 [==============================] - 24s - loss: 0.5468 - aux_out1_loss: 0.4453 - aux_out2_loss: 0.4614 - main_out_loss: 0.4347 - aux_out1_dice_value: 0.9873 - aux_out2_dice_value: 0.9786 - main_out_dice_value: 0.9943 - val_loss: 0.5357 - val_aux_out1_loss: 0.4399 - val_aux_out2_loss: 0.4706 - val_main_out_loss: 0.4241 - val_aux_out1_dice_value: 0.9876 - val_aux_out2_dice_value: 0.9728 - val_main_out_dice_value: 0.9957\n",
      "Epoch 14/150\n",
      "246/247 [============================>.] - ETA: 0s - loss: 0.5495 - aux_out1_loss: 0.4471 - aux_out2_loss: 0.4640 - main_out_loss: 0.4369 - aux_out1_dice_value: 0.9872 - aux_out2_dice_value: 0.9782 - main_out_dice_value: 0.9943\n",
      "Epoch 00013: reducing learning rate to 9.999999747378752e-07.\n",
      "247/247 [==============================] - 24s - loss: 0.5495 - aux_out1_loss: 0.4471 - aux_out2_loss: 0.4640 - main_out_loss: 0.4369 - aux_out1_dice_value: 0.9872 - aux_out2_dice_value: 0.9782 - main_out_dice_value: 0.9943 - val_loss: 0.5357 - val_aux_out1_loss: 0.4399 - val_aux_out2_loss: 0.4706 - val_main_out_loss: 0.4242 - val_aux_out1_dice_value: 0.9877 - val_aux_out2_dice_value: 0.9728 - val_main_out_dice_value: 0.9957\n",
      "Epoch 00013: early stopping\n",
      "\n"
     ]
    }
   ],
   "source": [
    "epochs = 150\n",
    "batch_size = 1\n",
    "auxiliaries = [False, True, True, False]\n",
    "outputs = {'aux_out1':2**-1, 'aux_out2':2**-2, 'main_out':1}\n",
    "weights = {'aux_out1':0.2, 'aux_out2':0.05, 'main_out':1.}\n",
    "\n",
    "for group in groups:\n",
    "    model = UNet_Aux((input_size, input_size, 3), filters=64, depth=4, dropout_base_only=False, dropout=0,\n",
    "             activation=lambda x: PReLU()(x), init='he_uniform', auxiliaries=auxiliaries)\n",
    "    model.compile(optimizer=AdamAccumulate(accum_iters=32),\n",
    "                  loss=weighted_bce_dice_loss, metrics=[dice_value], loss_weights=weights)\n",
    "    run_name = utils.get_run_name('weights/{}.hdf5', 'unet-aux-({})'.format(group))\n",
    "    weights_path = 'weights/{}.hdf5'.format(run_name)\n",
    "\n",
    "    callbacks = [EarlyStopping(monitor='val_main_out_dice_value',\n",
    "                               patience=8,\n",
    "                               verbose=1,\n",
    "                               min_delta=1e-4,\n",
    "                               mode='max'),\n",
    "                 ReduceLROnPlateau(monitor='val_main_out_dice_value',\n",
    "                                   factor=0.1,\n",
    "                                   patience=4,\n",
    "                                   verbose=1,\n",
    "                                   epsilon=1e-4,\n",
    "                                   mode='max'),\n",
    "                 ModelCheckpoint(monitor='val_main_out_dice_value',\n",
    "                                 filepath=weights_path,\n",
    "                                 save_best_only=True,\n",
    "                                 save_weights_only=True,\n",
    "                                 mode='max'),\n",
    "                 TensorBoard(log_dir='logs/{}'.format(run_name), batch_size=batch_size)]\n",
    "\n",
    "    model.load_weights('weights/unet-aux-128-base.hdf5')\n",
    "    K.set_value(model.optimizer.lr, 1e-4)\n",
    "\n",
    "    print('Starting run \"{}\"'.format(run_name))\n",
    "    model.fit_generator(generator=train_generator(batch_size, group, outputs),\n",
    "                        steps_per_epoch=np.ceil(float(len(ids_train_splits[group])) / float(batch_size)),\n",
    "                        epochs=epochs,\n",
    "                        verbose=1,\n",
    "                        callbacks=callbacks,\n",
    "                        validation_data=valid_generator(batch_size, group, outputs),\n",
    "                        validation_steps=np.ceil(float(len(ids_valid_splits[group])) / float(batch_size)))\n",
    "    print()\n",
    "    K.clear_session()\n",
    "    sess = tf.Session()\n",
    "    K.set_session(sess)"
   ]
  },
  {
   "cell_type": "markdown",
   "metadata": {
    "heading_collapsed": true
   },
   "source": [
    "## Mask Prediction"
   ]
  },
  {
   "cell_type": "code",
   "execution_count": null,
   "metadata": {
    "collapsed": true,
    "hidden": true
   },
   "outputs": [],
   "source": [
    "from PIL import Image\n",
    "import cv2\n",
    "from glob import glob"
   ]
  },
  {
   "cell_type": "code",
   "execution_count": null,
   "metadata": {
    "collapsed": true,
    "hidden": true
   },
   "outputs": [],
   "source": [
    "model.load_weights('weights/unet-2017-09-02-1809.hdf5')"
   ]
  },
  {
   "cell_type": "code",
   "execution_count": null,
   "metadata": {
    "collapsed": true,
    "hidden": true
   },
   "outputs": [],
   "source": [
    "imgs_names = glob('inputs/train/*.jpg')"
   ]
  },
  {
   "cell_type": "code",
   "execution_count": null,
   "metadata": {
    "collapsed": true,
    "hidden": true
   },
   "outputs": [],
   "source": [
    "num = 1\n",
    "input_size = 1024\n",
    "pred_mask_path = \"outputs/pred_train_masks/{}_mask.gif\"\n",
    "for i in range(len(imgs_names)):\n",
    "    im = cv2.imread(imgs_names[i])\n",
    "    im = cv2.resize(im, (input_size, input_size), interpolation=cv2.INTER_LINEAR)\n",
    "    im = np.expand_dims(im, axis=0)\n",
    "    im = np.array(im, np.float32) / 255\n",
    "    #print im.shape\n",
    "    pred_mask = model.predict(im, batch_size=1, verbose=2)\n",
    "    #print pred_mask.shape\n",
    "    pred_mask = np.squeeze(pred_mask, axis=[0, 3])\n",
    "    #print pred_mask.shape\n",
    "    pred_mask = cv2.resize(pred_mask, (1918, 1280), interpolation=cv2.INTER_LINEAR)\n",
    "    #print pred_mask.shape\n",
    "    pred_mask = (pred_mask > 0.95)\n",
    "    pred_mask = Image.fromarray((pred_mask * 255).astype(np.uint8), mode='L')\n",
    "    im_name = imgs_names[i].split('/')[-1]\n",
    "    im_id = im_name.split('.')[0]\n",
    "    pred_mask.save(pred_mask_path.format(im_id))\n",
    "    \n",
    "    if num%500==0:\n",
    "        print '{0}/{1}'.format(num, len(imgs_names))\n",
    "    num += 1"
   ]
  },
  {
   "cell_type": "code",
   "execution_count": null,
   "metadata": {
    "collapsed": true,
    "hidden": true
   },
   "outputs": [],
   "source": [
    "#val_imgs, _ = next(valid_generator(len(ids_valid_split)))\n",
    "train_imgs, _ = next(train_generator(len(ids_train_split[4000:])))"
   ]
  },
  {
   "cell_type": "code",
   "execution_count": null,
   "metadata": {
    "collapsed": true,
    "hidden": true
   },
   "outputs": [],
   "source": [
    "#print val_imgs.shape\n",
    "print train_imgs.shape"
   ]
  },
  {
   "cell_type": "code",
   "execution_count": null,
   "metadata": {
    "collapsed": true,
    "hidden": true
   },
   "outputs": [],
   "source": [
    "#val_pred_masks = model.predict(val_imgs, batch_size=16, verbose=1)\n",
    "train_pred_masks = model.predict(train_imgs, batch_size=16, verbose=1)"
   ]
  },
  {
   "cell_type": "code",
   "execution_count": null,
   "metadata": {
    "collapsed": true,
    "hidden": true
   },
   "outputs": [],
   "source": [
    "preds = np.squeeze(train_pred_masks, axis=3)\n",
    "np.shape(preds)"
   ]
  },
  {
   "cell_type": "code",
   "execution_count": null,
   "metadata": {
    "collapsed": true,
    "hidden": true
   },
   "outputs": [],
   "source": [
    "pred_mask_path = \"outputs/valid_masks/{}_mask.gif\""
   ]
  },
  {
   "cell_type": "code",
   "execution_count": null,
   "metadata": {
    "collapsed": true,
    "hidden": true
   },
   "outputs": [],
   "source": [
    "for i in range(train_imgs.shape[0]):\n",
    "    mask = preds[i]\n",
    "    mask = cv2.resize(mask, (1918, 1280), interpolation=cv2.INTER_LINEAR)\n",
    "    mask = (mask > 0.95)\n",
    "    mask = Image.fromarray((mask * 255).astype(np.uint8), mode='L')\n",
    "    mask.save(pred_mask_path.format(ids_valid_split.values[i]))"
   ]
  },
  {
   "cell_type": "markdown",
   "metadata": {
    "heading_collapsed": true
   },
   "source": [
    "## Validation"
   ]
  },
  {
   "cell_type": "code",
   "execution_count": null,
   "metadata": {
    "collapsed": true,
    "hidden": true
   },
   "outputs": [],
   "source": [
    "def np_dice_value(y_true, y_pred):\n",
    "    smooth = 1.\n",
    "    y_true_f = y_true.flatten()\n",
    "    y_pred_f = y_pred.flatten()\n",
    "    intersection = np.sum(y_true_f * y_pred_f)\n",
    "    return (2. * intersection + smooth) / (np.sum(y_true_f) + np.sum(y_pred_f) + smooth)"
   ]
  },
  {
   "cell_type": "markdown",
   "metadata": {
    "hidden": true
   },
   "source": [
    "### Prediction"
   ]
  },
  {
   "cell_type": "code",
   "execution_count": null,
   "metadata": {
    "collapsed": true,
    "hidden": true
   },
   "outputs": [],
   "source": [
    "run_name = 'unet-2017-09-03-1739'\n",
    "model.load_weights('weights/{}.hdf5'.format(run_name))\n",
    "\n",
    "val_imgs, val_masks = next(valid_generator(len(ids_valid_split)))\n",
    "val_imgs = np.array(val_imgs)\n",
    "val_masks = np.array(val_masks)\n",
    "val_pred_masks = model.predict(val_imgs, batch_size=1)\n",
    "masks_val_dices = [np_dice_value(mask, pred_mask) for (mask, pred_mask) in zip(val_masks, val_pred_masks)]"
   ]
  },
  {
   "cell_type": "markdown",
   "metadata": {
    "hidden": true
   },
   "source": [
    "### Display the worst predicted mask for validation examples"
   ]
  },
  {
   "cell_type": "code",
   "execution_count": null,
   "metadata": {
    "collapsed": true,
    "hidden": true
   },
   "outputs": [],
   "source": [
    "index = np.argsort(masks_val_dices)[7]\n",
    "id = ids_valid_split.values[index]\n",
    "utils.show_mask(train_path.format(id), val_masks[index].squeeze(), val_pred_masks[index].squeeze(), show_img=False)\n",
    "print id, masks_val_dices[index]"
   ]
  },
  {
   "cell_type": "code",
   "execution_count": null,
   "metadata": {
    "collapsed": true,
    "hidden": true
   },
   "outputs": [],
   "source": [
    "indices = np.argsort(masks_val_dices[masks_val_dices <= 99.6])\n",
    "for id in indices:\n",
    "        print(masks_val_dices[id])"
   ]
  },
  {
   "cell_type": "markdown",
   "metadata": {
    "hidden": true
   },
   "source": [
    "### Histogram"
   ]
  },
  {
   "cell_type": "code",
   "execution_count": null,
   "metadata": {
    "collapsed": true,
    "hidden": true
   },
   "outputs": [],
   "source": [
    "hist, bins = np.histogram(masks_val_dices, bins=50)\n",
    "width = 0.7 * (bins[1] - bins[0])\n",
    "center = (bins[:-1] + bins[1:]) / 2\n",
    "plt.bar(center, hist, align='center', width=width)\n",
    "plt.show()"
   ]
  },
  {
   "cell_type": "markdown",
   "metadata": {
    "hidden": true
   },
   "source": [
    "### Visualization"
   ]
  },
  {
   "cell_type": "code",
   "execution_count": null,
   "metadata": {
    "collapsed": true,
    "hidden": true
   },
   "outputs": [],
   "source": [
    "indices = np.random.randint(len(ids_valid_split), size=3)\n",
    "for index in indices:\n",
    "    id = ids_valid_split.values[index]\n",
    "    utils.show_mask(train_path.format(id), val_masks[index].squeeze(), val_pred_masks[index].squeeze(),\n",
    "                    show_img=True, bbox = bboxes[id])"
   ]
  },
  {
   "cell_type": "markdown",
   "metadata": {
    "heading_collapsed": true
   },
   "source": [
    "## Test"
   ]
  },
  {
   "cell_type": "markdown",
   "metadata": {
    "hidden": true
   },
   "source": [
    "### Load Model"
   ]
  },
  {
   "cell_type": "code",
   "execution_count": null,
   "metadata": {
    "collapsed": true,
    "hidden": true
   },
   "outputs": [],
   "source": [
    "# Create model first if required\n",
    "run_name = 'unet-2017-08-20-5'\n",
    "model.load_weights('weights/{}.hdf5'.format(run_name))"
   ]
  },
  {
   "cell_type": "markdown",
   "metadata": {
    "hidden": true
   },
   "source": [
    "### Generate Submit"
   ]
  },
  {
   "cell_type": "code",
   "execution_count": null,
   "metadata": {
    "collapsed": true,
    "hidden": true
   },
   "outputs": [],
   "source": [
    "batch_size = 16\n",
    "threshold = 0.5\n",
    "test_path = 'inputs/test1/' #'inputs/test/'\n",
    "test_masks_path = 'outputs/test1_masks/' #None\n",
    "generate_submit(model, input_size, batch_size, threshold, test_path, 'outputs/', run_name, test_masks_path)"
   ]
  },
  {
   "cell_type": "markdown",
   "metadata": {
    "hidden": true
   },
   "source": [
    "### Visualization"
   ]
  },
  {
   "cell_type": "code",
   "execution_count": null,
   "metadata": {
    "collapsed": true,
    "hidden": true
   },
   "outputs": [],
   "source": [
    "utils.show_test_masks(test_path, test_masks_path)"
   ]
  }
 ],
 "metadata": {
  "kernelspec": {
   "display_name": "Python 3",
   "language": "python",
   "name": "python3"
  },
  "language_info": {
   "codemirror_mode": {
    "name": "ipython",
    "version": 3
   },
   "file_extension": ".py",
   "mimetype": "text/x-python",
   "name": "python",
   "nbconvert_exporter": "python",
   "pygments_lexer": "ipython3",
   "version": "3.6.1"
  }
 },
 "nbformat": 4,
 "nbformat_minor": 2
}
