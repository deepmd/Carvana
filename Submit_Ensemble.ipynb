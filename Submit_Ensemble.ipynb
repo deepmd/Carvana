{
 "cells": [
  {
   "cell_type": "markdown",
   "metadata": {},
   "source": [
    "# Ensemble & Submit"
   ]
  },
  {
   "cell_type": "markdown",
   "metadata": {},
   "source": [
    "## Imports"
   ]
  },
  {
   "cell_type": "code",
   "execution_count": null,
   "metadata": {},
   "outputs": [],
   "source": [
    "from keras.optimizers import Adam\n",
    "from keras.layers.advanced_activations import PReLU\n",
    "import numpy as np\n",
    "import matplotlib.pyplot as plt\n",
    "from optimizers.AdamAccumulate import AdamAccumulate\n",
    "from models.u_net import UNet\n",
    "from models.u_net_heng import UNet_Heng\n",
    "from models.tiramisu import Tiramisu\n",
    "from submit import generate_submit\n",
    "from submit_ensemble import generate_submit_ensemble\n",
    "from submit_ensemble import ModelInfo\n",
    "import utils\n",
    "\n",
    "%load_ext autoreload\n",
    "%autoreload 2\n",
    "%matplotlib inline"
   ]
  },
  {
   "cell_type": "markdown",
   "metadata": {},
   "source": [
    "## Create & Load Models"
   ]
  },
  {
   "cell_type": "code",
   "execution_count": null,
   "metadata": {},
   "outputs": [],
   "source": [
    "models_info = []\n",
    "\n",
    "#model0 = UNet((1024, 1024, 3), filters=10, depth=4, activation=lambda x: PReLU()(x))\n",
    "#model0.compile(Adam(), loss='binary_crossentropy')\n",
    "#model0.load_weights('weights/unet-2017-09-01-1355.hdf5')\n",
    "#models_info.append(ModelInfo(lambda batch: model0.predict_on_batch(batch), 1024, True, 1))\n",
    "\n",
    "#model1 = UNet((1024, 1024, 3), filters=8, depth=7, activation=lambda x: PReLU()(x))\n",
    "#model1.compile(Adam(), loss='binary_crossentropy')\n",
    "#model1.load_weights('weights/unet-2017-09-02-1809.hdf5')\n",
    "#models_info.append(ModelInfo(lambda batch: model1.predict_on_batch(batch), 1024, False, 1))\n",
    "\n",
    "#model2 = UNet((1024, 1024, 3), filters=8, depth=7, activation=lambda x: PReLU()(x))\n",
    "#model2.compile(Adam(), loss='binary_crossentropy')\n",
    "#model2.load_weights('weights/unet-2017-09-03-1739.hdf5')\n",
    "#models_info.append(ModelInfo(lambda batch: model2.predict_on_batch(batch), 1024, True, 1))\n",
    "\n",
    "model3 = UNet_Heng((1024, 1024, 3))\n",
    "model3.compile(Adam(), loss='binary_crossentropy')\n",
    "model3.load_weights('weights/unet-heng-2017-09-16-0946.hdf5')\n",
    "models_info.append(ModelInfo(lambda batch: model3.predict_on_batch(batch), 1024, False, 1))"
   ]
  },
  {
   "cell_type": "markdown",
   "metadata": {},
   "source": [
    "## Load BBoxes"
   ]
  },
  {
   "cell_type": "code",
   "execution_count": null,
   "metadata": {},
   "outputs": [],
   "source": [
    "bbox_file_path = 'inputs/test_bbox.csv'\n",
    "bboxes = utils.get_bboxes(bbox_file_path)"
   ]
  },
  {
   "cell_type": "markdown",
   "metadata": {},
   "source": [
    "## Generate Submit"
   ]
  },
  {
   "cell_type": "code",
   "execution_count": null,
   "metadata": {},
   "outputs": [],
   "source": [
    "batch_size = 10\n",
    "threshold = 0.5\n",
    "augmentations = 0\n",
    "submit_name = 'submit-2017-09-20-1323'\n",
    "test_path = 'inputs/test/'\n",
    "test_masks_path = 'outputs/test_masks_2017-09-20-1323/'\n",
    "\n",
    "#generate_submit(model2, 1024, batch_size, threshold, test_path, 'outputs/',\n",
    "#                submit_name, test_masks_path, bboxes, q_size=20)\n",
    "\n",
    "generate_submit_ensemble(models_info, batch_size, threshold, test_path, 'outputs/',\n",
    "                         submit_name, augmentations, test_masks_path, bboxes=None, q_size=30)"
   ]
  },
  {
   "cell_type": "markdown",
   "metadata": {},
   "source": [
    "### Visualization"
   ]
  },
  {
   "cell_type": "code",
   "execution_count": null,
   "metadata": {},
   "outputs": [],
   "source": [
    "utils.show_test_masks(test_path, test_masks_path, 10)"
   ]
  }
 ],
 "metadata": {
  "kernelspec": {
   "display_name": "Python 3",
   "language": "python",
   "name": "python3"
  },
  "language_info": {
   "codemirror_mode": {
    "name": "ipython",
    "version": 3
   },
   "file_extension": ".py",
   "mimetype": "text/x-python",
   "name": "python",
   "nbconvert_exporter": "python",
   "pygments_lexer": "ipython3"
  }
 },
 "nbformat": 4,
 "nbformat_minor": 2
}
