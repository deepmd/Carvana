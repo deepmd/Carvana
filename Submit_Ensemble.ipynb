{
 "cells": [
  {
   "cell_type": "markdown",
   "metadata": {},
   "source": [
    "# Ensemble & Submit"
   ]
  },
  {
   "cell_type": "markdown",
   "metadata": {},
   "source": [
    "## Imports"
   ]
  },
  {
   "cell_type": "code",
   "execution_count": null,
   "metadata": {},
   "outputs": [],
   "source": [
    "from keras.optimizers import Adam\n",
    "from keras.layers.advanced_activations import PReLU\n",
    "import numpy as np\n",
    "import matplotlib.pyplot as plt\n",
    "from optimizers.AdamAccumulate import AdamAccumulate\n",
    "from models.u_net import UNet\n",
    "from models.tiramisu import Tiramisu\n",
    "from submit_ensemble import generate_submit_ensemble\n",
    "from submit_ensemble import ModelInfo\n",
    "import utils\n",
    "\n",
    "%load_ext autoreload\n",
    "%autoreload 2\n",
    "%matplotlib inline"
   ]
  },
  {
   "cell_type": "markdown",
   "metadata": {},
   "source": [
    "## Create & Load Models"
   ]
  },
  {
   "cell_type": "code",
   "execution_count": null,
   "metadata": {},
   "outputs": [],
   "source": [
    "models_info = []\n",
    "\n",
    "model0 = UNet((128, 128, 3), filters=64, depth=4, activation=lambda x: PReLU()(x))\n",
    "model0.compile(Adam(), loss='binary_crossentropy')\n",
    "model0.load_weights('weights/unet-2017-08-24-2258.hdf5')\n",
    "models_info.append(ModelInfo(lambda batch: model0.predict_on_batch(batch), 128, True, 0.5))\n",
    "\n",
    "model1 = UNet((1024, 1024, 3), filters=10, depth=4, activation=lambda x: PReLU()(x))\n",
    "model1.compile(Adam(), loss='binary_crossentropy')\n",
    "model1.load_weights('weights/unet-2017-09-01-1355.hdf5')\n",
    "models_info.append(ModelInfo(lambda batch: model1.predict_on_batch(batch), 1024, True, 1))"
   ]
  },
  {
   "cell_type": "markdown",
   "metadata": {},
   "source": [
    "## Load BBoxes"
   ]
  },
  {
   "cell_type": "code",
   "execution_count": null,
   "metadata": {},
   "outputs": [],
   "source": [
    "bbox_file_path = 'inputs/test_bbox1.csv'\n",
    "bboxes = utils.get_bboxes(bbox_file_path)"
   ]
  },
  {
   "cell_type": "markdown",
   "metadata": {},
   "source": [
    "## Generate Submit"
   ]
  },
  {
   "cell_type": "code",
   "execution_count": null,
   "metadata": {},
   "outputs": [],
   "source": [
    "batch_size = 16\n",
    "threshold = 0.5\n",
    "augmentations = 10\n",
    "submit_name = 'submit-2017-09-08-2229'\n",
    "test_path = 'inputs/test1/' #'inputs/test/'\n",
    "test_masks_path = 'outputs/test2_masks/' #None\n",
    "generate_submit_ensemble(models_info, batch_size, threshold, test_path, 'outputs/',\n",
    "                         submit_name, augmentations, test_masks_path, bboxes)"
   ]
  },
  {
   "cell_type": "markdown",
   "metadata": {},
   "source": [
    "### Visualization"
   ]
  },
  {
   "cell_type": "code",
   "execution_count": null,
   "metadata": {},
   "outputs": [],
   "source": [
    "utils.show_test_masks(test_path, test_masks_path)"
   ]
  }
 ],
 "metadata": {
  "kernelspec": {
   "display_name": "Python 3",
   "language": "python",
   "name": "python3"
  },
  "language_info": {
   "codemirror_mode": {
    "name": "ipython",
    "version": 3
   },
   "file_extension": ".py",
   "mimetype": "text/x-python",
   "name": "python",
   "nbconvert_exporter": "python",
   "pygments_lexer": "ipython3"
  }
 },
 "nbformat": 4,
 "nbformat_minor": 2
}
